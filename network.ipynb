{
 "cells": [
  {
   "cell_type": "markdown",
   "metadata": {},
   "source": [
    "Objective: Develop a method to detect malicious websites from its DOM using Graph Neural Networks (GNN) to effectively utilize structural information in HTML.\n",
    "\n",
    "Approach: We will represent HTML documents as graphs based on their Document Object Model (DOM) structure. Local features of each node, including\n",
    "node attributes, will be extracted using Recurrent Neural Networks (RNN) or\n",
    "LSTM. Then, we will utilize GNN [4], graph convolutional network (GCN) [5]\n",
    "specifically, to model the relationships between nodes, capturing structural information within the HTML document. The final graph-level representation will\n",
    "be fed into a fully connected layer for classification together with the URL data,\n",
    "embedded using RNN. This approach may also be easily extended to multilabel\n",
    "classification by using a sigmoid activation function in the output layer."
   ]
  },
  {
   "cell_type": "code",
   "execution_count": 1,
   "metadata": {},
   "outputs": [],
   "source": [
    "import torch\n",
    "import torch.nn as nn\n",
    "import torch.nn.functional as F\n",
    "from torch_geometric.nn import GCNConv\n",
    "from torch_geometric.data import Data\n",
    "from torch_geometric.data import DataLoader\n",
    "from torch_geometric.datasets import TUDataset\n",
    "from torch_geometric.datasets import Planetoid\n",
    "from torch_geometric.utils import to_networkx\n",
    "import networkx as nx\n",
    "import numpy as np\n",
    "import pandas as pd\n",
    "import matplotlib.pyplot as plt\n",
    "from sklearn.model_selection import train_test_split\n",
    "from sklearn.metrics import accuracy_score\n",
    "from sklearn.metrics import confusion_matrix\n",
    "from sklearn.metrics import classification_report\n",
    "from collections import Counter\n",
    "import json\n",
    "import os\n",
    "import networkx as nx\n",
    "from torch_geometric.data import Data\n",
    "from pyvis.network import Network\n",
    "from datasets import Dataset\n",
    "import torchtext\n",
    "from tqdm import tqdm"
   ]
  },
  {
   "cell_type": "markdown",
   "metadata": {},
   "source": [
    "# Model"
   ]
  },
  {
   "cell_type": "markdown",
   "metadata": {},
   "source": [
    "Model first takes node attributes and tags and embeds them using embedding layer and RNN. Then, it uses GCN to propagate information between nodes. Then it applies average pooling to get graph level representation and passes it through a fully connected layer for classification."
   ]
  },
  {
   "cell_type": "code",
   "execution_count": 21,
   "metadata": {},
   "outputs": [],
   "source": [
    "from torch_geometric.nn import global_mean_pool \n",
    "\n",
    "class GCN(nn.Module):\n",
    "    def __init__(self, hidden_channels, num_classes, tag_vocab, attr_vocab):\n",
    "        super(GCN, self).__init__()\n",
    "        self.debug, self.logged_once = False, False\n",
    "        self.tag_vocab = tag_vocab\n",
    "        self.attr_vocab = attr_vocab\n",
    "        self.embedding_dim_tag = 16\n",
    "        self.embedding_dim_attr = 32\n",
    "        self.hidden_channels = hidden_channels\n",
    "        self.gcn_hidden_channels = hidden_channels + self.embedding_dim_tag\n",
    "        self.num_classes = num_classes\n",
    "\n",
    "        self.tag_embedding = nn.Embedding(len(tag_vocab['vocab']), self.embedding_dim_tag)\n",
    "        self.attr_embedding = nn.Embedding(len(attr_vocab['vocab']), self.embedding_dim_attr)\n",
    "        self.rnn = nn.LSTM(self.embedding_dim_attr, self.hidden_channels, batch_first=True)\n",
    "        self.conv1 = GCNConv(self.gcn_hidden_channels, self.gcn_hidden_channels)\n",
    "        self.conv2 = GCNConv(self.gcn_hidden_channels, self.gcn_hidden_channels)\n",
    "        self.fc = nn.Linear(self.gcn_hidden_channels, self.num_classes)\n",
    "\n",
    "    def log_shape(self, name, x):\n",
    "        if self.debug and not self.logged_once:\n",
    "            print(f'{name} shape: {x.shape}')\n",
    "\n",
    "    def forward(self, tags, attrs, edge_index, batch):\n",
    "        # tags: [num nodes]\n",
    "        # attrs: [num nodes, seq len (128)]\n",
    "        # edge_index: [2, num edges]\n",
    "\n",
    "        # embed tags and attributes\n",
    "        tag_embeds = self.tag_embedding(tags) # [num nodes, embedding dim]\n",
    "        attr_embeds = self.attr_embedding(attrs) # [num nodes, seq len, embedding dim]\n",
    "        \n",
    "        self.log_shape('tag_embeds', tag_embeds)\n",
    "        self.log_shape('attr_embeds', attr_embeds)\n",
    "\n",
    "        # rnn\n",
    "        _, hidden = self.rnn(attr_embeds) # [1, num nodes, hidden channels]\n",
    "        hidden = hidden[0].squeeze(0) # [num nodes, hidden channels]\n",
    "        self.log_shape('hidden2', hidden)\n",
    "\n",
    "        # concatenate tag and attribute embeddings\n",
    "        x = torch.cat([tag_embeds, hidden], dim=1) # [num nodes, hidden channels + embedding dim] \n",
    "        self.log_shape('concatenated', x)\n",
    "        self.log_shape('edge_index', edge_index)\n",
    "\n",
    "        # propagate graph convolutional neural network\n",
    "        x = self.conv1(x, edge_index) # [num nodes, hidden channels + embedding dim]\n",
    "        self.log_shape('conv1', x)\n",
    "        x = F.relu(x)\n",
    "        x = self.conv2(x, edge_index) # [num nodes, hidden channels + embedding dim]\n",
    "        self.log_shape('conv2', x)\n",
    "        x = F.relu(x)\n",
    "\n",
    "        # global pooling\n",
    "        x = global_mean_pool(x, batch) # [batch size, hidden channels + embedding dim]\n",
    "        self.log_shape('global_pooling', x)\n",
    "\n",
    "        # fully connected layer\n",
    "        x = F.dropout(x, p=0.6, training=self.training)\n",
    "        x = self.fc(x) # [batch size, num classes]\n",
    "        self.log_shape('fc', x)\n",
    "\n",
    "        if self.debug:\n",
    "            self.logged_once = True\n",
    "            \n",
    "        return x"
   ]
  },
  {
   "cell_type": "markdown",
   "metadata": {},
   "source": [
    "# Train"
   ]
  },
  {
   "cell_type": "code",
   "execution_count": 3,
   "metadata": {},
   "outputs": [],
   "source": [
    "from torch_geometric.data import InMemoryDataset\n",
    "\n",
    "class CustomDataset(InMemoryDataset):\n",
    "    def __init__(self, root, split, transform=None, pre_transform=None):\n",
    "        self.split = split\n",
    "        super().__init__(root, transform, pre_transform)\n",
    "        self.load(self.processed_paths[0])\n",
    "\n",
    "    @property\n",
    "    def raw_file_names(self):\n",
    "        return []\n",
    "\n",
    "    @property\n",
    "    def processed_file_names(self):\n",
    "        return [f'{self.split}_graph_data.pt']\n",
    "\n",
    "    def download(self):\n",
    "        pass\n",
    "\n",
    "    def process(self):\n",
    "        pass"
   ]
  },
  {
   "cell_type": "code",
   "execution_count": 4,
   "metadata": {},
   "outputs": [],
   "source": [
    "train_dataset = CustomDataset(root='./data/preprocessed_data', split='train')\n",
    "test_dataset = CustomDataset(root='./data/preprocessed_data', split='test')"
   ]
  },
  {
   "cell_type": "code",
   "execution_count": 5,
   "metadata": {},
   "outputs": [
    {
     "name": "stdout",
     "output_type": "stream",
     "text": [
      "Vocab loaded from disk.\n"
     ]
    }
   ],
   "source": [
    "import pickle\n",
    "\n",
    "\n",
    "with open('./data/preprocessed_data/attr_vocab.pkl', 'rb') as f:\n",
    "    attr_vocab = pickle.load(f)\n",
    "with open('./data/preprocessed_data/tag_vocab.pkl', 'rb') as f:\n",
    "    tag_vocab = pickle.load(f)\n",
    "print('Vocab loaded from disk.')"
   ]
  },
  {
   "cell_type": "code",
   "execution_count": 6,
   "metadata": {},
   "outputs": [],
   "source": [
    "from torch_geometric.loader import DataLoader\n",
    "from sklearn.model_selection import train_test_split\n",
    "\n",
    "def get_data_loader(dataset, batch_size=16):\n",
    "    return DataLoader(dataset, batch_size=batch_size, shuffle=True)"
   ]
  },
  {
   "cell_type": "code",
   "execution_count": 7,
   "metadata": {},
   "outputs": [
    {
     "name": "stdout",
     "output_type": "stream",
     "text": [
      "683 293\n",
      "DataBatch(edge_index=[2, 18418], y=[16], tags=[9225], attrs=[9225, 128], num_nodes=9225, batch=[9225], ptr=[17])\n"
     ]
    }
   ],
   "source": [
    "train_loader, test_loader = get_data_loader(train_dataset), get_data_loader(test_dataset)\n",
    "print(len(train_loader), len(test_loader))\n",
    "\n",
    "for batch in train_loader:\n",
    "    print(batch)\n",
    "    break"
   ]
  },
  {
   "cell_type": "code",
   "execution_count": 28,
   "metadata": {},
   "outputs": [],
   "source": [
    "import torch\n",
    "import torch.nn as nn\n",
    "import torch.optim as optim\n",
    "import torch.nn.functional as F\n",
    "from torch.utils.tensorboard import SummaryWriter\n",
    "from sklearn.metrics import f1_score, balanced_accuracy_score\n",
    "from tqdm import tqdm\n",
    "import numpy as np\n",
    "import time\n",
    "import os\n",
    "\n",
    "# Create the directories for checkpoints\n",
    "checkpoint_dir = \"./checkpoints_5e4\"\n",
    "os.makedirs(checkpoint_dir, exist_ok=True)\n",
    "\n",
    "# Set up tensorboard writer\n",
    "writer = SummaryWriter(log_dir=\"./runs/gnn_experiment_5e4\")\n",
    "\n",
    "# Define checkpoint interval\n",
    "checkpoint_interval = 5\n",
    "\n",
    "# Modified training epoch function with TQDM progress bar\n",
    "def train_epoch(model, device, train_loader, optimizer, criterion, epoch):\n",
    "    model.train()\n",
    "    epoch_loss = 0\n",
    "    y_true, y_pred = [], []\n",
    "    \n",
    "    with tqdm(total=len(train_loader), desc=\"    Training\", leave=True) as pbar:\n",
    "        for batch_idx, data in enumerate(train_loader):\n",
    "            tags, attrs, edge_index, y, batch = data.tags.to(device), data.attrs.to(device), data.edge_index.to(device), data.y.to(device), data.batch.to(device)\n",
    "            optimizer.zero_grad()\n",
    "            output = model(tags, attrs, edge_index, batch)\n",
    "            loss = criterion(output, y)\n",
    "            loss.backward()\n",
    "            optimizer.step()\n",
    "            \n",
    "            y_true.append(data.y)\n",
    "            y_pred.append(output.argmax(dim=1))\n",
    "            epoch_loss += loss.item()\n",
    "            \n",
    "            writer.add_scalar('Train/Loss_per_batch', loss.item(), epoch * len(train_loader) + batch_idx)\n",
    "\n",
    "            pbar.update(1)\n",
    "    \n",
    "    y_true = torch.cat(y_true, dim=0).cpu().numpy()\n",
    "    y_pred = torch.cat(y_pred, dim=0).cpu().numpy()\n",
    "    train_acc = balanced_accuracy_score(y_true, y_pred)\n",
    "    train_f1 = f1_score(y_true, y_pred, average='weighted')\n",
    "    return epoch_loss / len(train_loader), train_acc, train_f1\n",
    "\n",
    "# Modified evaluation function with TQDM progress bar\n",
    "def evaluate(model, device, data_loader, criterion, epoch):\n",
    "    model.eval()\n",
    "    y_true, y_pred = [], []\n",
    "    losses = []\n",
    "    \n",
    "    with tqdm(total=len(data_loader), desc=\"    Testing\", leave=True) as pbar:\n",
    "        for batch_idx, data in enumerate(data_loader):\n",
    "            tags, attrs, edge_index, y, batch = data.tags.to(device), data.attrs.to(device), data.edge_index.to(device), data.y.to(device), data.batch.to(device)\n",
    "            with torch.no_grad():\n",
    "                output = model(tags, attrs, edge_index, batch)\n",
    "            y_true.append(data.y)\n",
    "            y_pred.append(output.argmax(dim=1))\n",
    "            loss = criterion(output, y).item()\n",
    "            losses.append(loss)\n",
    "            \n",
    "            writer.add_scalar('Test/Loss_per_batch', loss, epoch * len(data_loader) + batch_idx)\n",
    "\n",
    "            pbar.update(1)\n",
    "    \n",
    "    y_true = torch.cat(y_true, dim=0).cpu().numpy()\n",
    "    y_pred = torch.cat(y_pred, dim=0).cpu().numpy()\n",
    "    test_acc = balanced_accuracy_score(y_true, y_pred)\n",
    "    test_f1 = f1_score(y_true, y_pred, average='weighted')\n",
    "    return test_acc, test_f1, np.mean(losses)\n",
    "\n",
    "# Modified training function with checkpointing and TQDM progress bar\n",
    "def train(model, device, train_loader, test_loader, optimizer, criterion, epochs):\n",
    "    for epoch in range(epochs):\n",
    "        start_time = time.time()\n",
    "        \n",
    "        print(f\"Epoch {epoch + 1}:\")\n",
    "\n",
    "        # Training Phase\n",
    "        train_loss, train_acc, train_f1 = train_epoch(model, device, train_loader, optimizer, criterion, epoch)\n",
    "        writer.add_scalar('Train/Loss', train_loss, epoch)\n",
    "        writer.add_scalar('Train/BalancedAccuracy', train_acc, epoch)\n",
    "        writer.add_scalar('Train/F1Weighted', train_f1, epoch)\n",
    "\n",
    "        # Testing Phase\n",
    "        test_acc, test_f1, test_loss = evaluate(model, device, test_loader, criterion, epoch)\n",
    "        writer.add_scalar('Test/Loss', test_loss, epoch)\n",
    "        writer.add_scalar('Test/BalancedAccuracy', test_acc, epoch)\n",
    "        writer.add_scalar('Test/F1Weighted', test_f1, epoch)\n",
    "\n",
    "        end_time = time.time()\n",
    "        elapsed_time = end_time - start_time\n",
    "\n",
    "        print(f\"Time: {elapsed_time:.2f} s | Train Loss: {train_loss:.2f} | Train Acc: {train_acc:.2f} | Train F1: {train_f1:.2f} | \"\n",
    "              f\"Test Loss: {test_loss:.2f} | Test Acc: {test_acc:.2f} | Test F1: {test_f1:.2f}\\n\")\n",
    "\n",
    "        # Save checkpoint every 'checkpoint_interval' epochs\n",
    "        if (epoch + 1) % checkpoint_interval == 0:\n",
    "            checkpoint_path = os.path.join(checkpoint_dir, f\"checkpoint_epoch_{epoch + 1}.pt\")\n",
    "            torch.save({\n",
    "                'epoch': epoch + 1,\n",
    "                'model_state_dict': model.state_dict(),\n",
    "                'optimizer_state_dict': optimizer.state_dict(),\n",
    "                'loss': train_loss,\n",
    "            }, checkpoint_path)"
   ]
  },
  {
   "cell_type": "code",
   "execution_count": 29,
   "metadata": {
    "pycharm": {
     "is_executing": true
    }
   },
   "outputs": [
    {
     "name": "stdout",
     "output_type": "stream",
     "text": [
      "Epoch 1:\n"
     ]
    },
    {
     "name": "stderr",
     "output_type": "stream",
     "text": [
      "    Training: 100%|██████████████████████████████████████████████████████████████████| 683/683 [02:14<00:00,  5.08it/s]\n",
      "    Testing: 100%|███████████████████████████████████████████████████████████████████| 293/293 [00:04<00:00, 62.32it/s]\n"
     ]
    },
    {
     "name": "stdout",
     "output_type": "stream",
     "text": [
      "Time: 139.10 s | Train Loss: 0.63 | Train Acc: 0.56 | Train F1: 0.58 | Test Loss: 0.61 | Test Acc: 0.59 | Test F1: 0.60\n",
      "\n",
      "Epoch 2:\n"
     ]
    },
    {
     "name": "stderr",
     "output_type": "stream",
     "text": [
      "    Training: 100%|██████████████████████████████████████████████████████████████████| 683/683 [00:42<00:00, 16.13it/s]\n",
      "    Testing: 100%|███████████████████████████████████████████████████████████████████| 293/293 [00:04<00:00, 62.13it/s]\n"
     ]
    },
    {
     "name": "stdout",
     "output_type": "stream",
     "text": [
      "Time: 47.09 s | Train Loss: 0.58 | Train Acc: 0.65 | Train F1: 0.68 | Test Loss: 0.52 | Test Acc: 0.76 | Test F1: 0.78\n",
      "\n",
      "Epoch 3:\n"
     ]
    },
    {
     "name": "stderr",
     "output_type": "stream",
     "text": [
      "    Training: 100%|██████████████████████████████████████████████████████████████████| 683/683 [00:42<00:00, 16.14it/s]\n",
      "    Testing: 100%|███████████████████████████████████████████████████████████████████| 293/293 [00:04<00:00, 62.14it/s]\n"
     ]
    },
    {
     "name": "stdout",
     "output_type": "stream",
     "text": [
      "Time: 47.06 s | Train Loss: 0.48 | Train Acc: 0.78 | Train F1: 0.79 | Test Loss: 0.44 | Test Acc: 0.84 | Test F1: 0.83\n",
      "\n",
      "Epoch 4:\n"
     ]
    },
    {
     "name": "stderr",
     "output_type": "stream",
     "text": [
      "    Training: 100%|██████████████████████████████████████████████████████████████████| 683/683 [00:42<00:00, 16.10it/s]\n",
      "    Testing: 100%|███████████████████████████████████████████████████████████████████| 293/293 [00:04<00:00, 62.33it/s]\n"
     ]
    },
    {
     "name": "stdout",
     "output_type": "stream",
     "text": [
      "Time: 47.15 s | Train Loss: 0.39 | Train Acc: 0.85 | Train F1: 0.85 | Test Loss: 0.36 | Test Acc: 0.87 | Test F1: 0.87\n",
      "\n",
      "Epoch 5:\n"
     ]
    },
    {
     "name": "stderr",
     "output_type": "stream",
     "text": [
      "    Training: 100%|██████████████████████████████████████████████████████████████████| 683/683 [01:29<00:00,  7.61it/s]\n",
      "    Testing: 100%|███████████████████████████████████████████████████████████████████| 293/293 [00:10<00:00, 27.72it/s]\n"
     ]
    },
    {
     "name": "stdout",
     "output_type": "stream",
     "text": [
      "Time: 100.32 s | Train Loss: 0.32 | Train Acc: 0.88 | Train F1: 0.88 | Test Loss: 0.32 | Test Acc: 0.88 | Test F1: 0.89\n",
      "\n",
      "Epoch 6:\n"
     ]
    },
    {
     "name": "stderr",
     "output_type": "stream",
     "text": [
      "    Training: 100%|██████████████████████████████████████████████████████████████████| 683/683 [02:02<00:00,  5.59it/s]\n",
      "    Testing: 100%|███████████████████████████████████████████████████████████████████| 293/293 [00:11<00:00, 25.42it/s]\n"
     ]
    },
    {
     "name": "stdout",
     "output_type": "stream",
     "text": [
      "Time: 133.65 s | Train Loss: 0.27 | Train Acc: 0.90 | Train F1: 0.90 | Test Loss: 0.31 | Test Acc: 0.89 | Test F1: 0.89\n",
      "\n",
      "Epoch 7:\n"
     ]
    },
    {
     "name": "stderr",
     "output_type": "stream",
     "text": [
      "    Training: 100%|██████████████████████████████████████████████████████████████████| 683/683 [02:01<00:00,  5.62it/s]\n",
      "    Testing: 100%|███████████████████████████████████████████████████████████████████| 293/293 [00:10<00:00, 28.33it/s]\n"
     ]
    },
    {
     "name": "stdout",
     "output_type": "stream",
     "text": [
      "Time: 131.86 s | Train Loss: 0.23 | Train Acc: 0.92 | Train F1: 0.92 | Test Loss: 0.31 | Test Acc: 0.90 | Test F1: 0.90\n",
      "\n",
      "Epoch 8:\n"
     ]
    },
    {
     "name": "stderr",
     "output_type": "stream",
     "text": [
      "    Training: 100%|██████████████████████████████████████████████████████████████████| 683/683 [01:52<00:00,  6.07it/s]\n",
      "    Testing: 100%|███████████████████████████████████████████████████████████████████| 293/293 [00:10<00:00, 28.36it/s]\n"
     ]
    },
    {
     "name": "stdout",
     "output_type": "stream",
     "text": [
      "Time: 122.94 s | Train Loss: 0.21 | Train Acc: 0.93 | Train F1: 0.93 | Test Loss: 0.29 | Test Acc: 0.90 | Test F1: 0.90\n",
      "\n",
      "Epoch 9:\n"
     ]
    },
    {
     "name": "stderr",
     "output_type": "stream",
     "text": [
      "    Training: 100%|██████████████████████████████████████████████████████████████████| 683/683 [01:48<00:00,  6.27it/s]\n",
      "    Testing: 100%|███████████████████████████████████████████████████████████████████| 293/293 [00:09<00:00, 32.24it/s]\n"
     ]
    },
    {
     "name": "stdout",
     "output_type": "stream",
     "text": [
      "Time: 118.07 s | Train Loss: 0.19 | Train Acc: 0.94 | Train F1: 0.94 | Test Loss: 0.34 | Test Acc: 0.90 | Test F1: 0.91\n",
      "\n",
      "Epoch 10:\n"
     ]
    },
    {
     "name": "stderr",
     "output_type": "stream",
     "text": [
      "    Training: 100%|██████████████████████████████████████████████████████████████████| 683/683 [01:47<00:00,  6.33it/s]\n",
      "    Testing: 100%|███████████████████████████████████████████████████████████████████| 293/293 [00:09<00:00, 32.27it/s]\n"
     ]
    },
    {
     "name": "stdout",
     "output_type": "stream",
     "text": [
      "Time: 116.93 s | Train Loss: 0.16 | Train Acc: 0.94 | Train F1: 0.94 | Test Loss: 0.29 | Test Acc: 0.90 | Test F1: 0.90\n",
      "\n",
      "Epoch 11:\n"
     ]
    },
    {
     "name": "stderr",
     "output_type": "stream",
     "text": [
      "    Training: 100%|██████████████████████████████████████████████████████████████████| 683/683 [01:47<00:00,  6.32it/s]\n",
      "    Testing: 100%|███████████████████████████████████████████████████████████████████| 293/293 [00:09<00:00, 32.52it/s]\n"
     ]
    },
    {
     "name": "stdout",
     "output_type": "stream",
     "text": [
      "Time: 117.03 s | Train Loss: 0.15 | Train Acc: 0.95 | Train F1: 0.95 | Test Loss: 0.32 | Test Acc: 0.90 | Test F1: 0.91\n",
      "\n",
      "Epoch 12:\n"
     ]
    },
    {
     "name": "stderr",
     "output_type": "stream",
     "text": [
      "    Training: 100%|██████████████████████████████████████████████████████████████████| 683/683 [01:47<00:00,  6.35it/s]\n",
      "    Testing: 100%|███████████████████████████████████████████████████████████████████| 293/293 [00:09<00:00, 32.34it/s]\n"
     ]
    },
    {
     "name": "stdout",
     "output_type": "stream",
     "text": [
      "Time: 116.58 s | Train Loss: 0.13 | Train Acc: 0.95 | Train F1: 0.95 | Test Loss: 0.33 | Test Acc: 0.91 | Test F1: 0.91\n",
      "\n",
      "Epoch 13:\n"
     ]
    },
    {
     "name": "stderr",
     "output_type": "stream",
     "text": [
      "    Training: 100%|██████████████████████████████████████████████████████████████████| 683/683 [01:47<00:00,  6.34it/s]\n",
      "    Testing: 100%|███████████████████████████████████████████████████████████████████| 293/293 [00:09<00:00, 32.22it/s]\n"
     ]
    },
    {
     "name": "stdout",
     "output_type": "stream",
     "text": [
      "Time: 116.78 s | Train Loss: 0.12 | Train Acc: 0.95 | Train F1: 0.95 | Test Loss: 0.33 | Test Acc: 0.91 | Test F1: 0.91\n",
      "\n",
      "Epoch 14:\n"
     ]
    },
    {
     "name": "stderr",
     "output_type": "stream",
     "text": [
      "    Training: 100%|██████████████████████████████████████████████████████████████████| 683/683 [01:48<00:00,  6.31it/s]\n",
      "    Testing: 100%|███████████████████████████████████████████████████████████████████| 293/293 [00:09<00:00, 32.33it/s]\n"
     ]
    },
    {
     "name": "stdout",
     "output_type": "stream",
     "text": [
      "Time: 117.25 s | Train Loss: 0.11 | Train Acc: 0.96 | Train F1: 0.96 | Test Loss: 0.37 | Test Acc: 0.91 | Test F1: 0.92\n",
      "\n",
      "Epoch 15:\n"
     ]
    },
    {
     "name": "stderr",
     "output_type": "stream",
     "text": [
      "    Training: 100%|██████████████████████████████████████████████████████████████████| 683/683 [01:48<00:00,  6.32it/s]\n",
      "    Testing: 100%|███████████████████████████████████████████████████████████████████| 293/293 [00:09<00:00, 32.26it/s]\n"
     ]
    },
    {
     "name": "stdout",
     "output_type": "stream",
     "text": [
      "Time: 117.13 s | Train Loss: 0.10 | Train Acc: 0.96 | Train F1: 0.96 | Test Loss: 0.42 | Test Acc: 0.90 | Test F1: 0.91\n",
      "\n",
      "Epoch 16:\n"
     ]
    },
    {
     "name": "stderr",
     "output_type": "stream",
     "text": [
      "    Training: 100%|██████████████████████████████████████████████████████████████████| 683/683 [01:47<00:00,  6.37it/s]\n",
      "    Testing: 100%|███████████████████████████████████████████████████████████████████| 293/293 [00:09<00:00, 32.39it/s]\n"
     ]
    },
    {
     "name": "stdout",
     "output_type": "stream",
     "text": [
      "Time: 116.36 s | Train Loss: 0.09 | Train Acc: 0.97 | Train F1: 0.97 | Test Loss: 0.40 | Test Acc: 0.91 | Test F1: 0.91\n",
      "\n",
      "Epoch 17:\n"
     ]
    },
    {
     "name": "stderr",
     "output_type": "stream",
     "text": [
      "    Training: 100%|██████████████████████████████████████████████████████████████████| 683/683 [01:48<00:00,  6.32it/s]\n",
      "    Testing: 100%|███████████████████████████████████████████████████████████████████| 293/293 [00:09<00:00, 32.33it/s]\n"
     ]
    },
    {
     "name": "stdout",
     "output_type": "stream",
     "text": [
      "Time: 117.12 s | Train Loss: 0.08 | Train Acc: 0.97 | Train F1: 0.97 | Test Loss: 0.39 | Test Acc: 0.91 | Test F1: 0.91\n",
      "\n",
      "Epoch 18:\n"
     ]
    },
    {
     "name": "stderr",
     "output_type": "stream",
     "text": [
      "    Training: 100%|██████████████████████████████████████████████████████████████████| 683/683 [01:47<00:00,  6.34it/s]\n",
      "    Testing: 100%|███████████████████████████████████████████████████████████████████| 293/293 [00:09<00:00, 32.29it/s]\n"
     ]
    },
    {
     "name": "stdout",
     "output_type": "stream",
     "text": [
      "Time: 116.85 s | Train Loss: 0.08 | Train Acc: 0.97 | Train F1: 0.97 | Test Loss: 0.38 | Test Acc: 0.91 | Test F1: 0.91\n",
      "\n",
      "Epoch 19:\n"
     ]
    },
    {
     "name": "stderr",
     "output_type": "stream",
     "text": [
      "    Training: 100%|██████████████████████████████████████████████████████████████████| 683/683 [01:48<00:00,  6.32it/s]\n",
      "    Testing: 100%|███████████████████████████████████████████████████████████████████| 293/293 [00:09<00:00, 32.19it/s]\n"
     ]
    },
    {
     "name": "stdout",
     "output_type": "stream",
     "text": [
      "Time: 117.14 s | Train Loss: 0.07 | Train Acc: 0.98 | Train F1: 0.98 | Test Loss: 0.40 | Test Acc: 0.91 | Test F1: 0.91\n",
      "\n",
      "Epoch 20:\n"
     ]
    },
    {
     "name": "stderr",
     "output_type": "stream",
     "text": [
      "    Training: 100%|██████████████████████████████████████████████████████████████████| 683/683 [01:47<00:00,  6.36it/s]\n",
      "    Testing: 100%|███████████████████████████████████████████████████████████████████| 293/293 [00:09<00:00, 32.38it/s]\n"
     ]
    },
    {
     "name": "stdout",
     "output_type": "stream",
     "text": [
      "Time: 116.53 s | Train Loss: 0.06 | Train Acc: 0.98 | Train F1: 0.98 | Test Loss: 0.46 | Test Acc: 0.90 | Test F1: 0.91\n",
      "\n",
      "Epoch 21:\n"
     ]
    },
    {
     "name": "stderr",
     "output_type": "stream",
     "text": [
      "    Training: 100%|██████████████████████████████████████████████████████████████████| 683/683 [01:48<00:00,  6.29it/s]\n",
      "    Testing: 100%|███████████████████████████████████████████████████████████████████| 293/293 [00:09<00:00, 32.22it/s]\n"
     ]
    },
    {
     "name": "stdout",
     "output_type": "stream",
     "text": [
      "Time: 117.79 s | Train Loss: 0.06 | Train Acc: 0.98 | Train F1: 0.98 | Test Loss: 0.43 | Test Acc: 0.91 | Test F1: 0.92\n",
      "\n",
      "Epoch 22:\n"
     ]
    },
    {
     "name": "stderr",
     "output_type": "stream",
     "text": [
      "    Training: 100%|██████████████████████████████████████████████████████████████████| 683/683 [01:48<00:00,  6.30it/s]\n",
      "    Testing: 100%|███████████████████████████████████████████████████████████████████| 293/293 [00:09<00:00, 32.25it/s]\n"
     ]
    },
    {
     "name": "stdout",
     "output_type": "stream",
     "text": [
      "Time: 117.59 s | Train Loss: 0.05 | Train Acc: 0.98 | Train F1: 0.98 | Test Loss: 0.43 | Test Acc: 0.90 | Test F1: 0.91\n",
      "\n",
      "Epoch 23:\n"
     ]
    },
    {
     "name": "stderr",
     "output_type": "stream",
     "text": [
      "    Training: 100%|██████████████████████████████████████████████████████████████████| 683/683 [01:48<00:00,  6.29it/s]\n",
      "    Testing: 100%|███████████████████████████████████████████████████████████████████| 293/293 [00:09<00:00, 32.23it/s]\n"
     ]
    },
    {
     "name": "stdout",
     "output_type": "stream",
     "text": [
      "Time: 117.75 s | Train Loss: 0.05 | Train Acc: 0.98 | Train F1: 0.98 | Test Loss: 0.40 | Test Acc: 0.91 | Test F1: 0.92\n",
      "\n",
      "Epoch 24:\n"
     ]
    },
    {
     "name": "stderr",
     "output_type": "stream",
     "text": [
      "    Training: 100%|██████████████████████████████████████████████████████████████████| 683/683 [01:48<00:00,  6.29it/s]\n",
      "    Testing: 100%|███████████████████████████████████████████████████████████████████| 293/293 [00:09<00:00, 32.15it/s]\n"
     ]
    },
    {
     "name": "stdout",
     "output_type": "stream",
     "text": [
      "Time: 117.75 s | Train Loss: 0.04 | Train Acc: 0.98 | Train F1: 0.98 | Test Loss: 0.44 | Test Acc: 0.91 | Test F1: 0.92\n",
      "\n",
      "Epoch 25:\n"
     ]
    },
    {
     "name": "stderr",
     "output_type": "stream",
     "text": [
      "    Training: 100%|██████████████████████████████████████████████████████████████████| 683/683 [01:48<00:00,  6.30it/s]\n",
      "    Testing: 100%|███████████████████████████████████████████████████████████████████| 293/293 [00:09<00:00, 32.14it/s]\n"
     ]
    },
    {
     "name": "stdout",
     "output_type": "stream",
     "text": [
      "Time: 117.62 s | Train Loss: 0.03 | Train Acc: 0.99 | Train F1: 0.99 | Test Loss: 0.46 | Test Acc: 0.91 | Test F1: 0.92\n",
      "\n",
      "Epoch 26:\n"
     ]
    },
    {
     "name": "stderr",
     "output_type": "stream",
     "text": [
      "    Training: 100%|██████████████████████████████████████████████████████████████████| 683/683 [01:48<00:00,  6.29it/s]\n",
      "    Testing: 100%|███████████████████████████████████████████████████████████████████| 293/293 [00:09<00:00, 32.22it/s]\n"
     ]
    },
    {
     "name": "stdout",
     "output_type": "stream",
     "text": [
      "Time: 117.63 s | Train Loss: 0.04 | Train Acc: 0.99 | Train F1: 0.99 | Test Loss: 0.49 | Test Acc: 0.91 | Test F1: 0.91\n",
      "\n",
      "Epoch 27:\n"
     ]
    },
    {
     "name": "stderr",
     "output_type": "stream",
     "text": [
      "    Training: 100%|██████████████████████████████████████████████████████████████████| 683/683 [01:48<00:00,  6.30it/s]\n",
      "    Testing: 100%|███████████████████████████████████████████████████████████████████| 293/293 [00:09<00:00, 31.89it/s]\n"
     ]
    },
    {
     "name": "stdout",
     "output_type": "stream",
     "text": [
      "Time: 117.65 s | Train Loss: 0.03 | Train Acc: 0.99 | Train F1: 0.99 | Test Loss: 0.91 | Test Acc: 0.89 | Test F1: 0.91\n",
      "\n",
      "Epoch 28:\n"
     ]
    },
    {
     "name": "stderr",
     "output_type": "stream",
     "text": [
      "    Training: 100%|██████████████████████████████████████████████████████████████████| 683/683 [01:48<00:00,  6.27it/s]\n",
      "    Testing: 100%|███████████████████████████████████████████████████████████████████| 293/293 [00:09<00:00, 32.20it/s]\n"
     ]
    },
    {
     "name": "stdout",
     "output_type": "stream",
     "text": [
      "Time: 118.07 s | Train Loss: 0.03 | Train Acc: 0.99 | Train F1: 0.99 | Test Loss: 0.52 | Test Acc: 0.91 | Test F1: 0.92\n",
      "\n",
      "Epoch 29:\n"
     ]
    },
    {
     "name": "stderr",
     "output_type": "stream",
     "text": [
      "    Training: 100%|██████████████████████████████████████████████████████████████████| 683/683 [01:48<00:00,  6.31it/s]\n",
      "    Testing: 100%|███████████████████████████████████████████████████████████████████| 293/293 [00:09<00:00, 32.12it/s]\n"
     ]
    },
    {
     "name": "stdout",
     "output_type": "stream",
     "text": [
      "Time: 117.39 s | Train Loss: 0.03 | Train Acc: 0.99 | Train F1: 0.99 | Test Loss: 0.53 | Test Acc: 0.91 | Test F1: 0.92\n",
      "\n",
      "Epoch 30:\n"
     ]
    },
    {
     "name": "stderr",
     "output_type": "stream",
     "text": [
      "    Training: 100%|██████████████████████████████████████████████████████████████████| 683/683 [01:47<00:00,  6.33it/s]\n",
      "    Testing: 100%|███████████████████████████████████████████████████████████████████| 293/293 [00:09<00:00, 32.11it/s]\n"
     ]
    },
    {
     "name": "stdout",
     "output_type": "stream",
     "text": [
      "Time: 116.99 s | Train Loss: 0.02 | Train Acc: 0.99 | Train F1: 0.99 | Test Loss: 0.50 | Test Acc: 0.91 | Test F1: 0.92\n",
      "\n",
      "Epoch 31:\n"
     ]
    },
    {
     "name": "stderr",
     "output_type": "stream",
     "text": [
      "    Training: 100%|██████████████████████████████████████████████████████████████████| 683/683 [01:47<00:00,  6.33it/s]\n",
      "    Testing: 100%|███████████████████████████████████████████████████████████████████| 293/293 [00:09<00:00, 32.20it/s]\n"
     ]
    },
    {
     "name": "stdout",
     "output_type": "stream",
     "text": [
      "Time: 116.96 s | Train Loss: 0.02 | Train Acc: 0.99 | Train F1: 0.99 | Test Loss: 0.45 | Test Acc: 0.91 | Test F1: 0.92\n",
      "\n",
      "Epoch 32:\n"
     ]
    },
    {
     "name": "stderr",
     "output_type": "stream",
     "text": [
      "    Training: 100%|██████████████████████████████████████████████████████████████████| 683/683 [01:47<00:00,  6.33it/s]\n",
      "    Testing: 100%|███████████████████████████████████████████████████████████████████| 293/293 [00:09<00:00, 32.29it/s]\n"
     ]
    },
    {
     "name": "stdout",
     "output_type": "stream",
     "text": [
      "Time: 116.95 s | Train Loss: 0.02 | Train Acc: 0.99 | Train F1: 0.99 | Test Loss: 0.56 | Test Acc: 0.91 | Test F1: 0.92\n",
      "\n",
      "Epoch 33:\n"
     ]
    },
    {
     "name": "stderr",
     "output_type": "stream",
     "text": [
      "    Training: 100%|██████████████████████████████████████████████████████████████████| 683/683 [02:17<00:00,  4.98it/s]\n",
      "    Testing: 100%|███████████████████████████████████████████████████████████████████| 293/293 [00:20<00:00, 14.31it/s]\n"
     ]
    },
    {
     "name": "stdout",
     "output_type": "stream",
     "text": [
      "Time: 157.62 s | Train Loss: 0.02 | Train Acc: 0.99 | Train F1: 0.99 | Test Loss: 0.52 | Test Acc: 0.91 | Test F1: 0.91\n",
      "\n",
      "Epoch 34:\n"
     ]
    },
    {
     "name": "stderr",
     "output_type": "stream",
     "text": [
      "    Training: 100%|██████████████████████████████████████████████████████████████████| 683/683 [03:34<00:00,  3.18it/s]\n",
      "    Testing: 100%|███████████████████████████████████████████████████████████████████| 293/293 [00:20<00:00, 14.25it/s]\n"
     ]
    },
    {
     "name": "stdout",
     "output_type": "stream",
     "text": [
      "Time: 235.07 s | Train Loss: 0.02 | Train Acc: 0.99 | Train F1: 0.99 | Test Loss: 0.65 | Test Acc: 0.91 | Test F1: 0.92\n",
      "\n",
      "Epoch 35:\n"
     ]
    },
    {
     "name": "stderr",
     "output_type": "stream",
     "text": [
      "    Training: 100%|██████████████████████████████████████████████████████████████████| 683/683 [03:34<00:00,  3.18it/s]\n",
      "    Testing: 100%|███████████████████████████████████████████████████████████████████| 293/293 [00:20<00:00, 14.28it/s]\n"
     ]
    },
    {
     "name": "stdout",
     "output_type": "stream",
     "text": [
      "Time: 235.23 s | Train Loss: 0.02 | Train Acc: 0.99 | Train F1: 0.99 | Test Loss: 0.71 | Test Acc: 0.92 | Test F1: 0.92\n",
      "\n",
      "Epoch 36:\n"
     ]
    },
    {
     "name": "stderr",
     "output_type": "stream",
     "text": [
      "    Training: 100%|██████████████████████████████████████████████████████████████████| 683/683 [03:34<00:00,  3.19it/s]\n",
      "    Testing: 100%|███████████████████████████████████████████████████████████████████| 293/293 [00:20<00:00, 14.28it/s]\n"
     ]
    },
    {
     "name": "stdout",
     "output_type": "stream",
     "text": [
      "Time: 234.97 s | Train Loss: 0.02 | Train Acc: 0.99 | Train F1: 0.99 | Test Loss: 0.61 | Test Acc: 0.91 | Test F1: 0.92\n",
      "\n",
      "Epoch 37:\n"
     ]
    },
    {
     "name": "stderr",
     "output_type": "stream",
     "text": [
      "    Training: 100%|██████████████████████████████████████████████████████████████████| 683/683 [03:35<00:00,  3.16it/s]\n",
      "    Testing: 100%|███████████████████████████████████████████████████████████████████| 293/293 [00:20<00:00, 14.26it/s]\n"
     ]
    },
    {
     "name": "stdout",
     "output_type": "stream",
     "text": [
      "Time: 236.47 s | Train Loss: 0.02 | Train Acc: 0.99 | Train F1: 0.99 | Test Loss: 0.63 | Test Acc: 0.91 | Test F1: 0.92\n",
      "\n",
      "Epoch 38:\n"
     ]
    },
    {
     "name": "stderr",
     "output_type": "stream",
     "text": [
      "    Training: 100%|██████████████████████████████████████████████████████████████████| 683/683 [03:35<00:00,  3.17it/s]\n",
      "    Testing: 100%|███████████████████████████████████████████████████████████████████| 293/293 [00:20<00:00, 14.24it/s]\n"
     ]
    },
    {
     "name": "stdout",
     "output_type": "stream",
     "text": [
      "Time: 235.94 s | Train Loss: 0.01 | Train Acc: 0.99 | Train F1: 0.99 | Test Loss: 0.72 | Test Acc: 0.91 | Test F1: 0.92\n",
      "\n",
      "Epoch 39:\n"
     ]
    },
    {
     "name": "stderr",
     "output_type": "stream",
     "text": [
      "    Training: 100%|██████████████████████████████████████████████████████████████████| 683/683 [03:34<00:00,  3.18it/s]\n",
      "    Testing: 100%|███████████████████████████████████████████████████████████████████| 293/293 [00:20<00:00, 14.22it/s]\n"
     ]
    },
    {
     "name": "stdout",
     "output_type": "stream",
     "text": [
      "Time: 235.43 s | Train Loss: 0.02 | Train Acc: 0.99 | Train F1: 0.99 | Test Loss: 0.63 | Test Acc: 0.92 | Test F1: 0.92\n",
      "\n",
      "Epoch 40:\n"
     ]
    },
    {
     "name": "stderr",
     "output_type": "stream",
     "text": [
      "    Training: 100%|██████████████████████████████████████████████████████████████████| 683/683 [03:38<00:00,  3.13it/s]\n",
      "    Testing: 100%|███████████████████████████████████████████████████████████████████| 293/293 [00:20<00:00, 14.28it/s]\n"
     ]
    },
    {
     "name": "stdout",
     "output_type": "stream",
     "text": [
      "Time: 238.57 s | Train Loss: 0.01 | Train Acc: 0.99 | Train F1: 0.99 | Test Loss: 0.63 | Test Acc: 0.92 | Test F1: 0.92\n",
      "\n",
      "Epoch 41:\n"
     ]
    },
    {
     "name": "stderr",
     "output_type": "stream",
     "text": [
      "    Training: 100%|██████████████████████████████████████████████████████████████████| 683/683 [03:50<00:00,  2.96it/s]\n",
      "    Testing: 100%|███████████████████████████████████████████████████████████████████| 293/293 [00:07<00:00, 39.48it/s]\n"
     ]
    },
    {
     "name": "stdout",
     "output_type": "stream",
     "text": [
      "Time: 238.26 s | Train Loss: 0.01 | Train Acc: 1.00 | Train F1: 1.00 | Test Loss: 0.65 | Test Acc: 0.92 | Test F1: 0.92\n",
      "\n",
      "Epoch 42:\n"
     ]
    },
    {
     "name": "stderr",
     "output_type": "stream",
     "text": [
      "    Training: 100%|██████████████████████████████████████████████████████████████████| 683/683 [00:41<00:00, 16.39it/s]\n",
      "    Testing: 100%|███████████████████████████████████████████████████████████████████| 293/293 [00:04<00:00, 63.66it/s]\n"
     ]
    },
    {
     "name": "stdout",
     "output_type": "stream",
     "text": [
      "Time: 46.30 s | Train Loss: 0.01 | Train Acc: 0.99 | Train F1: 0.99 | Test Loss: 0.67 | Test Acc: 0.92 | Test F1: 0.92\n",
      "\n",
      "Epoch 43:\n"
     ]
    },
    {
     "name": "stderr",
     "output_type": "stream",
     "text": [
      "    Training: 100%|██████████████████████████████████████████████████████████████████| 683/683 [00:41<00:00, 16.37it/s]\n",
      "    Testing: 100%|███████████████████████████████████████████████████████████████████| 293/293 [00:04<00:00, 63.63it/s]\n"
     ]
    },
    {
     "name": "stdout",
     "output_type": "stream",
     "text": [
      "Time: 46.34 s | Train Loss: 0.01 | Train Acc: 0.99 | Train F1: 0.99 | Test Loss: 0.54 | Test Acc: 0.91 | Test F1: 0.91\n",
      "\n",
      "Epoch 44:\n"
     ]
    },
    {
     "name": "stderr",
     "output_type": "stream",
     "text": [
      "    Training: 100%|██████████████████████████████████████████████████████████████████| 683/683 [00:41<00:00, 16.43it/s]\n",
      "    Testing: 100%|███████████████████████████████████████████████████████████████████| 293/293 [00:04<00:00, 63.82it/s]\n"
     ]
    },
    {
     "name": "stdout",
     "output_type": "stream",
     "text": [
      "Time: 46.19 s | Train Loss: 0.01 | Train Acc: 1.00 | Train F1: 1.00 | Test Loss: 0.71 | Test Acc: 0.92 | Test F1: 0.92\n",
      "\n",
      "Epoch 45:\n"
     ]
    },
    {
     "name": "stderr",
     "output_type": "stream",
     "text": [
      "    Training: 100%|██████████████████████████████████████████████████████████████████| 683/683 [00:41<00:00, 16.54it/s]\n",
      "    Testing: 100%|███████████████████████████████████████████████████████████████████| 293/293 [00:04<00:00, 63.67it/s]\n"
     ]
    },
    {
     "name": "stdout",
     "output_type": "stream",
     "text": [
      "Time: 45.93 s | Train Loss: 0.01 | Train Acc: 1.00 | Train F1: 1.00 | Test Loss: 0.69 | Test Acc: 0.91 | Test F1: 0.92\n",
      "\n",
      "Epoch 46:\n"
     ]
    },
    {
     "name": "stderr",
     "output_type": "stream",
     "text": [
      "    Training: 100%|██████████████████████████████████████████████████████████████████| 683/683 [00:41<00:00, 16.49it/s]\n",
      "    Testing: 100%|███████████████████████████████████████████████████████████████████| 293/293 [00:04<00:00, 63.48it/s]\n"
     ]
    },
    {
     "name": "stdout",
     "output_type": "stream",
     "text": [
      "Time: 46.06 s | Train Loss: 0.01 | Train Acc: 1.00 | Train F1: 1.00 | Test Loss: 0.60 | Test Acc: 0.91 | Test F1: 0.92\n",
      "\n",
      "Epoch 47:\n"
     ]
    },
    {
     "name": "stderr",
     "output_type": "stream",
     "text": [
      "    Training: 100%|██████████████████████████████████████████████████████████████████| 683/683 [00:41<00:00, 16.50it/s]\n",
      "    Testing: 100%|███████████████████████████████████████████████████████████████████| 293/293 [00:04<00:00, 63.70it/s]\n"
     ]
    },
    {
     "name": "stdout",
     "output_type": "stream",
     "text": [
      "Time: 46.03 s | Train Loss: 0.01 | Train Acc: 1.00 | Train F1: 1.00 | Test Loss: 0.75 | Test Acc: 0.92 | Test F1: 0.92\n",
      "\n",
      "Epoch 48:\n"
     ]
    },
    {
     "name": "stderr",
     "output_type": "stream",
     "text": [
      "    Training: 100%|██████████████████████████████████████████████████████████████████| 683/683 [00:41<00:00, 16.51it/s]\n",
      "    Testing: 100%|███████████████████████████████████████████████████████████████████| 293/293 [00:04<00:00, 63.79it/s]\n"
     ]
    },
    {
     "name": "stdout",
     "output_type": "stream",
     "text": [
      "Time: 45.98 s | Train Loss: 0.01 | Train Acc: 1.00 | Train F1: 1.00 | Test Loss: 0.63 | Test Acc: 0.92 | Test F1: 0.92\n",
      "\n",
      "Epoch 49:\n"
     ]
    },
    {
     "name": "stderr",
     "output_type": "stream",
     "text": [
      "    Training: 100%|██████████████████████████████████████████████████████████████████| 683/683 [00:41<00:00, 16.49it/s]\n",
      "    Testing: 100%|███████████████████████████████████████████████████████████████████| 293/293 [00:04<00:00, 63.92it/s]\n"
     ]
    },
    {
     "name": "stdout",
     "output_type": "stream",
     "text": [
      "Time: 46.03 s | Train Loss: 0.01 | Train Acc: 1.00 | Train F1: 1.00 | Test Loss: 0.65 | Test Acc: 0.92 | Test F1: 0.92\n",
      "\n",
      "Epoch 50:\n"
     ]
    },
    {
     "name": "stderr",
     "output_type": "stream",
     "text": [
      "    Training: 100%|██████████████████████████████████████████████████████████████████| 683/683 [00:41<00:00, 16.51it/s]\n",
      "    Testing: 100%|███████████████████████████████████████████████████████████████████| 293/293 [00:04<00:00, 63.49it/s]\n"
     ]
    },
    {
     "name": "stdout",
     "output_type": "stream",
     "text": [
      "Time: 46.01 s | Train Loss: 0.01 | Train Acc: 1.00 | Train F1: 1.00 | Test Loss: 0.76 | Test Acc: 0.91 | Test F1: 0.92\n",
      "\n",
      "Epoch 51:\n"
     ]
    },
    {
     "name": "stderr",
     "output_type": "stream",
     "text": [
      "    Training: 100%|██████████████████████████████████████████████████████████████████| 683/683 [00:41<00:00, 16.41it/s]\n",
      "    Testing: 100%|███████████████████████████████████████████████████████████████████| 293/293 [00:04<00:00, 63.59it/s]\n"
     ]
    },
    {
     "name": "stdout",
     "output_type": "stream",
     "text": [
      "Time: 46.25 s | Train Loss: 0.02 | Train Acc: 1.00 | Train F1: 1.00 | Test Loss: 0.55 | Test Acc: 0.91 | Test F1: 0.92\n",
      "\n",
      "Epoch 52:\n"
     ]
    },
    {
     "name": "stderr",
     "output_type": "stream",
     "text": [
      "    Training: 100%|██████████████████████████████████████████████████████████████████| 683/683 [00:41<00:00, 16.38it/s]\n",
      "    Testing: 100%|███████████████████████████████████████████████████████████████████| 293/293 [00:04<00:00, 63.64it/s]\n"
     ]
    },
    {
     "name": "stdout",
     "output_type": "stream",
     "text": [
      "Time: 46.33 s | Train Loss: 0.01 | Train Acc: 1.00 | Train F1: 1.00 | Test Loss: 0.57 | Test Acc: 0.92 | Test F1: 0.92\n",
      "\n",
      "Epoch 53:\n"
     ]
    },
    {
     "name": "stderr",
     "output_type": "stream",
     "text": [
      "    Training: 100%|██████████████████████████████████████████████████████████████████| 683/683 [00:41<00:00, 16.40it/s]\n",
      "    Testing: 100%|███████████████████████████████████████████████████████████████████| 293/293 [00:04<00:00, 63.73it/s]\n"
     ]
    },
    {
     "name": "stdout",
     "output_type": "stream",
     "text": [
      "Time: 46.28 s | Train Loss: 0.01 | Train Acc: 1.00 | Train F1: 1.00 | Test Loss: 0.62 | Test Acc: 0.92 | Test F1: 0.92\n",
      "\n",
      "Epoch 54:\n"
     ]
    },
    {
     "name": "stderr",
     "output_type": "stream",
     "text": [
      "    Training: 100%|██████████████████████████████████████████████████████████████████| 683/683 [00:41<00:00, 16.37it/s]\n",
      "    Testing: 100%|███████████████████████████████████████████████████████████████████| 293/293 [00:04<00:00, 63.94it/s]\n"
     ]
    },
    {
     "name": "stdout",
     "output_type": "stream",
     "text": [
      "Time: 46.34 s | Train Loss: 0.01 | Train Acc: 1.00 | Train F1: 1.00 | Test Loss: 0.66 | Test Acc: 0.92 | Test F1: 0.92\n",
      "\n",
      "Epoch 55:\n"
     ]
    },
    {
     "name": "stderr",
     "output_type": "stream",
     "text": [
      "    Training: 100%|██████████████████████████████████████████████████████████████████| 683/683 [00:41<00:00, 16.40it/s]\n",
      "    Testing: 100%|███████████████████████████████████████████████████████████████████| 293/293 [00:04<00:00, 63.59it/s]\n"
     ]
    },
    {
     "name": "stdout",
     "output_type": "stream",
     "text": [
      "Time: 46.28 s | Train Loss: 0.01 | Train Acc: 1.00 | Train F1: 1.00 | Test Loss: 0.69 | Test Acc: 0.92 | Test F1: 0.92\n",
      "\n",
      "Epoch 56:\n"
     ]
    },
    {
     "name": "stderr",
     "output_type": "stream",
     "text": [
      "    Training: 100%|██████████████████████████████████████████████████████████████████| 683/683 [00:41<00:00, 16.45it/s]\n",
      "    Testing: 100%|███████████████████████████████████████████████████████████████████| 293/293 [00:04<00:00, 63.43it/s]\n"
     ]
    },
    {
     "name": "stdout",
     "output_type": "stream",
     "text": [
      "Time: 46.15 s | Train Loss: 0.01 | Train Acc: 1.00 | Train F1: 1.00 | Test Loss: 0.60 | Test Acc: 0.92 | Test F1: 0.92\n",
      "\n",
      "Epoch 57:\n"
     ]
    },
    {
     "name": "stderr",
     "output_type": "stream",
     "text": [
      "    Training: 100%|██████████████████████████████████████████████████████████████████| 683/683 [00:41<00:00, 16.50it/s]\n",
      "    Testing: 100%|███████████████████████████████████████████████████████████████████| 293/293 [00:04<00:00, 63.85it/s]\n"
     ]
    },
    {
     "name": "stdout",
     "output_type": "stream",
     "text": [
      "Time: 46.02 s | Train Loss: 0.01 | Train Acc: 1.00 | Train F1: 1.00 | Test Loss: 0.62 | Test Acc: 0.92 | Test F1: 0.92\n",
      "\n",
      "Epoch 58:\n"
     ]
    },
    {
     "name": "stderr",
     "output_type": "stream",
     "text": [
      "    Training: 100%|██████████████████████████████████████████████████████████████████| 683/683 [00:41<00:00, 16.32it/s]\n",
      "    Testing: 100%|███████████████████████████████████████████████████████████████████| 293/293 [00:04<00:00, 63.78it/s]\n"
     ]
    },
    {
     "name": "stdout",
     "output_type": "stream",
     "text": [
      "Time: 46.48 s | Train Loss: 0.01 | Train Acc: 1.00 | Train F1: 1.00 | Test Loss: 0.60 | Test Acc: 0.92 | Test F1: 0.92\n",
      "\n",
      "Epoch 59:\n"
     ]
    },
    {
     "name": "stderr",
     "output_type": "stream",
     "text": [
      "    Training: 100%|██████████████████████████████████████████████████████████████████| 683/683 [00:41<00:00, 16.48it/s]\n",
      "    Testing: 100%|███████████████████████████████████████████████████████████████████| 293/293 [00:04<00:00, 63.45it/s]\n"
     ]
    },
    {
     "name": "stdout",
     "output_type": "stream",
     "text": [
      "Time: 46.09 s | Train Loss: 0.01 | Train Acc: 1.00 | Train F1: 1.00 | Test Loss: 0.80 | Test Acc: 0.92 | Test F1: 0.92\n",
      "\n",
      "Epoch 60:\n"
     ]
    },
    {
     "name": "stderr",
     "output_type": "stream",
     "text": [
      "    Training: 100%|██████████████████████████████████████████████████████████████████| 683/683 [00:41<00:00, 16.44it/s]\n",
      "    Testing: 100%|███████████████████████████████████████████████████████████████████| 293/293 [00:04<00:00, 62.32it/s]\n"
     ]
    },
    {
     "name": "stdout",
     "output_type": "stream",
     "text": [
      "Time: 46.28 s | Train Loss: 0.01 | Train Acc: 1.00 | Train F1: 1.00 | Test Loss: 0.63 | Test Acc: 0.92 | Test F1: 0.92\n",
      "\n",
      "Epoch 61:\n"
     ]
    },
    {
     "name": "stderr",
     "output_type": "stream",
     "text": [
      "    Training: 100%|██████████████████████████████████████████████████████████████████| 683/683 [00:42<00:00, 16.19it/s]\n",
      "    Testing: 100%|███████████████████████████████████████████████████████████████████| 293/293 [00:04<00:00, 62.99it/s]\n"
     ]
    },
    {
     "name": "stdout",
     "output_type": "stream",
     "text": [
      "Time: 46.87 s | Train Loss: 0.01 | Train Acc: 1.00 | Train F1: 1.00 | Test Loss: 0.70 | Test Acc: 0.92 | Test F1: 0.92\n",
      "\n",
      "Epoch 62:\n"
     ]
    },
    {
     "name": "stderr",
     "output_type": "stream",
     "text": [
      "    Training: 100%|██████████████████████████████████████████████████████████████████| 683/683 [00:41<00:00, 16.37it/s]\n",
      "    Testing: 100%|███████████████████████████████████████████████████████████████████| 293/293 [00:04<00:00, 63.77it/s]\n"
     ]
    },
    {
     "name": "stdout",
     "output_type": "stream",
     "text": [
      "Time: 46.34 s | Train Loss: 0.01 | Train Acc: 1.00 | Train F1: 1.00 | Test Loss: 0.68 | Test Acc: 0.92 | Test F1: 0.92\n",
      "\n",
      "Epoch 63:\n"
     ]
    },
    {
     "name": "stderr",
     "output_type": "stream",
     "text": [
      "    Training: 100%|██████████████████████████████████████████████████████████████████| 683/683 [00:41<00:00, 16.41it/s]\n",
      "    Testing: 100%|███████████████████████████████████████████████████████████████████| 293/293 [00:04<00:00, 63.75it/s]\n"
     ]
    },
    {
     "name": "stdout",
     "output_type": "stream",
     "text": [
      "Time: 46.25 s | Train Loss: 0.01 | Train Acc: 1.00 | Train F1: 1.00 | Test Loss: 0.76 | Test Acc: 0.92 | Test F1: 0.92\n",
      "\n",
      "Epoch 64:\n"
     ]
    },
    {
     "name": "stderr",
     "output_type": "stream",
     "text": [
      "    Training: 100%|██████████████████████████████████████████████████████████████████| 683/683 [00:41<00:00, 16.38it/s]\n",
      "    Testing: 100%|███████████████████████████████████████████████████████████████████| 293/293 [00:04<00:00, 63.87it/s]\n"
     ]
    },
    {
     "name": "stdout",
     "output_type": "stream",
     "text": [
      "Time: 46.32 s | Train Loss: 0.01 | Train Acc: 1.00 | Train F1: 1.00 | Test Loss: 0.68 | Test Acc: 0.91 | Test F1: 0.92\n",
      "\n",
      "Epoch 65:\n"
     ]
    },
    {
     "name": "stderr",
     "output_type": "stream",
     "text": [
      "    Training: 100%|██████████████████████████████████████████████████████████████████| 683/683 [00:41<00:00, 16.40it/s]\n",
      "    Testing: 100%|███████████████████████████████████████████████████████████████████| 293/293 [00:04<00:00, 63.49it/s]\n"
     ]
    },
    {
     "name": "stdout",
     "output_type": "stream",
     "text": [
      "Time: 46.27 s | Train Loss: 0.01 | Train Acc: 1.00 | Train F1: 1.00 | Test Loss: 0.58 | Test Acc: 0.92 | Test F1: 0.92\n",
      "\n",
      "Epoch 66:\n"
     ]
    },
    {
     "name": "stderr",
     "output_type": "stream",
     "text": [
      "    Training: 100%|██████████████████████████████████████████████████████████████████| 683/683 [00:41<00:00, 16.36it/s]\n",
      "    Testing: 100%|███████████████████████████████████████████████████████████████████| 293/293 [00:04<00:00, 63.29it/s]\n"
     ]
    },
    {
     "name": "stdout",
     "output_type": "stream",
     "text": [
      "Time: 46.39 s | Train Loss: 0.00 | Train Acc: 1.00 | Train F1: 1.00 | Test Loss: 0.73 | Test Acc: 0.92 | Test F1: 0.92\n",
      "\n",
      "Epoch 67:\n"
     ]
    },
    {
     "name": "stderr",
     "output_type": "stream",
     "text": [
      "    Training: 100%|██████████████████████████████████████████████████████████████████| 683/683 [00:41<00:00, 16.42it/s]\n",
      "    Testing: 100%|███████████████████████████████████████████████████████████████████| 293/293 [00:04<00:00, 63.50it/s]\n"
     ]
    },
    {
     "name": "stdout",
     "output_type": "stream",
     "text": [
      "Time: 46.24 s | Train Loss: 0.01 | Train Acc: 1.00 | Train F1: 1.00 | Test Loss: 0.79 | Test Acc: 0.91 | Test F1: 0.92\n",
      "\n",
      "Epoch 68:\n"
     ]
    },
    {
     "name": "stderr",
     "output_type": "stream",
     "text": [
      "    Training: 100%|██████████████████████████████████████████████████████████████████| 683/683 [00:41<00:00, 16.36it/s]\n",
      "    Testing: 100%|███████████████████████████████████████████████████████████████████| 293/293 [00:04<00:00, 63.85it/s]\n"
     ]
    },
    {
     "name": "stdout",
     "output_type": "stream",
     "text": [
      "Time: 46.36 s | Train Loss: 0.01 | Train Acc: 1.00 | Train F1: 1.00 | Test Loss: 0.76 | Test Acc: 0.92 | Test F1: 0.92\n",
      "\n",
      "Epoch 69:\n"
     ]
    },
    {
     "name": "stderr",
     "output_type": "stream",
     "text": [
      "    Training: 100%|██████████████████████████████████████████████████████████████████| 683/683 [00:41<00:00, 16.39it/s]\n",
      "    Testing: 100%|███████████████████████████████████████████████████████████████████| 293/293 [00:04<00:00, 63.20it/s]\n"
     ]
    },
    {
     "name": "stdout",
     "output_type": "stream",
     "text": [
      "Time: 46.34 s | Train Loss: 0.01 | Train Acc: 1.00 | Train F1: 1.00 | Test Loss: 0.67 | Test Acc: 0.92 | Test F1: 0.92\n",
      "\n",
      "Epoch 70:\n"
     ]
    },
    {
     "name": "stderr",
     "output_type": "stream",
     "text": [
      "    Training: 100%|██████████████████████████████████████████████████████████████████| 683/683 [00:41<00:00, 16.37it/s]\n",
      "    Testing: 100%|███████████████████████████████████████████████████████████████████| 293/293 [00:04<00:00, 63.36it/s]\n"
     ]
    },
    {
     "name": "stdout",
     "output_type": "stream",
     "text": [
      "Time: 46.36 s | Train Loss: 0.00 | Train Acc: 1.00 | Train F1: 1.00 | Test Loss: 0.74 | Test Acc: 0.92 | Test F1: 0.92\n",
      "\n",
      "Epoch 71:\n"
     ]
    },
    {
     "name": "stderr",
     "output_type": "stream",
     "text": [
      "    Training: 100%|██████████████████████████████████████████████████████████████████| 683/683 [00:41<00:00, 16.46it/s]\n",
      "    Testing: 100%|███████████████████████████████████████████████████████████████████| 293/293 [00:04<00:00, 63.31it/s]\n"
     ]
    },
    {
     "name": "stdout",
     "output_type": "stream",
     "text": [
      "Time: 46.16 s | Train Loss: 0.00 | Train Acc: 1.00 | Train F1: 1.00 | Test Loss: 0.65 | Test Acc: 0.92 | Test F1: 0.92\n",
      "\n",
      "Epoch 72:\n"
     ]
    },
    {
     "name": "stderr",
     "output_type": "stream",
     "text": [
      "    Training: 100%|██████████████████████████████████████████████████████████████████| 683/683 [00:41<00:00, 16.50it/s]\n",
      "    Testing: 100%|███████████████████████████████████████████████████████████████████| 293/293 [00:04<00:00, 63.48it/s]\n"
     ]
    },
    {
     "name": "stdout",
     "output_type": "stream",
     "text": [
      "Time: 46.04 s | Train Loss: 0.00 | Train Acc: 1.00 | Train F1: 1.00 | Test Loss: 0.77 | Test Acc: 0.92 | Test F1: 0.92\n",
      "\n",
      "Epoch 73:\n"
     ]
    },
    {
     "name": "stderr",
     "output_type": "stream",
     "text": [
      "    Training: 100%|██████████████████████████████████████████████████████████████████| 683/683 [00:41<00:00, 16.45it/s]\n",
      "    Testing: 100%|███████████████████████████████████████████████████████████████████| 293/293 [00:04<00:00, 63.59it/s]\n"
     ]
    },
    {
     "name": "stdout",
     "output_type": "stream",
     "text": [
      "Time: 46.16 s | Train Loss: 0.01 | Train Acc: 1.00 | Train F1: 1.00 | Test Loss: 0.57 | Test Acc: 0.92 | Test F1: 0.92\n",
      "\n",
      "Epoch 74:\n"
     ]
    },
    {
     "name": "stderr",
     "output_type": "stream",
     "text": [
      "    Training: 100%|██████████████████████████████████████████████████████████████████| 683/683 [00:41<00:00, 16.47it/s]\n",
      "    Testing: 100%|███████████████████████████████████████████████████████████████████| 293/293 [00:04<00:00, 63.21it/s]\n"
     ]
    },
    {
     "name": "stdout",
     "output_type": "stream",
     "text": [
      "Time: 46.15 s | Train Loss: 0.01 | Train Acc: 1.00 | Train F1: 1.00 | Test Loss: 0.64 | Test Acc: 0.92 | Test F1: 0.92\n",
      "\n",
      "Epoch 75:\n"
     ]
    },
    {
     "name": "stderr",
     "output_type": "stream",
     "text": [
      "    Training: 100%|██████████████████████████████████████████████████████████████████| 683/683 [00:41<00:00, 16.50it/s]\n",
      "    Testing: 100%|███████████████████████████████████████████████████████████████████| 293/293 [00:04<00:00, 63.57it/s]\n"
     ]
    },
    {
     "name": "stdout",
     "output_type": "stream",
     "text": [
      "Time: 46.03 s | Train Loss: 0.01 | Train Acc: 1.00 | Train F1: 1.00 | Test Loss: 0.59 | Test Acc: 0.92 | Test F1: 0.92\n",
      "\n",
      "Epoch 76:\n"
     ]
    },
    {
     "name": "stderr",
     "output_type": "stream",
     "text": [
      "    Training: 100%|██████████████████████████████████████████████████████████████████| 683/683 [00:41<00:00, 16.44it/s]\n",
      "    Testing: 100%|███████████████████████████████████████████████████████████████████| 293/293 [00:04<00:00, 63.53it/s]\n"
     ]
    },
    {
     "name": "stdout",
     "output_type": "stream",
     "text": [
      "Time: 46.18 s | Train Loss: 0.01 | Train Acc: 1.00 | Train F1: 1.00 | Test Loss: 0.66 | Test Acc: 0.92 | Test F1: 0.92\n",
      "\n",
      "Epoch 77:\n"
     ]
    },
    {
     "name": "stderr",
     "output_type": "stream",
     "text": [
      "    Training: 100%|██████████████████████████████████████████████████████████████████| 683/683 [00:41<00:00, 16.37it/s]\n",
      "    Testing: 100%|███████████████████████████████████████████████████████████████████| 293/293 [00:04<00:00, 63.62it/s]\n"
     ]
    },
    {
     "name": "stdout",
     "output_type": "stream",
     "text": [
      "Time: 46.35 s | Train Loss: 0.00 | Train Acc: 1.00 | Train F1: 1.00 | Test Loss: 0.75 | Test Acc: 0.91 | Test F1: 0.92\n",
      "\n",
      "Epoch 78:\n"
     ]
    },
    {
     "name": "stderr",
     "output_type": "stream",
     "text": [
      "    Training: 100%|██████████████████████████████████████████████████████████████████| 683/683 [00:41<00:00, 16.36it/s]\n",
      "    Testing: 100%|███████████████████████████████████████████████████████████████████| 293/293 [00:04<00:00, 63.23it/s]\n"
     ]
    },
    {
     "name": "stdout",
     "output_type": "stream",
     "text": [
      "Time: 46.40 s | Train Loss: 0.01 | Train Acc: 1.00 | Train F1: 1.00 | Test Loss: 0.69 | Test Acc: 0.92 | Test F1: 0.92\n",
      "\n",
      "Epoch 79:\n"
     ]
    },
    {
     "name": "stderr",
     "output_type": "stream",
     "text": [
      "    Training: 100%|██████████████████████████████████████████████████████████████████| 683/683 [00:41<00:00, 16.38it/s]\n",
      "    Testing: 100%|███████████████████████████████████████████████████████████████████| 293/293 [00:04<00:00, 63.57it/s]\n"
     ]
    },
    {
     "name": "stdout",
     "output_type": "stream",
     "text": [
      "Time: 46.32 s | Train Loss: 0.01 | Train Acc: 1.00 | Train F1: 1.00 | Test Loss: 0.80 | Test Acc: 0.92 | Test F1: 0.92\n",
      "\n",
      "Epoch 80:\n"
     ]
    },
    {
     "name": "stderr",
     "output_type": "stream",
     "text": [
      "    Training: 100%|██████████████████████████████████████████████████████████████████| 683/683 [00:41<00:00, 16.38it/s]\n",
      "    Testing: 100%|███████████████████████████████████████████████████████████████████| 293/293 [00:04<00:00, 63.41it/s]\n"
     ]
    },
    {
     "name": "stdout",
     "output_type": "stream",
     "text": [
      "Time: 46.34 s | Train Loss: 0.00 | Train Acc: 1.00 | Train F1: 1.00 | Test Loss: 0.75 | Test Acc: 0.92 | Test F1: 0.92\n",
      "\n",
      "Epoch 81:\n"
     ]
    },
    {
     "name": "stderr",
     "output_type": "stream",
     "text": [
      "    Training: 100%|██████████████████████████████████████████████████████████████████| 683/683 [00:41<00:00, 16.39it/s]\n",
      "    Testing: 100%|███████████████████████████████████████████████████████████████████| 293/293 [00:04<00:00, 63.79it/s]\n"
     ]
    },
    {
     "name": "stdout",
     "output_type": "stream",
     "text": [
      "Time: 46.29 s | Train Loss: 0.01 | Train Acc: 1.00 | Train F1: 1.00 | Test Loss: 0.64 | Test Acc: 0.92 | Test F1: 0.92\n",
      "\n",
      "Epoch 82:\n"
     ]
    },
    {
     "name": "stderr",
     "output_type": "stream",
     "text": [
      "    Training: 100%|██████████████████████████████████████████████████████████████████| 683/683 [00:41<00:00, 16.27it/s]\n",
      "    Testing: 100%|███████████████████████████████████████████████████████████████████| 293/293 [00:04<00:00, 63.32it/s]\n"
     ]
    },
    {
     "name": "stdout",
     "output_type": "stream",
     "text": [
      "Time: 46.63 s | Train Loss: 0.00 | Train Acc: 1.00 | Train F1: 1.00 | Test Loss: 0.56 | Test Acc: 0.92 | Test F1: 0.92\n",
      "\n",
      "Epoch 83:\n"
     ]
    },
    {
     "name": "stderr",
     "output_type": "stream",
     "text": [
      "    Training: 100%|██████████████████████████████████████████████████████████████████| 683/683 [00:41<00:00, 16.33it/s]\n",
      "    Testing: 100%|███████████████████████████████████████████████████████████████████| 293/293 [00:04<00:00, 63.53it/s]\n"
     ]
    },
    {
     "name": "stdout",
     "output_type": "stream",
     "text": [
      "Time: 46.47 s | Train Loss: 0.00 | Train Acc: 1.00 | Train F1: 1.00 | Test Loss: 0.72 | Test Acc: 0.92 | Test F1: 0.92\n",
      "\n",
      "Epoch 84:\n"
     ]
    },
    {
     "name": "stderr",
     "output_type": "stream",
     "text": [
      "    Training: 100%|██████████████████████████████████████████████████████████████████| 683/683 [00:41<00:00, 16.38it/s]\n",
      "    Testing: 100%|███████████████████████████████████████████████████████████████████| 293/293 [00:04<00:00, 63.43it/s]\n"
     ]
    },
    {
     "name": "stdout",
     "output_type": "stream",
     "text": [
      "Time: 46.34 s | Train Loss: 0.00 | Train Acc: 1.00 | Train F1: 1.00 | Test Loss: 0.78 | Test Acc: 0.92 | Test F1: 0.92\n",
      "\n",
      "Epoch 85:\n"
     ]
    },
    {
     "name": "stderr",
     "output_type": "stream",
     "text": [
      "    Training: 100%|██████████████████████████████████████████████████████████████████| 683/683 [00:41<00:00, 16.38it/s]\n",
      "    Testing: 100%|███████████████████████████████████████████████████████████████████| 293/293 [00:04<00:00, 63.46it/s]\n"
     ]
    },
    {
     "name": "stdout",
     "output_type": "stream",
     "text": [
      "Time: 46.32 s | Train Loss: 0.00 | Train Acc: 1.00 | Train F1: 1.00 | Test Loss: 0.81 | Test Acc: 0.92 | Test F1: 0.92\n",
      "\n",
      "Epoch 86:\n"
     ]
    },
    {
     "name": "stderr",
     "output_type": "stream",
     "text": [
      "    Training: 100%|██████████████████████████████████████████████████████████████████| 683/683 [00:41<00:00, 16.40it/s]\n",
      "    Testing: 100%|███████████████████████████████████████████████████████████████████| 293/293 [00:04<00:00, 63.44it/s]\n"
     ]
    },
    {
     "name": "stdout",
     "output_type": "stream",
     "text": [
      "Time: 46.27 s | Train Loss: 0.00 | Train Acc: 1.00 | Train F1: 1.00 | Test Loss: 0.76 | Test Acc: 0.92 | Test F1: 0.92\n",
      "\n",
      "Epoch 87:\n"
     ]
    },
    {
     "name": "stderr",
     "output_type": "stream",
     "text": [
      "    Training: 100%|██████████████████████████████████████████████████████████████████| 683/683 [00:41<00:00, 16.34it/s]\n",
      "    Testing: 100%|███████████████████████████████████████████████████████████████████| 293/293 [00:04<00:00, 63.42it/s]\n"
     ]
    },
    {
     "name": "stdout",
     "output_type": "stream",
     "text": [
      "Time: 46.47 s | Train Loss: 0.01 | Train Acc: 1.00 | Train F1: 1.00 | Test Loss: 0.70 | Test Acc: 0.92 | Test F1: 0.92\n",
      "\n",
      "Epoch 88:\n"
     ]
    },
    {
     "name": "stderr",
     "output_type": "stream",
     "text": [
      "    Training: 100%|██████████████████████████████████████████████████████████████████| 683/683 [00:41<00:00, 16.38it/s]\n",
      "    Testing: 100%|███████████████████████████████████████████████████████████████████| 293/293 [00:04<00:00, 63.61it/s]\n"
     ]
    },
    {
     "name": "stdout",
     "output_type": "stream",
     "text": [
      "Time: 46.34 s | Train Loss: 0.00 | Train Acc: 1.00 | Train F1: 1.00 | Test Loss: 0.70 | Test Acc: 0.92 | Test F1: 0.92\n",
      "\n",
      "Epoch 89:\n"
     ]
    },
    {
     "name": "stderr",
     "output_type": "stream",
     "text": [
      "    Training: 100%|██████████████████████████████████████████████████████████████████| 683/683 [00:41<00:00, 16.36it/s]\n",
      "    Testing: 100%|███████████████████████████████████████████████████████████████████| 293/293 [00:04<00:00, 63.61it/s]\n"
     ]
    },
    {
     "name": "stdout",
     "output_type": "stream",
     "text": [
      "Time: 46.37 s | Train Loss: 0.01 | Train Acc: 1.00 | Train F1: 1.00 | Test Loss: 0.68 | Test Acc: 0.91 | Test F1: 0.92\n",
      "\n",
      "Epoch 90:\n"
     ]
    },
    {
     "name": "stderr",
     "output_type": "stream",
     "text": [
      "    Training: 100%|██████████████████████████████████████████████████████████████████| 683/683 [00:41<00:00, 16.37it/s]\n",
      "    Testing: 100%|███████████████████████████████████████████████████████████████████| 293/293 [00:04<00:00, 63.42it/s]\n"
     ]
    },
    {
     "name": "stdout",
     "output_type": "stream",
     "text": [
      "Time: 46.35 s | Train Loss: 0.00 | Train Acc: 1.00 | Train F1: 1.00 | Test Loss: 0.70 | Test Acc: 0.92 | Test F1: 0.92\n",
      "\n",
      "Epoch 91:\n"
     ]
    },
    {
     "name": "stderr",
     "output_type": "stream",
     "text": [
      "    Training: 100%|██████████████████████████████████████████████████████████████████| 683/683 [00:41<00:00, 16.43it/s]\n",
      "    Testing: 100%|███████████████████████████████████████████████████████████████████| 293/293 [00:04<00:00, 63.33it/s]\n"
     ]
    },
    {
     "name": "stdout",
     "output_type": "stream",
     "text": [
      "Time: 46.22 s | Train Loss: 0.00 | Train Acc: 1.00 | Train F1: 1.00 | Test Loss: 0.73 | Test Acc: 0.92 | Test F1: 0.92\n",
      "\n",
      "Epoch 92:\n"
     ]
    },
    {
     "name": "stderr",
     "output_type": "stream",
     "text": [
      "    Training: 100%|██████████████████████████████████████████████████████████████████| 683/683 [00:41<00:00, 16.33it/s]\n",
      "    Testing: 100%|███████████████████████████████████████████████████████████████████| 293/293 [00:04<00:00, 63.56it/s]\n"
     ]
    },
    {
     "name": "stdout",
     "output_type": "stream",
     "text": [
      "Time: 46.46 s | Train Loss: 0.00 | Train Acc: 1.00 | Train F1: 1.00 | Test Loss: 0.89 | Test Acc: 0.91 | Test F1: 0.92\n",
      "\n",
      "Epoch 93:\n"
     ]
    },
    {
     "name": "stderr",
     "output_type": "stream",
     "text": [
      "    Training: 100%|██████████████████████████████████████████████████████████████████| 683/683 [00:41<00:00, 16.40it/s]\n",
      "    Testing: 100%|███████████████████████████████████████████████████████████████████| 293/293 [00:04<00:00, 63.49it/s]\n"
     ]
    },
    {
     "name": "stdout",
     "output_type": "stream",
     "text": [
      "Time: 46.29 s | Train Loss: 0.01 | Train Acc: 1.00 | Train F1: 1.00 | Test Loss: 0.72 | Test Acc: 0.92 | Test F1: 0.92\n",
      "\n",
      "Epoch 94:\n"
     ]
    },
    {
     "name": "stderr",
     "output_type": "stream",
     "text": [
      "    Training: 100%|██████████████████████████████████████████████████████████████████| 683/683 [00:41<00:00, 16.50it/s]\n",
      "    Testing: 100%|███████████████████████████████████████████████████████████████████| 293/293 [00:04<00:00, 63.88it/s]\n"
     ]
    },
    {
     "name": "stdout",
     "output_type": "stream",
     "text": [
      "Time: 46.01 s | Train Loss: 0.01 | Train Acc: 1.00 | Train F1: 1.00 | Test Loss: 0.76 | Test Acc: 0.92 | Test F1: 0.92\n",
      "\n",
      "Epoch 95:\n"
     ]
    },
    {
     "name": "stderr",
     "output_type": "stream",
     "text": [
      "    Training: 100%|██████████████████████████████████████████████████████████████████| 683/683 [00:41<00:00, 16.38it/s]\n",
      "    Testing: 100%|███████████████████████████████████████████████████████████████████| 293/293 [00:04<00:00, 63.72it/s]\n"
     ]
    },
    {
     "name": "stdout",
     "output_type": "stream",
     "text": [
      "Time: 46.33 s | Train Loss: 0.00 | Train Acc: 1.00 | Train F1: 1.00 | Test Loss: 1.03 | Test Acc: 0.91 | Test F1: 0.92\n",
      "\n",
      "Epoch 96:\n"
     ]
    },
    {
     "name": "stderr",
     "output_type": "stream",
     "text": [
      "    Training: 100%|██████████████████████████████████████████████████████████████████| 683/683 [00:41<00:00, 16.38it/s]\n",
      "    Testing: 100%|███████████████████████████████████████████████████████████████████| 293/293 [00:04<00:00, 63.57it/s]\n"
     ]
    },
    {
     "name": "stdout",
     "output_type": "stream",
     "text": [
      "Time: 46.32 s | Train Loss: 0.00 | Train Acc: 1.00 | Train F1: 1.00 | Test Loss: 0.77 | Test Acc: 0.92 | Test F1: 0.92\n",
      "\n",
      "Epoch 97:\n"
     ]
    },
    {
     "name": "stderr",
     "output_type": "stream",
     "text": [
      "    Training: 100%|██████████████████████████████████████████████████████████████████| 683/683 [00:41<00:00, 16.48it/s]\n",
      "    Testing: 100%|███████████████████████████████████████████████████████████████████| 293/293 [00:04<00:00, 63.71it/s]\n"
     ]
    },
    {
     "name": "stdout",
     "output_type": "stream",
     "text": [
      "Time: 46.05 s | Train Loss: 0.00 | Train Acc: 1.00 | Train F1: 1.00 | Test Loss: 0.81 | Test Acc: 0.92 | Test F1: 0.92\n",
      "\n",
      "Epoch 98:\n"
     ]
    },
    {
     "name": "stderr",
     "output_type": "stream",
     "text": [
      "    Training: 100%|██████████████████████████████████████████████████████████████████| 683/683 [00:41<00:00, 16.47it/s]\n",
      "    Testing: 100%|███████████████████████████████████████████████████████████████████| 293/293 [00:04<00:00, 63.21it/s]\n"
     ]
    },
    {
     "name": "stdout",
     "output_type": "stream",
     "text": [
      "Time: 46.12 s | Train Loss: 0.00 | Train Acc: 1.00 | Train F1: 1.00 | Test Loss: 0.71 | Test Acc: 0.91 | Test F1: 0.92\n",
      "\n",
      "Epoch 99:\n"
     ]
    },
    {
     "name": "stderr",
     "output_type": "stream",
     "text": [
      "    Training: 100%|██████████████████████████████████████████████████████████████████| 683/683 [00:41<00:00, 16.52it/s]\n",
      "    Testing: 100%|███████████████████████████████████████████████████████████████████| 293/293 [00:04<00:00, 63.49it/s]\n"
     ]
    },
    {
     "name": "stdout",
     "output_type": "stream",
     "text": [
      "Time: 45.99 s | Train Loss: 0.00 | Train Acc: 1.00 | Train F1: 1.00 | Test Loss: 0.88 | Test Acc: 0.91 | Test F1: 0.92\n",
      "\n",
      "Epoch 100:\n"
     ]
    },
    {
     "name": "stderr",
     "output_type": "stream",
     "text": [
      "    Training: 100%|██████████████████████████████████████████████████████████████████| 683/683 [00:41<00:00, 16.38it/s]\n",
      "    Testing: 100%|███████████████████████████████████████████████████████████████████| 293/293 [00:04<00:00, 63.33it/s]\n"
     ]
    },
    {
     "name": "stdout",
     "output_type": "stream",
     "text": [
      "Time: 46.35 s | Train Loss: 0.01 | Train Acc: 1.00 | Train F1: 1.00 | Test Loss: 0.75 | Test Acc: 0.92 | Test F1: 0.92\n",
      "\n",
      "Epoch 101:\n"
     ]
    },
    {
     "name": "stderr",
     "output_type": "stream",
     "text": [
      "    Training: 100%|██████████████████████████████████████████████████████████████████| 683/683 [00:41<00:00, 16.38it/s]\n",
      "    Testing: 100%|███████████████████████████████████████████████████████████████████| 293/293 [00:04<00:00, 63.56it/s]\n"
     ]
    },
    {
     "name": "stdout",
     "output_type": "stream",
     "text": [
      "Time: 46.34 s | Train Loss: 0.00 | Train Acc: 1.00 | Train F1: 1.00 | Test Loss: 0.79 | Test Acc: 0.92 | Test F1: 0.92\n",
      "\n",
      "Epoch 102:\n"
     ]
    },
    {
     "name": "stderr",
     "output_type": "stream",
     "text": [
      "    Training: 100%|██████████████████████████████████████████████████████████████████| 683/683 [00:41<00:00, 16.35it/s]\n",
      "    Testing: 100%|███████████████████████████████████████████████████████████████████| 293/293 [00:04<00:00, 63.30it/s]\n"
     ]
    },
    {
     "name": "stdout",
     "output_type": "stream",
     "text": [
      "Time: 46.45 s | Train Loss: 0.00 | Train Acc: 1.00 | Train F1: 1.00 | Test Loss: 0.72 | Test Acc: 0.92 | Test F1: 0.91\n",
      "\n",
      "Epoch 103:\n"
     ]
    },
    {
     "name": "stderr",
     "output_type": "stream",
     "text": [
      "    Training: 100%|██████████████████████████████████████████████████████████████████| 683/683 [00:41<00:00, 16.46it/s]\n",
      "    Testing: 100%|███████████████████████████████████████████████████████████████████| 293/293 [00:04<00:00, 63.45it/s]\n"
     ]
    },
    {
     "name": "stdout",
     "output_type": "stream",
     "text": [
      "Time: 46.15 s | Train Loss: 0.01 | Train Acc: 1.00 | Train F1: 1.00 | Test Loss: 0.71 | Test Acc: 0.91 | Test F1: 0.92\n",
      "\n",
      "Epoch 104:\n"
     ]
    },
    {
     "name": "stderr",
     "output_type": "stream",
     "text": [
      "    Training: 100%|██████████████████████████████████████████████████████████████████| 683/683 [00:41<00:00, 16.47it/s]\n",
      "    Testing: 100%|███████████████████████████████████████████████████████████████████| 293/293 [00:04<00:00, 63.53it/s]\n"
     ]
    },
    {
     "name": "stdout",
     "output_type": "stream",
     "text": [
      "Time: 46.10 s | Train Loss: 0.01 | Train Acc: 1.00 | Train F1: 1.00 | Test Loss: 0.63 | Test Acc: 0.92 | Test F1: 0.92\n",
      "\n",
      "Epoch 105:\n"
     ]
    },
    {
     "name": "stderr",
     "output_type": "stream",
     "text": [
      "    Training: 100%|██████████████████████████████████████████████████████████████████| 683/683 [00:41<00:00, 16.47it/s]\n",
      "    Testing: 100%|███████████████████████████████████████████████████████████████████| 293/293 [00:04<00:00, 63.49it/s]\n"
     ]
    },
    {
     "name": "stdout",
     "output_type": "stream",
     "text": [
      "Time: 46.12 s | Train Loss: 0.00 | Train Acc: 1.00 | Train F1: 1.00 | Test Loss: 0.71 | Test Acc: 0.92 | Test F1: 0.92\n",
      "\n",
      "Epoch 106:\n"
     ]
    },
    {
     "name": "stderr",
     "output_type": "stream",
     "text": [
      "    Training: 100%|██████████████████████████████████████████████████████████████████| 683/683 [00:41<00:00, 16.50it/s]\n",
      "    Testing: 100%|███████████████████████████████████████████████████████████████████| 293/293 [00:04<00:00, 63.38it/s]\n"
     ]
    },
    {
     "name": "stdout",
     "output_type": "stream",
     "text": [
      "Time: 46.04 s | Train Loss: 0.00 | Train Acc: 1.00 | Train F1: 1.00 | Test Loss: 0.77 | Test Acc: 0.92 | Test F1: 0.92\n",
      "\n",
      "Epoch 107:\n"
     ]
    },
    {
     "name": "stderr",
     "output_type": "stream",
     "text": [
      "    Training: 100%|██████████████████████████████████████████████████████████████████| 683/683 [00:41<00:00, 16.47it/s]\n",
      "    Testing: 100%|███████████████████████████████████████████████████████████████████| 293/293 [00:04<00:00, 63.66it/s]\n"
     ]
    },
    {
     "name": "stdout",
     "output_type": "stream",
     "text": [
      "Time: 46.09 s | Train Loss: 0.00 | Train Acc: 1.00 | Train F1: 1.00 | Test Loss: 0.69 | Test Acc: 0.92 | Test F1: 0.92\n",
      "\n",
      "Epoch 108:\n"
     ]
    },
    {
     "name": "stderr",
     "output_type": "stream",
     "text": [
      "    Training: 100%|██████████████████████████████████████████████████████████████████| 683/683 [00:41<00:00, 16.46it/s]\n",
      "    Testing: 100%|███████████████████████████████████████████████████████████████████| 293/293 [00:04<00:00, 63.85it/s]\n"
     ]
    },
    {
     "name": "stdout",
     "output_type": "stream",
     "text": [
      "Time: 46.10 s | Train Loss: 0.00 | Train Acc: 1.00 | Train F1: 1.00 | Test Loss: 0.81 | Test Acc: 0.92 | Test F1: 0.92\n",
      "\n",
      "Epoch 109:\n"
     ]
    },
    {
     "name": "stderr",
     "output_type": "stream",
     "text": [
      "    Training: 100%|██████████████████████████████████████████████████████████████████| 683/683 [00:41<00:00, 16.37it/s]\n",
      "    Testing: 100%|███████████████████████████████████████████████████████████████████| 293/293 [00:04<00:00, 64.04it/s]\n"
     ]
    },
    {
     "name": "stdout",
     "output_type": "stream",
     "text": [
      "Time: 46.31 s | Train Loss: 0.00 | Train Acc: 1.00 | Train F1: 1.00 | Test Loss: 0.85 | Test Acc: 0.92 | Test F1: 0.93\n",
      "\n",
      "Epoch 110:\n"
     ]
    },
    {
     "name": "stderr",
     "output_type": "stream",
     "text": [
      "    Training: 100%|██████████████████████████████████████████████████████████████████| 683/683 [00:41<00:00, 16.42it/s]\n",
      "    Testing: 100%|███████████████████████████████████████████████████████████████████| 293/293 [00:04<00:00, 63.62it/s]\n"
     ]
    },
    {
     "name": "stdout",
     "output_type": "stream",
     "text": [
      "Time: 46.20 s | Train Loss: 0.00 | Train Acc: 1.00 | Train F1: 1.00 | Test Loss: 0.74 | Test Acc: 0.91 | Test F1: 0.92\n",
      "\n",
      "Epoch 111:\n"
     ]
    },
    {
     "name": "stderr",
     "output_type": "stream",
     "text": [
      "    Training: 100%|██████████████████████████████████████████████████████████████████| 683/683 [00:41<00:00, 16.39it/s]\n",
      "    Testing: 100%|███████████████████████████████████████████████████████████████████| 293/293 [00:04<00:00, 63.41it/s]\n"
     ]
    },
    {
     "name": "stdout",
     "output_type": "stream",
     "text": [
      "Time: 46.31 s | Train Loss: 0.00 | Train Acc: 1.00 | Train F1: 1.00 | Test Loss: 0.67 | Test Acc: 0.91 | Test F1: 0.92\n",
      "\n",
      "Epoch 112:\n"
     ]
    },
    {
     "name": "stderr",
     "output_type": "stream",
     "text": [
      "    Training: 100%|██████████████████████████████████████████████████████████████████| 683/683 [00:41<00:00, 16.48it/s]\n",
      "    Testing: 100%|███████████████████████████████████████████████████████████████████| 293/293 [00:04<00:00, 63.68it/s]\n"
     ]
    },
    {
     "name": "stdout",
     "output_type": "stream",
     "text": [
      "Time: 46.07 s | Train Loss: 0.00 | Train Acc: 1.00 | Train F1: 1.00 | Test Loss: 0.82 | Test Acc: 0.91 | Test F1: 0.92\n",
      "\n",
      "Epoch 113:\n"
     ]
    },
    {
     "name": "stderr",
     "output_type": "stream",
     "text": [
      "    Training: 100%|██████████████████████████████████████████████████████████████████| 683/683 [00:41<00:00, 16.45it/s]\n",
      "    Testing: 100%|███████████████████████████████████████████████████████████████████| 293/293 [00:04<00:00, 63.63it/s]\n"
     ]
    },
    {
     "name": "stdout",
     "output_type": "stream",
     "text": [
      "Time: 46.14 s | Train Loss: 0.00 | Train Acc: 1.00 | Train F1: 1.00 | Test Loss: 0.72 | Test Acc: 0.91 | Test F1: 0.92\n",
      "\n",
      "Epoch 114:\n"
     ]
    },
    {
     "name": "stderr",
     "output_type": "stream",
     "text": [
      "    Training: 100%|██████████████████████████████████████████████████████████████████| 683/683 [00:41<00:00, 16.39it/s]\n",
      "    Testing: 100%|███████████████████████████████████████████████████████████████████| 293/293 [00:04<00:00, 63.50it/s]\n"
     ]
    },
    {
     "name": "stdout",
     "output_type": "stream",
     "text": [
      "Time: 46.31 s | Train Loss: 0.00 | Train Acc: 1.00 | Train F1: 1.00 | Test Loss: 0.82 | Test Acc: 0.92 | Test F1: 0.92\n",
      "\n",
      "Epoch 115:\n"
     ]
    },
    {
     "name": "stderr",
     "output_type": "stream",
     "text": [
      "    Training: 100%|██████████████████████████████████████████████████████████████████| 683/683 [00:41<00:00, 16.46it/s]\n",
      "    Testing: 100%|███████████████████████████████████████████████████████████████████| 293/293 [00:04<00:00, 63.73it/s]\n"
     ]
    },
    {
     "name": "stdout",
     "output_type": "stream",
     "text": [
      "Time: 46.11 s | Train Loss: 0.00 | Train Acc: 1.00 | Train F1: 1.00 | Test Loss: 0.74 | Test Acc: 0.92 | Test F1: 0.92\n",
      "\n",
      "Epoch 116:\n"
     ]
    },
    {
     "name": "stderr",
     "output_type": "stream",
     "text": [
      "    Training: 100%|██████████████████████████████████████████████████████████████████| 683/683 [00:41<00:00, 16.39it/s]\n",
      "    Testing: 100%|███████████████████████████████████████████████████████████████████| 293/293 [00:04<00:00, 63.61it/s]\n"
     ]
    },
    {
     "name": "stdout",
     "output_type": "stream",
     "text": [
      "Time: 46.30 s | Train Loss: 0.00 | Train Acc: 1.00 | Train F1: 1.00 | Test Loss: 0.75 | Test Acc: 0.91 | Test F1: 0.92\n",
      "\n",
      "Epoch 117:\n"
     ]
    },
    {
     "name": "stderr",
     "output_type": "stream",
     "text": [
      "    Training: 100%|██████████████████████████████████████████████████████████████████| 683/683 [00:41<00:00, 16.46it/s]\n",
      "    Testing: 100%|███████████████████████████████████████████████████████████████████| 293/293 [00:04<00:00, 63.79it/s]\n"
     ]
    },
    {
     "name": "stdout",
     "output_type": "stream",
     "text": [
      "Time: 46.12 s | Train Loss: 0.00 | Train Acc: 1.00 | Train F1: 1.00 | Test Loss: 0.70 | Test Acc: 0.92 | Test F1: 0.92\n",
      "\n",
      "Epoch 118:\n"
     ]
    },
    {
     "name": "stderr",
     "output_type": "stream",
     "text": [
      "    Training: 100%|██████████████████████████████████████████████████████████████████| 683/683 [00:41<00:00, 16.51it/s]\n",
      "    Testing: 100%|███████████████████████████████████████████████████████████████████| 293/293 [00:04<00:00, 63.56it/s]\n"
     ]
    },
    {
     "name": "stdout",
     "output_type": "stream",
     "text": [
      "Time: 45.99 s | Train Loss: 0.00 | Train Acc: 1.00 | Train F1: 1.00 | Test Loss: 0.70 | Test Acc: 0.92 | Test F1: 0.92\n",
      "\n",
      "Epoch 119:\n"
     ]
    },
    {
     "name": "stderr",
     "output_type": "stream",
     "text": [
      "    Training: 100%|██████████████████████████████████████████████████████████████████| 683/683 [00:41<00:00, 16.40it/s]\n",
      "    Testing: 100%|███████████████████████████████████████████████████████████████████| 293/293 [00:04<00:00, 63.61it/s]\n"
     ]
    },
    {
     "name": "stdout",
     "output_type": "stream",
     "text": [
      "Time: 46.28 s | Train Loss: 0.00 | Train Acc: 1.00 | Train F1: 1.00 | Test Loss: 0.91 | Test Acc: 0.91 | Test F1: 0.92\n",
      "\n",
      "Epoch 120:\n"
     ]
    },
    {
     "name": "stderr",
     "output_type": "stream",
     "text": [
      "    Training: 100%|██████████████████████████████████████████████████████████████████| 683/683 [00:41<00:00, 16.47it/s]\n",
      "    Testing: 100%|███████████████████████████████████████████████████████████████████| 293/293 [00:04<00:00, 63.70it/s]\n"
     ]
    },
    {
     "name": "stdout",
     "output_type": "stream",
     "text": [
      "Time: 46.10 s | Train Loss: 0.00 | Train Acc: 1.00 | Train F1: 1.00 | Test Loss: 0.84 | Test Acc: 0.92 | Test F1: 0.92\n",
      "\n",
      "Epoch 121:\n"
     ]
    },
    {
     "name": "stderr",
     "output_type": "stream",
     "text": [
      "    Training: 100%|██████████████████████████████████████████████████████████████████| 683/683 [00:41<00:00, 16.40it/s]\n",
      "    Testing: 100%|███████████████████████████████████████████████████████████████████| 293/293 [00:04<00:00, 62.13it/s]\n"
     ]
    },
    {
     "name": "stdout",
     "output_type": "stream",
     "text": [
      "Time: 46.39 s | Train Loss: 0.00 | Train Acc: 1.00 | Train F1: 1.00 | Test Loss: 0.70 | Test Acc: 0.92 | Test F1: 0.92\n",
      "\n",
      "Epoch 122:\n"
     ]
    },
    {
     "name": "stderr",
     "output_type": "stream",
     "text": [
      "    Training: 100%|██████████████████████████████████████████████████████████████████| 683/683 [00:41<00:00, 16.42it/s]\n",
      "    Testing: 100%|███████████████████████████████████████████████████████████████████| 293/293 [00:04<00:00, 63.36it/s]\n"
     ]
    },
    {
     "name": "stdout",
     "output_type": "stream",
     "text": [
      "Time: 46.25 s | Train Loss: 0.00 | Train Acc: 1.00 | Train F1: 1.00 | Test Loss: 0.85 | Test Acc: 0.91 | Test F1: 0.92\n",
      "\n",
      "Epoch 123:\n"
     ]
    },
    {
     "name": "stderr",
     "output_type": "stream",
     "text": [
      "    Training: 100%|██████████████████████████████████████████████████████████████████| 683/683 [00:41<00:00, 16.31it/s]\n",
      "    Testing: 100%|███████████████████████████████████████████████████████████████████| 293/293 [00:04<00:00, 63.47it/s]\n"
     ]
    },
    {
     "name": "stdout",
     "output_type": "stream",
     "text": [
      "Time: 46.52 s | Train Loss: 0.00 | Train Acc: 1.00 | Train F1: 1.00 | Test Loss: 0.71 | Test Acc: 0.92 | Test F1: 0.93\n",
      "\n",
      "Epoch 124:\n"
     ]
    },
    {
     "name": "stderr",
     "output_type": "stream",
     "text": [
      "    Training: 100%|██████████████████████████████████████████████████████████████████| 683/683 [00:41<00:00, 16.37it/s]\n",
      "    Testing: 100%|███████████████████████████████████████████████████████████████████| 293/293 [00:04<00:00, 63.64it/s]\n"
     ]
    },
    {
     "name": "stdout",
     "output_type": "stream",
     "text": [
      "Time: 46.34 s | Train Loss: 0.00 | Train Acc: 1.00 | Train F1: 1.00 | Test Loss: 0.73 | Test Acc: 0.92 | Test F1: 0.92\n",
      "\n",
      "Epoch 125:\n"
     ]
    },
    {
     "name": "stderr",
     "output_type": "stream",
     "text": [
      "    Training: 100%|██████████████████████████████████████████████████████████████████| 683/683 [00:41<00:00, 16.39it/s]\n",
      "    Testing: 100%|███████████████████████████████████████████████████████████████████| 293/293 [00:04<00:00, 63.47it/s]\n"
     ]
    },
    {
     "name": "stdout",
     "output_type": "stream",
     "text": [
      "Time: 46.30 s | Train Loss: 0.00 | Train Acc: 1.00 | Train F1: 1.00 | Test Loss: 0.73 | Test Acc: 0.92 | Test F1: 0.92\n",
      "\n",
      "Epoch 126:\n"
     ]
    },
    {
     "name": "stderr",
     "output_type": "stream",
     "text": [
      "    Training: 100%|██████████████████████████████████████████████████████████████████| 683/683 [00:41<00:00, 16.39it/s]\n",
      "    Testing: 100%|███████████████████████████████████████████████████████████████████| 293/293 [00:04<00:00, 63.46it/s]\n"
     ]
    },
    {
     "name": "stdout",
     "output_type": "stream",
     "text": [
      "Time: 46.32 s | Train Loss: 0.00 | Train Acc: 1.00 | Train F1: 1.00 | Test Loss: 0.82 | Test Acc: 0.92 | Test F1: 0.92\n",
      "\n",
      "Epoch 127:\n"
     ]
    },
    {
     "name": "stderr",
     "output_type": "stream",
     "text": [
      "    Training: 100%|██████████████████████████████████████████████████████████████████| 683/683 [00:41<00:00, 16.42it/s]\n",
      "    Testing: 100%|███████████████████████████████████████████████████████████████████| 293/293 [00:04<00:00, 63.40it/s]\n"
     ]
    },
    {
     "name": "stdout",
     "output_type": "stream",
     "text": [
      "Time: 46.24 s | Train Loss: 0.00 | Train Acc: 1.00 | Train F1: 1.00 | Test Loss: 0.78 | Test Acc: 0.92 | Test F1: 0.92\n",
      "\n",
      "Epoch 128:\n"
     ]
    },
    {
     "name": "stderr",
     "output_type": "stream",
     "text": [
      "    Training: 100%|██████████████████████████████████████████████████████████████████| 683/683 [00:41<00:00, 16.51it/s]\n",
      "    Testing: 100%|███████████████████████████████████████████████████████████████████| 293/293 [00:04<00:00, 63.38it/s]\n"
     ]
    },
    {
     "name": "stdout",
     "output_type": "stream",
     "text": [
      "Time: 46.02 s | Train Loss: 0.00 | Train Acc: 1.00 | Train F1: 1.00 | Test Loss: 0.81 | Test Acc: 0.92 | Test F1: 0.92\n",
      "\n",
      "Epoch 129:\n"
     ]
    },
    {
     "name": "stderr",
     "output_type": "stream",
     "text": [
      "    Training: 100%|██████████████████████████████████████████████████████████████████| 683/683 [00:41<00:00, 16.50it/s]\n",
      "    Testing: 100%|███████████████████████████████████████████████████████████████████| 293/293 [00:04<00:00, 63.42it/s]\n"
     ]
    },
    {
     "name": "stdout",
     "output_type": "stream",
     "text": [
      "Time: 46.04 s | Train Loss: 0.00 | Train Acc: 1.00 | Train F1: 1.00 | Test Loss: 0.80 | Test Acc: 0.92 | Test F1: 0.92\n",
      "\n",
      "Epoch 130:\n"
     ]
    },
    {
     "name": "stderr",
     "output_type": "stream",
     "text": [
      "    Training: 100%|██████████████████████████████████████████████████████████████████| 683/683 [00:41<00:00, 16.46it/s]\n",
      "    Testing: 100%|███████████████████████████████████████████████████████████████████| 293/293 [00:04<00:00, 63.29it/s]\n"
     ]
    },
    {
     "name": "stdout",
     "output_type": "stream",
     "text": [
      "Time: 46.15 s | Train Loss: 0.00 | Train Acc: 1.00 | Train F1: 1.00 | Test Loss: 0.83 | Test Acc: 0.92 | Test F1: 0.92\n",
      "\n",
      "Epoch 131:\n"
     ]
    },
    {
     "name": "stderr",
     "output_type": "stream",
     "text": [
      "    Training: 100%|██████████████████████████████████████████████████████████████████| 683/683 [00:48<00:00, 14.18it/s]\n",
      "    Testing: 100%|███████████████████████████████████████████████████████████████████| 293/293 [00:11<00:00, 26.41it/s]\n"
     ]
    },
    {
     "name": "stdout",
     "output_type": "stream",
     "text": [
      "Time: 59.27 s | Train Loss: 0.00 | Train Acc: 1.00 | Train F1: 1.00 | Test Loss: 1.06 | Test Acc: 0.91 | Test F1: 0.92\n",
      "\n",
      "Epoch 132:\n"
     ]
    },
    {
     "name": "stderr",
     "output_type": "stream",
     "text": [
      "    Training: 100%|██████████████████████████████████████████████████████████████████| 683/683 [00:55<00:00, 12.35it/s]\n",
      "    Testing: 100%|███████████████████████████████████████████████████████████████████| 293/293 [00:11<00:00, 26.46it/s]\n"
     ]
    },
    {
     "name": "stdout",
     "output_type": "stream",
     "text": [
      "Time: 66.39 s | Train Loss: 0.00 | Train Acc: 1.00 | Train F1: 1.00 | Test Loss: 0.75 | Test Acc: 0.92 | Test F1: 0.93\n",
      "\n",
      "Epoch 133:\n"
     ]
    },
    {
     "name": "stderr",
     "output_type": "stream",
     "text": [
      "    Training: 100%|██████████████████████████████████████████████████████████████████| 683/683 [00:55<00:00, 12.30it/s]\n",
      "    Testing: 100%|███████████████████████████████████████████████████████████████████| 293/293 [00:11<00:00, 26.50it/s]\n"
     ]
    },
    {
     "name": "stdout",
     "output_type": "stream",
     "text": [
      "Time: 66.61 s | Train Loss: 0.00 | Train Acc: 1.00 | Train F1: 1.00 | Test Loss: 0.75 | Test Acc: 0.92 | Test F1: 0.93\n",
      "\n",
      "Epoch 134:\n"
     ]
    },
    {
     "name": "stderr",
     "output_type": "stream",
     "text": [
      "    Training: 100%|██████████████████████████████████████████████████████████████████| 683/683 [00:55<00:00, 12.34it/s]\n",
      "    Testing: 100%|███████████████████████████████████████████████████████████████████| 293/293 [00:11<00:00, 26.45it/s]\n"
     ]
    },
    {
     "name": "stdout",
     "output_type": "stream",
     "text": [
      "Time: 66.46 s | Train Loss: 0.00 | Train Acc: 1.00 | Train F1: 1.00 | Test Loss: 0.76 | Test Acc: 0.92 | Test F1: 0.92\n",
      "\n",
      "Epoch 135:\n"
     ]
    },
    {
     "name": "stderr",
     "output_type": "stream",
     "text": [
      "    Training: 100%|██████████████████████████████████████████████████████████████████| 683/683 [00:55<00:00, 12.36it/s]\n",
      "    Testing: 100%|███████████████████████████████████████████████████████████████████| 293/293 [00:11<00:00, 26.41it/s]\n"
     ]
    },
    {
     "name": "stdout",
     "output_type": "stream",
     "text": [
      "Time: 66.37 s | Train Loss: 0.00 | Train Acc: 1.00 | Train F1: 1.00 | Test Loss: 0.79 | Test Acc: 0.92 | Test F1: 0.92\n",
      "\n",
      "Epoch 136:\n"
     ]
    },
    {
     "name": "stderr",
     "output_type": "stream",
     "text": [
      "    Training: 100%|██████████████████████████████████████████████████████████████████| 683/683 [00:55<00:00, 12.37it/s]\n",
      "    Testing: 100%|███████████████████████████████████████████████████████████████████| 293/293 [00:11<00:00, 26.46it/s]\n"
     ]
    },
    {
     "name": "stdout",
     "output_type": "stream",
     "text": [
      "Time: 66.31 s | Train Loss: 0.00 | Train Acc: 1.00 | Train F1: 1.00 | Test Loss: 0.74 | Test Acc: 0.91 | Test F1: 0.92\n",
      "\n",
      "Epoch 137:\n"
     ]
    },
    {
     "name": "stderr",
     "output_type": "stream",
     "text": [
      "    Training: 100%|██████████████████████████████████████████████████████████████████| 683/683 [00:55<00:00, 12.34it/s]\n",
      "    Testing: 100%|███████████████████████████████████████████████████████████████████| 293/293 [00:11<00:00, 26.47it/s]\n"
     ]
    },
    {
     "name": "stdout",
     "output_type": "stream",
     "text": [
      "Time: 66.45 s | Train Loss: 0.00 | Train Acc: 1.00 | Train F1: 1.00 | Test Loss: 0.72 | Test Acc: 0.92 | Test F1: 0.92\n",
      "\n",
      "Epoch 138:\n"
     ]
    },
    {
     "name": "stderr",
     "output_type": "stream",
     "text": [
      "    Training: 100%|██████████████████████████████████████████████████████████████████| 683/683 [00:55<00:00, 12.36it/s]\n",
      "    Testing: 100%|███████████████████████████████████████████████████████████████████| 293/293 [00:11<00:00, 26.43it/s]\n"
     ]
    },
    {
     "name": "stdout",
     "output_type": "stream",
     "text": [
      "Time: 66.38 s | Train Loss: 0.00 | Train Acc: 1.00 | Train F1: 1.00 | Test Loss: 0.69 | Test Acc: 0.92 | Test F1: 0.92\n",
      "\n",
      "Epoch 139:\n"
     ]
    },
    {
     "name": "stderr",
     "output_type": "stream",
     "text": [
      "    Training: 100%|██████████████████████████████████████████████████████████████████| 683/683 [00:55<00:00, 12.35it/s]\n",
      "    Testing: 100%|███████████████████████████████████████████████████████████████████| 293/293 [00:11<00:00, 26.44it/s]\n"
     ]
    },
    {
     "name": "stdout",
     "output_type": "stream",
     "text": [
      "Time: 66.38 s | Train Loss: 0.00 | Train Acc: 1.00 | Train F1: 1.00 | Test Loss: 0.86 | Test Acc: 0.92 | Test F1: 0.92\n",
      "\n",
      "Epoch 140:\n"
     ]
    },
    {
     "name": "stderr",
     "output_type": "stream",
     "text": [
      "    Training: 100%|██████████████████████████████████████████████████████████████████| 683/683 [00:55<00:00, 12.36it/s]\n",
      "    Testing: 100%|███████████████████████████████████████████████████████████████████| 293/293 [00:11<00:00, 26.37it/s]\n"
     ]
    },
    {
     "name": "stdout",
     "output_type": "stream",
     "text": [
      "Time: 66.40 s | Train Loss: 0.00 | Train Acc: 1.00 | Train F1: 1.00 | Test Loss: 0.86 | Test Acc: 0.91 | Test F1: 0.92\n",
      "\n",
      "Epoch 141:\n"
     ]
    },
    {
     "name": "stderr",
     "output_type": "stream",
     "text": [
      "    Training: 100%|██████████████████████████████████████████████████████████████████| 683/683 [00:55<00:00, 12.37it/s]\n",
      "    Testing: 100%|███████████████████████████████████████████████████████████████████| 293/293 [00:11<00:00, 26.36it/s]\n"
     ]
    },
    {
     "name": "stdout",
     "output_type": "stream",
     "text": [
      "Time: 66.37 s | Train Loss: 0.00 | Train Acc: 1.00 | Train F1: 1.00 | Test Loss: 0.76 | Test Acc: 0.92 | Test F1: 0.92\n",
      "\n",
      "Epoch 142:\n"
     ]
    },
    {
     "name": "stderr",
     "output_type": "stream",
     "text": [
      "    Training: 100%|██████████████████████████████████████████████████████████████████| 683/683 [00:55<00:00, 12.35it/s]\n",
      "    Testing: 100%|███████████████████████████████████████████████████████████████████| 293/293 [00:11<00:00, 26.40it/s]\n"
     ]
    },
    {
     "name": "stdout",
     "output_type": "stream",
     "text": [
      "Time: 66.41 s | Train Loss: 0.00 | Train Acc: 1.00 | Train F1: 1.00 | Test Loss: 0.77 | Test Acc: 0.92 | Test F1: 0.92\n",
      "\n",
      "Epoch 143:\n"
     ]
    },
    {
     "name": "stderr",
     "output_type": "stream",
     "text": [
      "    Training: 100%|██████████████████████████████████████████████████████████████████| 683/683 [00:55<00:00, 12.38it/s]\n",
      "    Testing: 100%|███████████████████████████████████████████████████████████████████| 293/293 [00:11<00:00, 26.40it/s]\n"
     ]
    },
    {
     "name": "stdout",
     "output_type": "stream",
     "text": [
      "Time: 66.29 s | Train Loss: 0.01 | Train Acc: 1.00 | Train F1: 1.00 | Test Loss: 0.77 | Test Acc: 0.92 | Test F1: 0.92\n",
      "\n",
      "Epoch 144:\n"
     ]
    },
    {
     "name": "stderr",
     "output_type": "stream",
     "text": [
      "    Training: 100%|██████████████████████████████████████████████████████████████████| 683/683 [00:55<00:00, 12.34it/s]\n",
      "    Testing: 100%|███████████████████████████████████████████████████████████████████| 293/293 [00:11<00:00, 26.47it/s]\n"
     ]
    },
    {
     "name": "stdout",
     "output_type": "stream",
     "text": [
      "Time: 66.44 s | Train Loss: 0.00 | Train Acc: 1.00 | Train F1: 1.00 | Test Loss: 0.76 | Test Acc: 0.92 | Test F1: 0.92\n",
      "\n",
      "Epoch 145:\n"
     ]
    },
    {
     "name": "stderr",
     "output_type": "stream",
     "text": [
      "    Training: 100%|██████████████████████████████████████████████████████████████████| 683/683 [00:55<00:00, 12.39it/s]\n",
      "    Testing: 100%|███████████████████████████████████████████████████████████████████| 293/293 [00:11<00:00, 26.36it/s]\n"
     ]
    },
    {
     "name": "stdout",
     "output_type": "stream",
     "text": [
      "Time: 66.26 s | Train Loss: 0.00 | Train Acc: 1.00 | Train F1: 1.00 | Test Loss: 0.80 | Test Acc: 0.92 | Test F1: 0.92\n",
      "\n",
      "Epoch 146:\n"
     ]
    },
    {
     "name": "stderr",
     "output_type": "stream",
     "text": [
      "    Training: 100%|██████████████████████████████████████████████████████████████████| 683/683 [00:55<00:00, 12.34it/s]\n",
      "    Testing: 100%|███████████████████████████████████████████████████████████████████| 293/293 [00:11<00:00, 26.48it/s]\n"
     ]
    },
    {
     "name": "stdout",
     "output_type": "stream",
     "text": [
      "Time: 66.42 s | Train Loss: 0.00 | Train Acc: 1.00 | Train F1: 1.00 | Test Loss: 0.82 | Test Acc: 0.92 | Test F1: 0.92\n",
      "\n",
      "Epoch 147:\n"
     ]
    },
    {
     "name": "stderr",
     "output_type": "stream",
     "text": [
      "    Training: 100%|██████████████████████████████████████████████████████████████████| 683/683 [00:55<00:00, 12.32it/s]\n",
      "    Testing: 100%|███████████████████████████████████████████████████████████████████| 293/293 [00:11<00:00, 26.42it/s]\n"
     ]
    },
    {
     "name": "stdout",
     "output_type": "stream",
     "text": [
      "Time: 66.55 s | Train Loss: 0.00 | Train Acc: 1.00 | Train F1: 1.00 | Test Loss: 0.80 | Test Acc: 0.91 | Test F1: 0.92\n",
      "\n",
      "Epoch 148:\n"
     ]
    },
    {
     "name": "stderr",
     "output_type": "stream",
     "text": [
      "    Training: 100%|██████████████████████████████████████████████████████████████████| 683/683 [00:55<00:00, 12.31it/s]\n",
      "    Testing: 100%|███████████████████████████████████████████████████████████████████| 293/293 [00:11<00:00, 26.39it/s]\n"
     ]
    },
    {
     "name": "stdout",
     "output_type": "stream",
     "text": [
      "Time: 66.62 s | Train Loss: 0.00 | Train Acc: 1.00 | Train F1: 1.00 | Test Loss: 0.80 | Test Acc: 0.92 | Test F1: 0.92\n",
      "\n",
      "Epoch 149:\n"
     ]
    },
    {
     "name": "stderr",
     "output_type": "stream",
     "text": [
      "    Training: 100%|██████████████████████████████████████████████████████████████████| 683/683 [00:55<00:00, 12.31it/s]\n",
      "    Testing: 100%|███████████████████████████████████████████████████████████████████| 293/293 [00:11<00:00, 26.32it/s]\n"
     ]
    },
    {
     "name": "stdout",
     "output_type": "stream",
     "text": [
      "Time: 66.65 s | Train Loss: 0.00 | Train Acc: 1.00 | Train F1: 1.00 | Test Loss: 0.78 | Test Acc: 0.92 | Test F1: 0.93\n",
      "\n",
      "Epoch 150:\n"
     ]
    },
    {
     "name": "stderr",
     "output_type": "stream",
     "text": [
      "    Training: 100%|██████████████████████████████████████████████████████████████████| 683/683 [00:55<00:00, 12.37it/s]\n",
      "    Testing: 100%|███████████████████████████████████████████████████████████████████| 293/293 [00:11<00:00, 26.51it/s]\n"
     ]
    },
    {
     "name": "stdout",
     "output_type": "stream",
     "text": [
      "Time: 66.28 s | Train Loss: 0.00 | Train Acc: 1.00 | Train F1: 1.00 | Test Loss: 0.72 | Test Acc: 0.92 | Test F1: 0.92\n",
      "\n",
      "Epoch 151:\n"
     ]
    },
    {
     "name": "stderr",
     "output_type": "stream",
     "text": [
      "    Training: 100%|██████████████████████████████████████████████████████████████████| 683/683 [00:55<00:00, 12.31it/s]\n",
      "    Testing: 100%|███████████████████████████████████████████████████████████████████| 293/293 [00:11<00:00, 26.50it/s]\n"
     ]
    },
    {
     "name": "stdout",
     "output_type": "stream",
     "text": [
      "Time: 66.58 s | Train Loss: 0.00 | Train Acc: 1.00 | Train F1: 1.00 | Test Loss: 0.87 | Test Acc: 0.92 | Test F1: 0.92\n",
      "\n",
      "Epoch 152:\n"
     ]
    },
    {
     "name": "stderr",
     "output_type": "stream",
     "text": [
      "    Training: 100%|██████████████████████████████████████████████████████████████████| 683/683 [00:55<00:00, 12.32it/s]\n",
      "    Testing: 100%|███████████████████████████████████████████████████████████████████| 293/293 [00:11<00:00, 26.54it/s]\n"
     ]
    },
    {
     "name": "stdout",
     "output_type": "stream",
     "text": [
      "Time: 66.52 s | Train Loss: 0.01 | Train Acc: 1.00 | Train F1: 1.00 | Test Loss: 0.65 | Test Acc: 0.92 | Test F1: 0.92\n",
      "\n",
      "Epoch 153:\n"
     ]
    },
    {
     "name": "stderr",
     "output_type": "stream",
     "text": [
      "    Training: 100%|██████████████████████████████████████████████████████████████████| 683/683 [00:55<00:00, 12.37it/s]\n",
      "    Testing: 100%|███████████████████████████████████████████████████████████████████| 293/293 [00:11<00:00, 26.37it/s]\n"
     ]
    },
    {
     "name": "stdout",
     "output_type": "stream",
     "text": [
      "Time: 66.33 s | Train Loss: 0.00 | Train Acc: 1.00 | Train F1: 1.00 | Test Loss: 0.68 | Test Acc: 0.91 | Test F1: 0.92\n",
      "\n",
      "Epoch 154:\n"
     ]
    },
    {
     "name": "stderr",
     "output_type": "stream",
     "text": [
      "    Training: 100%|██████████████████████████████████████████████████████████████████| 683/683 [00:55<00:00, 12.37it/s]\n",
      "    Testing: 100%|███████████████████████████████████████████████████████████████████| 293/293 [00:11<00:00, 26.46it/s]\n"
     ]
    },
    {
     "name": "stdout",
     "output_type": "stream",
     "text": [
      "Time: 66.33 s | Train Loss: 0.00 | Train Acc: 1.00 | Train F1: 1.00 | Test Loss: 0.72 | Test Acc: 0.91 | Test F1: 0.92\n",
      "\n",
      "Epoch 155:\n"
     ]
    },
    {
     "name": "stderr",
     "output_type": "stream",
     "text": [
      "    Training: 100%|██████████████████████████████████████████████████████████████████| 683/683 [00:55<00:00, 12.34it/s]\n",
      "    Testing: 100%|███████████████████████████████████████████████████████████████████| 293/293 [00:11<00:00, 26.42it/s]\n"
     ]
    },
    {
     "name": "stdout",
     "output_type": "stream",
     "text": [
      "Time: 66.48 s | Train Loss: 0.00 | Train Acc: 1.00 | Train F1: 1.00 | Test Loss: 0.70 | Test Acc: 0.92 | Test F1: 0.92\n",
      "\n",
      "Epoch 156:\n"
     ]
    },
    {
     "name": "stderr",
     "output_type": "stream",
     "text": [
      "    Training: 100%|██████████████████████████████████████████████████████████████████| 683/683 [00:55<00:00, 12.31it/s]\n",
      "    Testing: 100%|███████████████████████████████████████████████████████████████████| 293/293 [00:11<00:00, 26.35it/s]\n"
     ]
    },
    {
     "name": "stdout",
     "output_type": "stream",
     "text": [
      "Time: 66.66 s | Train Loss: 0.00 | Train Acc: 1.00 | Train F1: 1.00 | Test Loss: 0.84 | Test Acc: 0.91 | Test F1: 0.92\n",
      "\n",
      "Epoch 157:\n"
     ]
    },
    {
     "name": "stderr",
     "output_type": "stream",
     "text": [
      "    Training: 100%|██████████████████████████████████████████████████████████████████| 683/683 [00:55<00:00, 12.29it/s]\n",
      "    Testing: 100%|███████████████████████████████████████████████████████████████████| 293/293 [00:11<00:00, 26.32it/s]\n"
     ]
    },
    {
     "name": "stdout",
     "output_type": "stream",
     "text": [
      "Time: 66.71 s | Train Loss: 0.00 | Train Acc: 1.00 | Train F1: 1.00 | Test Loss: 0.82 | Test Acc: 0.92 | Test F1: 0.92\n",
      "\n",
      "Epoch 158:\n"
     ]
    },
    {
     "name": "stderr",
     "output_type": "stream",
     "text": [
      "    Training: 100%|██████████████████████████████████████████████████████████████████| 683/683 [00:55<00:00, 12.31it/s]\n",
      "    Testing: 100%|███████████████████████████████████████████████████████████████████| 293/293 [00:11<00:00, 26.15it/s]\n"
     ]
    },
    {
     "name": "stdout",
     "output_type": "stream",
     "text": [
      "Time: 66.72 s | Train Loss: 0.00 | Train Acc: 1.00 | Train F1: 1.00 | Test Loss: 0.74 | Test Acc: 0.92 | Test F1: 0.92\n",
      "\n",
      "Epoch 159:\n"
     ]
    },
    {
     "name": "stderr",
     "output_type": "stream",
     "text": [
      "    Training: 100%|██████████████████████████████████████████████████████████████████| 683/683 [00:55<00:00, 12.29it/s]\n",
      "    Testing: 100%|███████████████████████████████████████████████████████████████████| 293/293 [00:11<00:00, 26.38it/s]\n"
     ]
    },
    {
     "name": "stdout",
     "output_type": "stream",
     "text": [
      "Time: 66.72 s | Train Loss: 0.00 | Train Acc: 1.00 | Train F1: 1.00 | Test Loss: 0.76 | Test Acc: 0.92 | Test F1: 0.92\n",
      "\n",
      "Epoch 160:\n"
     ]
    },
    {
     "name": "stderr",
     "output_type": "stream",
     "text": [
      "    Training: 100%|██████████████████████████████████████████████████████████████████| 683/683 [00:55<00:00, 12.31it/s]\n",
      "    Testing: 100%|███████████████████████████████████████████████████████████████████| 293/293 [00:11<00:00, 26.43it/s]\n"
     ]
    },
    {
     "name": "stdout",
     "output_type": "stream",
     "text": [
      "Time: 66.61 s | Train Loss: 0.00 | Train Acc: 1.00 | Train F1: 1.00 | Test Loss: 0.79 | Test Acc: 0.91 | Test F1: 0.92\n",
      "\n",
      "Epoch 161:\n"
     ]
    },
    {
     "name": "stderr",
     "output_type": "stream",
     "text": [
      "    Training: 100%|██████████████████████████████████████████████████████████████████| 683/683 [00:55<00:00, 12.30it/s]\n",
      "    Testing: 100%|███████████████████████████████████████████████████████████████████| 293/293 [00:11<00:00, 26.50it/s]\n"
     ]
    },
    {
     "name": "stdout",
     "output_type": "stream",
     "text": [
      "Time: 66.58 s | Train Loss: 0.00 | Train Acc: 1.00 | Train F1: 1.00 | Test Loss: 0.78 | Test Acc: 0.91 | Test F1: 0.92\n",
      "\n",
      "Epoch 162:\n"
     ]
    },
    {
     "name": "stderr",
     "output_type": "stream",
     "text": [
      "    Training: 100%|██████████████████████████████████████████████████████████████████| 683/683 [00:55<00:00, 12.38it/s]\n",
      "    Testing: 100%|███████████████████████████████████████████████████████████████████| 293/293 [00:11<00:00, 26.47it/s]\n"
     ]
    },
    {
     "name": "stdout",
     "output_type": "stream",
     "text": [
      "Time: 66.26 s | Train Loss: 0.00 | Train Acc: 1.00 | Train F1: 1.00 | Test Loss: 0.73 | Test Acc: 0.91 | Test F1: 0.92\n",
      "\n",
      "Epoch 163:\n"
     ]
    },
    {
     "name": "stderr",
     "output_type": "stream",
     "text": [
      "    Training: 100%|██████████████████████████████████████████████████████████████████| 683/683 [00:55<00:00, 12.37it/s]\n",
      "    Testing: 100%|███████████████████████████████████████████████████████████████████| 293/293 [00:11<00:00, 26.40it/s]\n"
     ]
    },
    {
     "name": "stdout",
     "output_type": "stream",
     "text": [
      "Time: 66.32 s | Train Loss: 0.00 | Train Acc: 1.00 | Train F1: 1.00 | Test Loss: 0.87 | Test Acc: 0.91 | Test F1: 0.92\n",
      "\n",
      "Epoch 164:\n"
     ]
    },
    {
     "name": "stderr",
     "output_type": "stream",
     "text": [
      "    Training: 100%|██████████████████████████████████████████████████████████████████| 683/683 [00:55<00:00, 12.34it/s]\n",
      "    Testing: 100%|███████████████████████████████████████████████████████████████████| 293/293 [00:11<00:00, 26.47it/s]\n"
     ]
    },
    {
     "name": "stdout",
     "output_type": "stream",
     "text": [
      "Time: 66.44 s | Train Loss: 0.00 | Train Acc: 1.00 | Train F1: 1.00 | Test Loss: 0.75 | Test Acc: 0.91 | Test F1: 0.92\n",
      "\n",
      "Epoch 165:\n"
     ]
    },
    {
     "name": "stderr",
     "output_type": "stream",
     "text": [
      "    Training: 100%|██████████████████████████████████████████████████████████████████| 683/683 [00:55<00:00, 12.35it/s]\n",
      "    Testing: 100%|███████████████████████████████████████████████████████████████████| 293/293 [00:11<00:00, 26.53it/s]\n"
     ]
    },
    {
     "name": "stdout",
     "output_type": "stream",
     "text": [
      "Time: 66.36 s | Train Loss: 0.00 | Train Acc: 1.00 | Train F1: 1.00 | Test Loss: 0.78 | Test Acc: 0.92 | Test F1: 0.92\n",
      "\n",
      "Epoch 166:\n"
     ]
    },
    {
     "name": "stderr",
     "output_type": "stream",
     "text": [
      "    Training: 100%|██████████████████████████████████████████████████████████████████| 683/683 [02:23<00:00,  4.77it/s]\n",
      "    Testing: 100%|███████████████████████████████████████████████████████████████████| 293/293 [00:18<00:00, 16.26it/s]\n"
     ]
    },
    {
     "name": "stdout",
     "output_type": "stream",
     "text": [
      "Time: 161.25 s | Train Loss: 0.00 | Train Acc: 1.00 | Train F1: 1.00 | Test Loss: 0.75 | Test Acc: 0.91 | Test F1: 0.92\n",
      "\n",
      "Epoch 167:\n"
     ]
    },
    {
     "name": "stderr",
     "output_type": "stream",
     "text": [
      "    Training: 100%|██████████████████████████████████████████████████████████████████| 683/683 [03:31<00:00,  3.23it/s]\n",
      "    Testing: 100%|███████████████████████████████████████████████████████████████████| 293/293 [00:18<00:00, 16.26it/s]\n"
     ]
    },
    {
     "name": "stdout",
     "output_type": "stream",
     "text": [
      "Time: 229.52 s | Train Loss: 0.00 | Train Acc: 1.00 | Train F1: 1.00 | Test Loss: 0.75 | Test Acc: 0.92 | Test F1: 0.92\n",
      "\n",
      "Epoch 168:\n"
     ]
    },
    {
     "name": "stderr",
     "output_type": "stream",
     "text": [
      "    Training: 100%|██████████████████████████████████████████████████████████████████| 683/683 [03:30<00:00,  3.24it/s]\n",
      "    Testing: 100%|███████████████████████████████████████████████████████████████████| 293/293 [00:18<00:00, 15.92it/s]\n"
     ]
    },
    {
     "name": "stdout",
     "output_type": "stream",
     "text": [
      "Time: 229.26 s | Train Loss: 0.00 | Train Acc: 1.00 | Train F1: 1.00 | Test Loss: 0.88 | Test Acc: 0.91 | Test F1: 0.92\n",
      "\n",
      "Epoch 169:\n"
     ]
    },
    {
     "name": "stderr",
     "output_type": "stream",
     "text": [
      "    Training: 100%|██████████████████████████████████████████████████████████████████| 683/683 [03:31<00:00,  3.23it/s]\n",
      "    Testing: 100%|███████████████████████████████████████████████████████████████████| 293/293 [00:18<00:00, 16.23it/s]\n"
     ]
    },
    {
     "name": "stdout",
     "output_type": "stream",
     "text": [
      "Time: 229.35 s | Train Loss: 0.00 | Train Acc: 1.00 | Train F1: 1.00 | Test Loss: 0.88 | Test Acc: 0.91 | Test F1: 0.92\n",
      "\n",
      "Epoch 170:\n"
     ]
    },
    {
     "name": "stderr",
     "output_type": "stream",
     "text": [
      "    Training: 100%|██████████████████████████████████████████████████████████████████| 683/683 [03:31<00:00,  3.24it/s]\n",
      "    Testing: 100%|███████████████████████████████████████████████████████████████████| 293/293 [00:17<00:00, 16.32it/s]\n"
     ]
    },
    {
     "name": "stdout",
     "output_type": "stream",
     "text": [
      "Time: 229.05 s | Train Loss: 0.00 | Train Acc: 1.00 | Train F1: 1.00 | Test Loss: 0.78 | Test Acc: 0.91 | Test F1: 0.92\n",
      "\n",
      "Epoch 171:\n"
     ]
    },
    {
     "name": "stderr",
     "output_type": "stream",
     "text": [
      "    Training: 100%|██████████████████████████████████████████████████████████████████| 683/683 [03:31<00:00,  3.23it/s]\n",
      "    Testing: 100%|███████████████████████████████████████████████████████████████████| 293/293 [00:18<00:00, 15.95it/s]\n"
     ]
    },
    {
     "name": "stdout",
     "output_type": "stream",
     "text": [
      "Time: 229.97 s | Train Loss: 0.00 | Train Acc: 1.00 | Train F1: 1.00 | Test Loss: 0.70 | Test Acc: 0.91 | Test F1: 0.92\n",
      "\n",
      "Epoch 172:\n"
     ]
    },
    {
     "name": "stderr",
     "output_type": "stream",
     "text": [
      "    Training: 100%|██████████████████████████████████████████████████████████████████| 683/683 [03:30<00:00,  3.24it/s]\n",
      "    Testing: 100%|███████████████████████████████████████████████████████████████████| 293/293 [00:18<00:00, 16.15it/s]\n"
     ]
    },
    {
     "name": "stdout",
     "output_type": "stream",
     "text": [
      "Time: 228.73 s | Train Loss: 0.00 | Train Acc: 1.00 | Train F1: 1.00 | Test Loss: 0.79 | Test Acc: 0.91 | Test F1: 0.92\n",
      "\n",
      "Epoch 173:\n"
     ]
    },
    {
     "name": "stderr",
     "output_type": "stream",
     "text": [
      "    Training: 100%|██████████████████████████████████████████████████████████████████| 683/683 [03:29<00:00,  3.25it/s]\n",
      "    Testing: 100%|███████████████████████████████████████████████████████████████████| 293/293 [00:17<00:00, 16.53it/s]\n"
     ]
    },
    {
     "name": "stdout",
     "output_type": "stream",
     "text": [
      "Time: 227.72 s | Train Loss: 0.00 | Train Acc: 1.00 | Train F1: 1.00 | Test Loss: 0.89 | Test Acc: 0.91 | Test F1: 0.92\n",
      "\n",
      "Epoch 174:\n"
     ]
    },
    {
     "name": "stderr",
     "output_type": "stream",
     "text": [
      "    Training: 100%|██████████████████████████████████████████████████████████████████| 683/683 [03:29<00:00,  3.26it/s]\n",
      "    Testing: 100%|███████████████████████████████████████████████████████████████████| 293/293 [00:17<00:00, 16.47it/s]\n"
     ]
    },
    {
     "name": "stdout",
     "output_type": "stream",
     "text": [
      "Time: 227.15 s | Train Loss: 0.00 | Train Acc: 1.00 | Train F1: 1.00 | Test Loss: 1.00 | Test Acc: 0.91 | Test F1: 0.92\n",
      "\n",
      "Epoch 175:\n"
     ]
    },
    {
     "name": "stderr",
     "output_type": "stream",
     "text": [
      "    Training: 100%|██████████████████████████████████████████████████████████████████| 683/683 [03:29<00:00,  3.25it/s]\n",
      "    Testing: 100%|███████████████████████████████████████████████████████████████████| 293/293 [00:17<00:00, 16.35it/s]\n"
     ]
    },
    {
     "name": "stdout",
     "output_type": "stream",
     "text": [
      "Time: 227.87 s | Train Loss: 0.01 | Train Acc: 1.00 | Train F1: 1.00 | Test Loss: 0.60 | Test Acc: 0.92 | Test F1: 0.92\n",
      "\n",
      "Epoch 176:\n"
     ]
    },
    {
     "name": "stderr",
     "output_type": "stream",
     "text": [
      "    Training: 100%|██████████████████████████████████████████████████████████████████| 683/683 [03:29<00:00,  3.25it/s]\n",
      "    Testing: 100%|███████████████████████████████████████████████████████████████████| 293/293 [00:17<00:00, 16.48it/s]\n"
     ]
    },
    {
     "name": "stdout",
     "output_type": "stream",
     "text": [
      "Time: 227.73 s | Train Loss: 0.00 | Train Acc: 1.00 | Train F1: 1.00 | Test Loss: 0.65 | Test Acc: 0.91 | Test F1: 0.92\n",
      "\n",
      "Epoch 177:\n"
     ]
    },
    {
     "name": "stderr",
     "output_type": "stream",
     "text": [
      "    Training: 100%|██████████████████████████████████████████████████████████████████| 683/683 [03:29<00:00,  3.26it/s]\n",
      "    Testing: 100%|███████████████████████████████████████████████████████████████████| 293/293 [00:17<00:00, 16.50it/s]\n"
     ]
    },
    {
     "name": "stdout",
     "output_type": "stream",
     "text": [
      "Time: 227.21 s | Train Loss: 0.00 | Train Acc: 1.00 | Train F1: 1.00 | Test Loss: 0.67 | Test Acc: 0.92 | Test F1: 0.92\n",
      "\n",
      "Epoch 178:\n"
     ]
    },
    {
     "name": "stderr",
     "output_type": "stream",
     "text": [
      "    Training: 100%|██████████████████████████████████████████████████████████████████| 683/683 [03:29<00:00,  3.26it/s]\n",
      "    Testing: 100%|███████████████████████████████████████████████████████████████████| 293/293 [00:18<00:00, 16.16it/s]\n"
     ]
    },
    {
     "name": "stdout",
     "output_type": "stream",
     "text": [
      "Time: 227.93 s | Train Loss: 0.00 | Train Acc: 1.00 | Train F1: 1.00 | Test Loss: 0.75 | Test Acc: 0.91 | Test F1: 0.92\n",
      "\n",
      "Epoch 179:\n"
     ]
    },
    {
     "name": "stderr",
     "output_type": "stream",
     "text": [
      "    Training: 100%|██████████████████████████████████████████████████████████████████| 683/683 [03:29<00:00,  3.26it/s]\n",
      "    Testing: 100%|███████████████████████████████████████████████████████████████████| 293/293 [00:17<00:00, 16.44it/s]\n"
     ]
    },
    {
     "name": "stdout",
     "output_type": "stream",
     "text": [
      "Time: 227.56 s | Train Loss: 0.00 | Train Acc: 1.00 | Train F1: 1.00 | Test Loss: 0.68 | Test Acc: 0.92 | Test F1: 0.92\n",
      "\n",
      "Epoch 180:\n"
     ]
    },
    {
     "name": "stderr",
     "output_type": "stream",
     "text": [
      "    Training: 100%|██████████████████████████████████████████████████████████████████| 683/683 [03:30<00:00,  3.25it/s]\n",
      "    Testing: 100%|███████████████████████████████████████████████████████████████████| 293/293 [00:17<00:00, 16.44it/s]\n"
     ]
    },
    {
     "name": "stdout",
     "output_type": "stream",
     "text": [
      "Time: 228.20 s | Train Loss: 0.00 | Train Acc: 1.00 | Train F1: 1.00 | Test Loss: 0.68 | Test Acc: 0.91 | Test F1: 0.92\n",
      "\n",
      "Epoch 181:\n"
     ]
    },
    {
     "name": "stderr",
     "output_type": "stream",
     "text": [
      "    Training: 100%|██████████████████████████████████████████████████████████████████| 683/683 [03:29<00:00,  3.27it/s]\n",
      "    Testing: 100%|███████████████████████████████████████████████████████████████████| 293/293 [00:17<00:00, 16.48it/s]\n"
     ]
    },
    {
     "name": "stdout",
     "output_type": "stream",
     "text": [
      "Time: 226.90 s | Train Loss: 0.00 | Train Acc: 1.00 | Train F1: 1.00 | Test Loss: 0.68 | Test Acc: 0.92 | Test F1: 0.92\n",
      "\n",
      "Epoch 182:\n"
     ]
    },
    {
     "name": "stderr",
     "output_type": "stream",
     "text": [
      "    Training: 100%|██████████████████████████████████████████████████████████████████| 683/683 [03:29<00:00,  3.25it/s]\n",
      "    Testing: 100%|███████████████████████████████████████████████████████████████████| 293/293 [00:17<00:00, 16.52it/s]\n"
     ]
    },
    {
     "name": "stdout",
     "output_type": "stream",
     "text": [
      "Time: 227.73 s | Train Loss: 0.00 | Train Acc: 1.00 | Train F1: 1.00 | Test Loss: 0.75 | Test Acc: 0.91 | Test F1: 0.92\n",
      "\n",
      "Epoch 183:\n"
     ]
    },
    {
     "name": "stderr",
     "output_type": "stream",
     "text": [
      "    Training: 100%|██████████████████████████████████████████████████████████████████| 683/683 [03:31<00:00,  3.23it/s]\n",
      "    Testing: 100%|███████████████████████████████████████████████████████████████████| 293/293 [00:17<00:00, 16.37it/s]\n"
     ]
    },
    {
     "name": "stdout",
     "output_type": "stream",
     "text": [
      "Time: 229.15 s | Train Loss: 0.00 | Train Acc: 1.00 | Train F1: 1.00 | Test Loss: 0.81 | Test Acc: 0.92 | Test F1: 0.93\n",
      "\n",
      "Epoch 184:\n"
     ]
    },
    {
     "name": "stderr",
     "output_type": "stream",
     "text": [
      "    Training: 100%|██████████████████████████████████████████████████████████████████| 683/683 [03:31<00:00,  3.23it/s]\n",
      "    Testing: 100%|███████████████████████████████████████████████████████████████████| 293/293 [00:17<00:00, 16.48it/s]\n"
     ]
    },
    {
     "name": "stdout",
     "output_type": "stream",
     "text": [
      "Time: 228.99 s | Train Loss: 0.00 | Train Acc: 1.00 | Train F1: 1.00 | Test Loss: 0.79 | Test Acc: 0.92 | Test F1: 0.93\n",
      "\n",
      "Epoch 185:\n"
     ]
    },
    {
     "name": "stderr",
     "output_type": "stream",
     "text": [
      "    Training: 100%|██████████████████████████████████████████████████████████████████| 683/683 [03:29<00:00,  3.26it/s]\n",
      "    Testing: 100%|███████████████████████████████████████████████████████████████████| 293/293 [00:17<00:00, 16.48it/s]\n"
     ]
    },
    {
     "name": "stdout",
     "output_type": "stream",
     "text": [
      "Time: 227.58 s | Train Loss: 0.00 | Train Acc: 1.00 | Train F1: 1.00 | Test Loss: 0.92 | Test Acc: 0.92 | Test F1: 0.93\n",
      "\n",
      "Epoch 186:\n"
     ]
    },
    {
     "name": "stderr",
     "output_type": "stream",
     "text": [
      "    Training: 100%|██████████████████████████████████████████████████████████████████| 683/683 [03:29<00:00,  3.26it/s]\n",
      "    Testing: 100%|███████████████████████████████████████████████████████████████████| 293/293 [00:17<00:00, 16.45it/s]\n"
     ]
    },
    {
     "name": "stdout",
     "output_type": "stream",
     "text": [
      "Time: 227.05 s | Train Loss: 0.00 | Train Acc: 1.00 | Train F1: 1.00 | Test Loss: 0.94 | Test Acc: 0.92 | Test F1: 0.92\n",
      "\n",
      "Epoch 187:\n"
     ]
    },
    {
     "name": "stderr",
     "output_type": "stream",
     "text": [
      "    Training: 100%|██████████████████████████████████████████████████████████████████| 683/683 [03:30<00:00,  3.24it/s]\n",
      "    Testing: 100%|███████████████████████████████████████████████████████████████████| 293/293 [00:18<00:00, 16.14it/s]\n"
     ]
    },
    {
     "name": "stdout",
     "output_type": "stream",
     "text": [
      "Time: 228.77 s | Train Loss: 0.00 | Train Acc: 1.00 | Train F1: 1.00 | Test Loss: 0.89 | Test Acc: 0.92 | Test F1: 0.93\n",
      "\n",
      "Epoch 188:\n"
     ]
    },
    {
     "name": "stderr",
     "output_type": "stream",
     "text": [
      "    Training: 100%|██████████████████████████████████████████████████████████████████| 683/683 [03:31<00:00,  3.23it/s]\n",
      "    Testing: 100%|███████████████████████████████████████████████████████████████████| 293/293 [00:17<00:00, 16.41it/s]\n"
     ]
    },
    {
     "name": "stdout",
     "output_type": "stream",
     "text": [
      "Time: 229.28 s | Train Loss: 0.00 | Train Acc: 1.00 | Train F1: 1.00 | Test Loss: 0.74 | Test Acc: 0.92 | Test F1: 0.92\n",
      "\n",
      "Epoch 189:\n"
     ]
    },
    {
     "name": "stderr",
     "output_type": "stream",
     "text": [
      "    Training: 100%|██████████████████████████████████████████████████████████████████| 683/683 [03:29<00:00,  3.25it/s]\n",
      "    Testing: 100%|███████████████████████████████████████████████████████████████████| 293/293 [00:17<00:00, 16.40it/s]\n"
     ]
    },
    {
     "name": "stdout",
     "output_type": "stream",
     "text": [
      "Time: 227.76 s | Train Loss: 0.00 | Train Acc: 1.00 | Train F1: 1.00 | Test Loss: 0.81 | Test Acc: 0.92 | Test F1: 0.92\n",
      "\n",
      "Epoch 190:\n"
     ]
    },
    {
     "name": "stderr",
     "output_type": "stream",
     "text": [
      "    Training: 100%|██████████████████████████████████████████████████████████████████| 683/683 [03:30<00:00,  3.25it/s]\n",
      "    Testing: 100%|███████████████████████████████████████████████████████████████████| 293/293 [00:17<00:00, 16.52it/s]\n"
     ]
    },
    {
     "name": "stdout",
     "output_type": "stream",
     "text": [
      "Time: 227.83 s | Train Loss: 0.00 | Train Acc: 1.00 | Train F1: 1.00 | Test Loss: 0.74 | Test Acc: 0.92 | Test F1: 0.92\n",
      "\n",
      "Epoch 191:\n"
     ]
    },
    {
     "name": "stderr",
     "output_type": "stream",
     "text": [
      "    Training: 100%|██████████████████████████████████████████████████████████████████| 683/683 [03:30<00:00,  3.24it/s]\n",
      "    Testing: 100%|███████████████████████████████████████████████████████████████████| 293/293 [00:17<00:00, 16.45it/s]\n"
     ]
    },
    {
     "name": "stdout",
     "output_type": "stream",
     "text": [
      "Time: 228.54 s | Train Loss: 0.00 | Train Acc: 1.00 | Train F1: 1.00 | Test Loss: 0.80 | Test Acc: 0.91 | Test F1: 0.92\n",
      "\n",
      "Epoch 192:\n"
     ]
    },
    {
     "name": "stderr",
     "output_type": "stream",
     "text": [
      "    Training: 100%|██████████████████████████████████████████████████████████████████| 683/683 [03:31<00:00,  3.23it/s]\n",
      "    Testing: 100%|███████████████████████████████████████████████████████████████████| 293/293 [00:18<00:00, 16.18it/s]\n"
     ]
    },
    {
     "name": "stdout",
     "output_type": "stream",
     "text": [
      "Time: 229.61 s | Train Loss: 0.00 | Train Acc: 1.00 | Train F1: 1.00 | Test Loss: 0.87 | Test Acc: 0.91 | Test F1: 0.92\n",
      "\n",
      "Epoch 193:\n"
     ]
    },
    {
     "name": "stderr",
     "output_type": "stream",
     "text": [
      "    Training: 100%|██████████████████████████████████████████████████████████████████| 683/683 [03:30<00:00,  3.25it/s]\n",
      "    Testing: 100%|███████████████████████████████████████████████████████████████████| 293/293 [00:17<00:00, 16.55it/s]\n"
     ]
    },
    {
     "name": "stdout",
     "output_type": "stream",
     "text": [
      "Time: 227.71 s | Train Loss: 0.00 | Train Acc: 1.00 | Train F1: 1.00 | Test Loss: 0.78 | Test Acc: 0.91 | Test F1: 0.92\n",
      "\n",
      "Epoch 194:\n"
     ]
    },
    {
     "name": "stderr",
     "output_type": "stream",
     "text": [
      "    Training: 100%|██████████████████████████████████████████████████████████████████| 683/683 [03:29<00:00,  3.25it/s]\n",
      "    Testing: 100%|███████████████████████████████████████████████████████████████████| 293/293 [00:17<00:00, 16.38it/s]\n"
     ]
    },
    {
     "name": "stdout",
     "output_type": "stream",
     "text": [
      "Time: 227.87 s | Train Loss: 0.00 | Train Acc: 1.00 | Train F1: 1.00 | Test Loss: 0.66 | Test Acc: 0.92 | Test F1: 0.92\n",
      "\n",
      "Epoch 195:\n"
     ]
    },
    {
     "name": "stderr",
     "output_type": "stream",
     "text": [
      "    Training: 100%|██████████████████████████████████████████████████████████████████| 683/683 [03:29<00:00,  3.25it/s]\n",
      "    Testing: 100%|███████████████████████████████████████████████████████████████████| 293/293 [00:17<00:00, 16.53it/s]\n"
     ]
    },
    {
     "name": "stdout",
     "output_type": "stream",
     "text": [
      "Time: 227.73 s | Train Loss: 0.00 | Train Acc: 1.00 | Train F1: 1.00 | Test Loss: 0.66 | Test Acc: 0.92 | Test F1: 0.92\n",
      "\n",
      "Epoch 196:\n"
     ]
    },
    {
     "name": "stderr",
     "output_type": "stream",
     "text": [
      "    Training: 100%|██████████████████████████████████████████████████████████████████| 683/683 [03:31<00:00,  3.23it/s]\n",
      "    Testing: 100%|███████████████████████████████████████████████████████████████████| 293/293 [00:17<00:00, 16.48it/s]\n"
     ]
    },
    {
     "name": "stdout",
     "output_type": "stream",
     "text": [
      "Time: 228.96 s | Train Loss: 0.00 | Train Acc: 1.00 | Train F1: 1.00 | Test Loss: 0.74 | Test Acc: 0.92 | Test F1: 0.92\n",
      "\n",
      "Epoch 197:\n"
     ]
    },
    {
     "name": "stderr",
     "output_type": "stream",
     "text": [
      "    Training: 100%|██████████████████████████████████████████████████████████████████| 683/683 [03:29<00:00,  3.25it/s]\n",
      "    Testing: 100%|███████████████████████████████████████████████████████████████████| 293/293 [00:17<00:00, 16.49it/s]\n"
     ]
    },
    {
     "name": "stdout",
     "output_type": "stream",
     "text": [
      "Time: 227.65 s | Train Loss: 0.00 | Train Acc: 1.00 | Train F1: 1.00 | Test Loss: 0.79 | Test Acc: 0.92 | Test F1: 0.92\n",
      "\n",
      "Epoch 198:\n"
     ]
    },
    {
     "name": "stderr",
     "output_type": "stream",
     "text": [
      "    Training: 100%|██████████████████████████████████████████████████████████████████| 683/683 [03:28<00:00,  3.27it/s]\n",
      "    Testing: 100%|███████████████████████████████████████████████████████████████████| 293/293 [00:17<00:00, 16.38it/s]\n"
     ]
    },
    {
     "name": "stdout",
     "output_type": "stream",
     "text": [
      "Time: 226.71 s | Train Loss: 0.00 | Train Acc: 1.00 | Train F1: 1.00 | Test Loss: 1.07 | Test Acc: 0.92 | Test F1: 0.92\n",
      "\n",
      "Epoch 199:\n"
     ]
    },
    {
     "name": "stderr",
     "output_type": "stream",
     "text": [
      "    Training: 100%|██████████████████████████████████████████████████████████████████| 683/683 [03:29<00:00,  3.27it/s]\n",
      "    Testing: 100%|███████████████████████████████████████████████████████████████████| 293/293 [00:17<00:00, 16.52it/s]\n"
     ]
    },
    {
     "name": "stdout",
     "output_type": "stream",
     "text": [
      "Time: 226.76 s | Train Loss: 0.00 | Train Acc: 1.00 | Train F1: 1.00 | Test Loss: 0.71 | Test Acc: 0.91 | Test F1: 0.92\n",
      "\n",
      "Epoch 200:\n"
     ]
    },
    {
     "name": "stderr",
     "output_type": "stream",
     "text": [
      "    Training: 100%|██████████████████████████████████████████████████████████████████| 683/683 [03:31<00:00,  3.24it/s]\n",
      "    Testing: 100%|███████████████████████████████████████████████████████████████████| 293/293 [00:17<00:00, 16.52it/s]\n"
     ]
    },
    {
     "name": "stdout",
     "output_type": "stream",
     "text": [
      "Time: 228.85 s | Train Loss: 0.00 | Train Acc: 1.00 | Train F1: 1.00 | Test Loss: 0.79 | Test Acc: 0.92 | Test F1: 0.92\n",
      "\n",
      "Epoch 201:\n"
     ]
    },
    {
     "name": "stderr",
     "output_type": "stream",
     "text": [
      "    Training: 100%|██████████████████████████████████████████████████████████████████| 683/683 [03:29<00:00,  3.26it/s]\n",
      "    Testing: 100%|███████████████████████████████████████████████████████████████████| 293/293 [00:17<00:00, 16.51it/s]\n"
     ]
    },
    {
     "name": "stdout",
     "output_type": "stream",
     "text": [
      "Time: 227.56 s | Train Loss: 0.00 | Train Acc: 1.00 | Train F1: 1.00 | Test Loss: 0.89 | Test Acc: 0.92 | Test F1: 0.92\n",
      "\n",
      "Epoch 202:\n"
     ]
    },
    {
     "name": "stderr",
     "output_type": "stream",
     "text": [
      "    Training: 100%|██████████████████████████████████████████████████████████████████| 683/683 [03:29<00:00,  3.26it/s]\n",
      "    Testing: 100%|███████████████████████████████████████████████████████████████████| 293/293 [00:17<00:00, 16.45it/s]\n"
     ]
    },
    {
     "name": "stdout",
     "output_type": "stream",
     "text": [
      "Time: 227.32 s | Train Loss: 0.00 | Train Acc: 1.00 | Train F1: 1.00 | Test Loss: 0.81 | Test Acc: 0.92 | Test F1: 0.92\n",
      "\n",
      "Epoch 203:\n"
     ]
    },
    {
     "name": "stderr",
     "output_type": "stream",
     "text": [
      "    Training: 100%|██████████████████████████████████████████████████████████████████| 683/683 [03:29<00:00,  3.26it/s]\n",
      "    Testing: 100%|███████████████████████████████████████████████████████████████████| 293/293 [00:17<00:00, 16.40it/s]\n"
     ]
    },
    {
     "name": "stdout",
     "output_type": "stream",
     "text": [
      "Time: 227.34 s | Train Loss: 0.00 | Train Acc: 1.00 | Train F1: 1.00 | Test Loss: 0.87 | Test Acc: 0.91 | Test F1: 0.92\n",
      "\n",
      "Epoch 204:\n"
     ]
    },
    {
     "name": "stderr",
     "output_type": "stream",
     "text": [
      "    Training: 100%|██████████████████████████████████████████████████████████████████| 683/683 [03:29<00:00,  3.26it/s]\n",
      "    Testing: 100%|███████████████████████████████████████████████████████████████████| 293/293 [00:17<00:00, 16.40it/s]\n"
     ]
    },
    {
     "name": "stdout",
     "output_type": "stream",
     "text": [
      "Time: 227.64 s | Train Loss: 0.00 | Train Acc: 1.00 | Train F1: 1.00 | Test Loss: 0.89 | Test Acc: 0.92 | Test F1: 0.92\n",
      "\n",
      "Epoch 205:\n"
     ]
    },
    {
     "name": "stderr",
     "output_type": "stream",
     "text": [
      "    Training: 100%|██████████████████████████████████████████████████████████████████| 683/683 [03:29<00:00,  3.26it/s]\n",
      "    Testing: 100%|███████████████████████████████████████████████████████████████████| 293/293 [00:17<00:00, 16.51it/s]\n"
     ]
    },
    {
     "name": "stdout",
     "output_type": "stream",
     "text": [
      "Time: 227.24 s | Train Loss: 0.00 | Train Acc: 1.00 | Train F1: 1.00 | Test Loss: 0.99 | Test Acc: 0.92 | Test F1: 0.92\n",
      "\n",
      "Epoch 206:\n"
     ]
    },
    {
     "name": "stderr",
     "output_type": "stream",
     "text": [
      "    Training: 100%|██████████████████████████████████████████████████████████████████| 683/683 [03:28<00:00,  3.27it/s]\n",
      "    Testing: 100%|███████████████████████████████████████████████████████████████████| 293/293 [00:17<00:00, 16.44it/s]\n"
     ]
    },
    {
     "name": "stdout",
     "output_type": "stream",
     "text": [
      "Time: 226.69 s | Train Loss: 0.00 | Train Acc: 1.00 | Train F1: 1.00 | Test Loss: 0.73 | Test Acc: 0.92 | Test F1: 0.92\n",
      "\n",
      "Epoch 207:\n"
     ]
    },
    {
     "name": "stderr",
     "output_type": "stream",
     "text": [
      "    Training: 100%|██████████████████████████████████████████████████████████████████| 683/683 [03:28<00:00,  3.27it/s]\n",
      "    Testing: 100%|███████████████████████████████████████████████████████████████████| 293/293 [00:17<00:00, 16.40it/s]\n"
     ]
    },
    {
     "name": "stdout",
     "output_type": "stream",
     "text": [
      "Time: 226.76 s | Train Loss: 0.00 | Train Acc: 1.00 | Train F1: 1.00 | Test Loss: 0.94 | Test Acc: 0.91 | Test F1: 0.92\n",
      "\n",
      "Epoch 208:\n"
     ]
    },
    {
     "name": "stderr",
     "output_type": "stream",
     "text": [
      "    Training: 100%|██████████████████████████████████████████████████████████████████| 683/683 [03:29<00:00,  3.26it/s]\n",
      "    Testing: 100%|███████████████████████████████████████████████████████████████████| 293/293 [00:17<00:00, 16.43it/s]\n"
     ]
    },
    {
     "name": "stdout",
     "output_type": "stream",
     "text": [
      "Time: 227.55 s | Train Loss: 0.00 | Train Acc: 1.00 | Train F1: 1.00 | Test Loss: 0.88 | Test Acc: 0.92 | Test F1: 0.92\n",
      "\n",
      "Epoch 209:\n"
     ]
    },
    {
     "name": "stderr",
     "output_type": "stream",
     "text": [
      "    Training: 100%|██████████████████████████████████████████████████████████████████| 683/683 [03:29<00:00,  3.26it/s]\n",
      "    Testing: 100%|███████████████████████████████████████████████████████████████████| 293/293 [00:17<00:00, 16.52it/s]\n"
     ]
    },
    {
     "name": "stdout",
     "output_type": "stream",
     "text": [
      "Time: 227.46 s | Train Loss: 0.00 | Train Acc: 1.00 | Train F1: 1.00 | Test Loss: 0.92 | Test Acc: 0.92 | Test F1: 0.93\n",
      "\n",
      "Epoch 210:\n"
     ]
    },
    {
     "name": "stderr",
     "output_type": "stream",
     "text": [
      "    Training: 100%|██████████████████████████████████████████████████████████████████| 683/683 [03:29<00:00,  3.27it/s]\n",
      "    Testing: 100%|███████████████████████████████████████████████████████████████████| 293/293 [00:17<00:00, 16.52it/s]\n"
     ]
    },
    {
     "name": "stdout",
     "output_type": "stream",
     "text": [
      "Time: 226.89 s | Train Loss: 0.00 | Train Acc: 1.00 | Train F1: 1.00 | Test Loss: 0.81 | Test Acc: 0.92 | Test F1: 0.92\n",
      "\n",
      "Epoch 211:\n"
     ]
    },
    {
     "name": "stderr",
     "output_type": "stream",
     "text": [
      "    Training: 100%|██████████████████████████████████████████████████████████████████| 683/683 [03:29<00:00,  3.26it/s]\n",
      "    Testing: 100%|███████████████████████████████████████████████████████████████████| 293/293 [00:17<00:00, 16.49it/s]\n"
     ]
    },
    {
     "name": "stdout",
     "output_type": "stream",
     "text": [
      "Time: 227.00 s | Train Loss: 0.00 | Train Acc: 1.00 | Train F1: 1.00 | Test Loss: 0.95 | Test Acc: 0.91 | Test F1: 0.92\n",
      "\n",
      "Epoch 212:\n"
     ]
    },
    {
     "name": "stderr",
     "output_type": "stream",
     "text": [
      "    Training: 100%|██████████████████████████████████████████████████████████████████| 683/683 [03:31<00:00,  3.23it/s]\n",
      "    Testing: 100%|███████████████████████████████████████████████████████████████████| 293/293 [00:17<00:00, 16.28it/s]\n"
     ]
    },
    {
     "name": "stdout",
     "output_type": "stream",
     "text": [
      "Time: 229.36 s | Train Loss: 0.00 | Train Acc: 1.00 | Train F1: 1.00 | Test Loss: 0.75 | Test Acc: 0.92 | Test F1: 0.92\n",
      "\n",
      "Epoch 213:\n"
     ]
    },
    {
     "name": "stderr",
     "output_type": "stream",
     "text": [
      "    Training: 100%|██████████████████████████████████████████████████████████████████| 683/683 [03:31<00:00,  3.22it/s]\n",
      "    Testing: 100%|███████████████████████████████████████████████████████████████████| 293/293 [00:18<00:00, 16.11it/s]\n"
     ]
    },
    {
     "name": "stdout",
     "output_type": "stream",
     "text": [
      "Time: 230.13 s | Train Loss: 0.00 | Train Acc: 1.00 | Train F1: 1.00 | Test Loss: 0.83 | Test Acc: 0.92 | Test F1: 0.92\n",
      "\n",
      "Epoch 214:\n"
     ]
    },
    {
     "name": "stderr",
     "output_type": "stream",
     "text": [
      "    Training: 100%|██████████████████████████████████████████████████████████████████| 683/683 [03:32<00:00,  3.21it/s]\n",
      "    Testing: 100%|███████████████████████████████████████████████████████████████████| 293/293 [00:18<00:00, 16.26it/s]\n"
     ]
    },
    {
     "name": "stdout",
     "output_type": "stream",
     "text": [
      "Time: 230.73 s | Train Loss: 0.00 | Train Acc: 1.00 | Train F1: 1.00 | Test Loss: 0.89 | Test Acc: 0.92 | Test F1: 0.92\n",
      "\n",
      "Epoch 215:\n"
     ]
    },
    {
     "name": "stderr",
     "output_type": "stream",
     "text": [
      "    Training: 100%|██████████████████████████████████████████████████████████████████| 683/683 [03:32<00:00,  3.22it/s]\n",
      "    Testing: 100%|███████████████████████████████████████████████████████████████████| 293/293 [00:17<00:00, 16.47it/s]\n"
     ]
    },
    {
     "name": "stdout",
     "output_type": "stream",
     "text": [
      "Time: 229.90 s | Train Loss: 0.00 | Train Acc: 1.00 | Train F1: 1.00 | Test Loss: 0.96 | Test Acc: 0.91 | Test F1: 0.92\n",
      "\n",
      "Epoch 216:\n"
     ]
    },
    {
     "name": "stderr",
     "output_type": "stream",
     "text": [
      "    Training: 100%|██████████████████████████████████████████████████████████████████| 683/683 [03:30<00:00,  3.25it/s]\n",
      "    Testing: 100%|███████████████████████████████████████████████████████████████████| 293/293 [00:17<00:00, 16.50it/s]\n"
     ]
    },
    {
     "name": "stdout",
     "output_type": "stream",
     "text": [
      "Time: 228.17 s | Train Loss: 0.00 | Train Acc: 1.00 | Train F1: 1.00 | Test Loss: 0.83 | Test Acc: 0.92 | Test F1: 0.92\n",
      "\n",
      "Epoch 217:\n"
     ]
    },
    {
     "name": "stderr",
     "output_type": "stream",
     "text": [
      "    Training: 100%|██████████████████████████████████████████████████████████████████| 683/683 [03:30<00:00,  3.25it/s]\n",
      "    Testing: 100%|███████████████████████████████████████████████████████████████████| 293/293 [00:17<00:00, 16.49it/s]\n"
     ]
    },
    {
     "name": "stdout",
     "output_type": "stream",
     "text": [
      "Time: 227.91 s | Train Loss: 0.00 | Train Acc: 1.00 | Train F1: 1.00 | Test Loss: 1.61 | Test Acc: 0.90 | Test F1: 0.92\n",
      "\n",
      "Epoch 218:\n"
     ]
    },
    {
     "name": "stderr",
     "output_type": "stream",
     "text": [
      "    Training: 100%|██████████████████████████████████████████████████████████████████| 683/683 [03:30<00:00,  3.25it/s]\n",
      "    Testing: 100%|███████████████████████████████████████████████████████████████████| 293/293 [00:17<00:00, 16.53it/s]\n"
     ]
    },
    {
     "name": "stdout",
     "output_type": "stream",
     "text": [
      "Time: 227.99 s | Train Loss: 0.00 | Train Acc: 1.00 | Train F1: 1.00 | Test Loss: 0.91 | Test Acc: 0.92 | Test F1: 0.92\n",
      "\n",
      "Epoch 219:\n"
     ]
    },
    {
     "name": "stderr",
     "output_type": "stream",
     "text": [
      "    Training: 100%|██████████████████████████████████████████████████████████████████| 683/683 [03:32<00:00,  3.22it/s]\n",
      "    Testing: 100%|███████████████████████████████████████████████████████████████████| 293/293 [00:17<00:00, 16.51it/s]\n"
     ]
    },
    {
     "name": "stdout",
     "output_type": "stream",
     "text": [
      "Time: 229.78 s | Train Loss: 0.00 | Train Acc: 1.00 | Train F1: 1.00 | Test Loss: 0.90 | Test Acc: 0.92 | Test F1: 0.92\n",
      "\n",
      "Epoch 220:\n"
     ]
    },
    {
     "name": "stderr",
     "output_type": "stream",
     "text": [
      "    Training: 100%|██████████████████████████████████████████████████████████████████| 683/683 [03:30<00:00,  3.24it/s]\n",
      "    Testing: 100%|███████████████████████████████████████████████████████████████████| 293/293 [00:18<00:00, 16.25it/s]\n"
     ]
    },
    {
     "name": "stdout",
     "output_type": "stream",
     "text": [
      "Time: 228.97 s | Train Loss: 0.00 | Train Acc: 1.00 | Train F1: 1.00 | Test Loss: 0.80 | Test Acc: 0.91 | Test F1: 0.92\n",
      "\n",
      "Epoch 221:\n"
     ]
    },
    {
     "name": "stderr",
     "output_type": "stream",
     "text": [
      "    Training: 100%|██████████████████████████████████████████████████████████████████| 683/683 [03:30<00:00,  3.25it/s]\n",
      "    Testing: 100%|███████████████████████████████████████████████████████████████████| 293/293 [00:18<00:00, 16.04it/s]\n"
     ]
    },
    {
     "name": "stdout",
     "output_type": "stream",
     "text": [
      "Time: 228.59 s | Train Loss: 0.00 | Train Acc: 1.00 | Train F1: 1.00 | Test Loss: 0.81 | Test Acc: 0.92 | Test F1: 0.92\n",
      "\n",
      "Epoch 222:\n"
     ]
    },
    {
     "name": "stderr",
     "output_type": "stream",
     "text": [
      "    Training: 100%|██████████████████████████████████████████████████████████████████| 683/683 [03:30<00:00,  3.24it/s]\n",
      "    Testing: 100%|███████████████████████████████████████████████████████████████████| 293/293 [00:17<00:00, 16.48it/s]\n"
     ]
    },
    {
     "name": "stdout",
     "output_type": "stream",
     "text": [
      "Time: 228.54 s | Train Loss: 0.00 | Train Acc: 1.00 | Train F1: 1.00 | Test Loss: 1.05 | Test Acc: 0.91 | Test F1: 0.92\n",
      "\n",
      "Epoch 223:\n"
     ]
    },
    {
     "name": "stderr",
     "output_type": "stream",
     "text": [
      "    Training: 100%|██████████████████████████████████████████████████████████████████| 683/683 [03:30<00:00,  3.25it/s]\n",
      "    Testing: 100%|███████████████████████████████████████████████████████████████████| 293/293 [00:18<00:00, 15.95it/s]\n"
     ]
    },
    {
     "name": "stdout",
     "output_type": "stream",
     "text": [
      "Time: 228.55 s | Train Loss: 0.00 | Train Acc: 1.00 | Train F1: 1.00 | Test Loss: 1.03 | Test Acc: 0.92 | Test F1: 0.92\n",
      "\n",
      "Epoch 224:\n"
     ]
    },
    {
     "name": "stderr",
     "output_type": "stream",
     "text": [
      "    Training: 100%|██████████████████████████████████████████████████████████████████| 683/683 [03:30<00:00,  3.25it/s]\n",
      "    Testing: 100%|███████████████████████████████████████████████████████████████████| 293/293 [00:17<00:00, 16.48it/s]\n"
     ]
    },
    {
     "name": "stdout",
     "output_type": "stream",
     "text": [
      "Time: 227.96 s | Train Loss: 0.00 | Train Acc: 1.00 | Train F1: 1.00 | Test Loss: 1.01 | Test Acc: 0.92 | Test F1: 0.92\n",
      "\n",
      "Epoch 225:\n"
     ]
    },
    {
     "name": "stderr",
     "output_type": "stream",
     "text": [
      "    Training: 100%|██████████████████████████████████████████████████████████████████| 683/683 [03:29<00:00,  3.26it/s]\n",
      "    Testing: 100%|███████████████████████████████████████████████████████████████████| 293/293 [00:17<00:00, 16.34it/s]\n"
     ]
    },
    {
     "name": "stdout",
     "output_type": "stream",
     "text": [
      "Time: 227.64 s | Train Loss: 0.00 | Train Acc: 1.00 | Train F1: 1.00 | Test Loss: 0.97 | Test Acc: 0.92 | Test F1: 0.92\n",
      "\n",
      "Epoch 226:\n"
     ]
    },
    {
     "name": "stderr",
     "output_type": "stream",
     "text": [
      "    Training: 100%|██████████████████████████████████████████████████████████████████| 683/683 [03:30<00:00,  3.25it/s]\n",
      "    Testing: 100%|███████████████████████████████████████████████████████████████████| 293/293 [00:17<00:00, 16.50it/s]\n"
     ]
    },
    {
     "name": "stdout",
     "output_type": "stream",
     "text": [
      "Time: 228.16 s | Train Loss: 0.00 | Train Acc: 1.00 | Train F1: 1.00 | Test Loss: 0.84 | Test Acc: 0.92 | Test F1: 0.92\n",
      "\n",
      "Epoch 227:\n"
     ]
    },
    {
     "name": "stderr",
     "output_type": "stream",
     "text": [
      "    Training: 100%|██████████████████████████████████████████████████████████████████| 683/683 [03:29<00:00,  3.26it/s]\n",
      "    Testing: 100%|███████████████████████████████████████████████████████████████████| 293/293 [00:17<00:00, 16.42it/s]\n"
     ]
    },
    {
     "name": "stdout",
     "output_type": "stream",
     "text": [
      "Time: 227.66 s | Train Loss: 0.00 | Train Acc: 1.00 | Train F1: 1.00 | Test Loss: 0.88 | Test Acc: 0.92 | Test F1: 0.92\n",
      "\n",
      "Epoch 228:\n"
     ]
    },
    {
     "name": "stderr",
     "output_type": "stream",
     "text": [
      "    Training: 100%|██████████████████████████████████████████████████████████████████| 683/683 [03:30<00:00,  3.25it/s]\n",
      "    Testing: 100%|███████████████████████████████████████████████████████████████████| 293/293 [00:17<00:00, 16.45it/s]\n"
     ]
    },
    {
     "name": "stdout",
     "output_type": "stream",
     "text": [
      "Time: 227.87 s | Train Loss: 0.00 | Train Acc: 1.00 | Train F1: 1.00 | Test Loss: 1.04 | Test Acc: 0.92 | Test F1: 0.92\n",
      "\n",
      "Epoch 229:\n"
     ]
    },
    {
     "name": "stderr",
     "output_type": "stream",
     "text": [
      "    Training: 100%|██████████████████████████████████████████████████████████████████| 683/683 [03:29<00:00,  3.27it/s]\n",
      "    Testing: 100%|███████████████████████████████████████████████████████████████████| 293/293 [00:17<00:00, 16.48it/s]\n"
     ]
    },
    {
     "name": "stdout",
     "output_type": "stream",
     "text": [
      "Time: 226.95 s | Train Loss: 0.00 | Train Acc: 1.00 | Train F1: 1.00 | Test Loss: 1.02 | Test Acc: 0.92 | Test F1: 0.92\n",
      "\n",
      "Epoch 230:\n"
     ]
    },
    {
     "name": "stderr",
     "output_type": "stream",
     "text": [
      "    Training: 100%|██████████████████████████████████████████████████████████████████| 683/683 [03:29<00:00,  3.27it/s]\n",
      "    Testing: 100%|███████████████████████████████████████████████████████████████████| 293/293 [00:17<00:00, 16.41it/s]\n"
     ]
    },
    {
     "name": "stdout",
     "output_type": "stream",
     "text": [
      "Time: 226.99 s | Train Loss: 0.00 | Train Acc: 1.00 | Train F1: 1.00 | Test Loss: 0.99 | Test Acc: 0.92 | Test F1: 0.92\n",
      "\n",
      "Epoch 231:\n"
     ]
    },
    {
     "name": "stderr",
     "output_type": "stream",
     "text": [
      "    Training: 100%|██████████████████████████████████████████████████████████████████| 683/683 [03:30<00:00,  3.25it/s]\n",
      "    Testing: 100%|███████████████████████████████████████████████████████████████████| 293/293 [00:17<00:00, 16.32it/s]\n"
     ]
    },
    {
     "name": "stdout",
     "output_type": "stream",
     "text": [
      "Time: 228.00 s | Train Loss: 0.00 | Train Acc: 1.00 | Train F1: 1.00 | Test Loss: 0.93 | Test Acc: 0.92 | Test F1: 0.92\n",
      "\n",
      "Epoch 232:\n"
     ]
    },
    {
     "name": "stderr",
     "output_type": "stream",
     "text": [
      "    Training: 100%|██████████████████████████████████████████████████████████████████| 683/683 [03:30<00:00,  3.25it/s]\n",
      "    Testing: 100%|███████████████████████████████████████████████████████████████████| 293/293 [00:17<00:00, 16.42it/s]\n"
     ]
    },
    {
     "name": "stdout",
     "output_type": "stream",
     "text": [
      "Time: 228.07 s | Train Loss: 0.00 | Train Acc: 1.00 | Train F1: 1.00 | Test Loss: 0.97 | Test Acc: 0.92 | Test F1: 0.92\n",
      "\n",
      "Epoch 233:\n"
     ]
    },
    {
     "name": "stderr",
     "output_type": "stream",
     "text": [
      "    Training: 100%|██████████████████████████████████████████████████████████████████| 683/683 [03:29<00:00,  3.27it/s]\n",
      "    Testing: 100%|███████████████████████████████████████████████████████████████████| 293/293 [00:17<00:00, 16.44it/s]\n"
     ]
    },
    {
     "name": "stdout",
     "output_type": "stream",
     "text": [
      "Time: 226.95 s | Train Loss: 0.00 | Train Acc: 1.00 | Train F1: 1.00 | Test Loss: 1.13 | Test Acc: 0.92 | Test F1: 0.92\n",
      "\n",
      "Epoch 234:\n"
     ]
    },
    {
     "name": "stderr",
     "output_type": "stream",
     "text": [
      "    Training: 100%|██████████████████████████████████████████████████████████████████| 683/683 [03:28<00:00,  3.27it/s]\n",
      "    Testing: 100%|███████████████████████████████████████████████████████████████████| 293/293 [00:17<00:00, 16.43it/s]\n"
     ]
    },
    {
     "name": "stdout",
     "output_type": "stream",
     "text": [
      "Time: 226.76 s | Train Loss: 0.00 | Train Acc: 1.00 | Train F1: 1.00 | Test Loss: 0.93 | Test Acc: 0.92 | Test F1: 0.92\n",
      "\n",
      "Epoch 235:\n"
     ]
    },
    {
     "name": "stderr",
     "output_type": "stream",
     "text": [
      "    Training: 100%|██████████████████████████████████████████████████████████████████| 683/683 [03:31<00:00,  3.23it/s]\n",
      "    Testing: 100%|███████████████████████████████████████████████████████████████████| 293/293 [00:17<00:00, 16.46it/s]\n"
     ]
    },
    {
     "name": "stdout",
     "output_type": "stream",
     "text": [
      "Time: 228.93 s | Train Loss: 0.00 | Train Acc: 1.00 | Train F1: 1.00 | Test Loss: 1.01 | Test Acc: 0.92 | Test F1: 0.92\n",
      "\n",
      "Epoch 236:\n"
     ]
    },
    {
     "name": "stderr",
     "output_type": "stream",
     "text": [
      "    Training:  15%|█████████▉                                                        | 103/683 [00:33<03:06,  3.10it/s]\n"
     ]
    },
    {
     "ename": "KeyboardInterrupt",
     "evalue": "",
     "output_type": "error",
     "traceback": [
      "\u001B[1;31m---------------------------------------------------------------------------\u001B[0m",
      "\u001B[1;31mKeyboardInterrupt\u001B[0m                         Traceback (most recent call last)",
      "Input \u001B[1;32mIn [29]\u001B[0m, in \u001B[0;36m<cell line: 6>\u001B[1;34m()\u001B[0m\n\u001B[0;32m      4\u001B[0m optimizer \u001B[38;5;241m=\u001B[39m optim\u001B[38;5;241m.\u001B[39mAdam(model\u001B[38;5;241m.\u001B[39mparameters(), lr\u001B[38;5;241m=\u001B[39m\u001B[38;5;241m5e-4\u001B[39m)\n\u001B[0;32m      5\u001B[0m criterion \u001B[38;5;241m=\u001B[39m nn\u001B[38;5;241m.\u001B[39mCrossEntropyLoss()\n\u001B[1;32m----> 6\u001B[0m \u001B[43mtrain\u001B[49m\u001B[43m(\u001B[49m\u001B[43mmodel\u001B[49m\u001B[43m,\u001B[49m\u001B[43m \u001B[49m\u001B[43mdevice\u001B[49m\u001B[43m,\u001B[49m\u001B[43m \u001B[49m\u001B[43mtrain_loader\u001B[49m\u001B[43m,\u001B[49m\u001B[43m \u001B[49m\u001B[43mtest_loader\u001B[49m\u001B[43m,\u001B[49m\u001B[43m \u001B[49m\u001B[43moptimizer\u001B[49m\u001B[43m,\u001B[49m\u001B[43m \u001B[49m\u001B[43mcriterion\u001B[49m\u001B[43m,\u001B[49m\u001B[43m \u001B[49m\u001B[43mepochs\u001B[49m\u001B[38;5;241;43m=\u001B[39;49m\u001B[38;5;241;43m10000\u001B[39;49m\u001B[43m)\u001B[49m\n\u001B[0;32m      8\u001B[0m \u001B[38;5;66;03m# Close the tensorboard writer\u001B[39;00m\n\u001B[0;32m      9\u001B[0m writer\u001B[38;5;241m.\u001B[39mclose()\n",
      "Input \u001B[1;32mIn [28]\u001B[0m, in \u001B[0;36mtrain\u001B[1;34m(model, device, train_loader, test_loader, optimizer, criterion, epochs)\u001B[0m\n\u001B[0;32m     82\u001B[0m \u001B[38;5;28mprint\u001B[39m(\u001B[38;5;124mf\u001B[39m\u001B[38;5;124m\"\u001B[39m\u001B[38;5;124mEpoch \u001B[39m\u001B[38;5;132;01m{\u001B[39;00mepoch\u001B[38;5;250m \u001B[39m\u001B[38;5;241m+\u001B[39m\u001B[38;5;250m \u001B[39m\u001B[38;5;241m1\u001B[39m\u001B[38;5;132;01m}\u001B[39;00m\u001B[38;5;124m:\u001B[39m\u001B[38;5;124m\"\u001B[39m)\n\u001B[0;32m     84\u001B[0m \u001B[38;5;66;03m# Training Phase\u001B[39;00m\n\u001B[1;32m---> 85\u001B[0m train_loss, train_acc, train_f1 \u001B[38;5;241m=\u001B[39m \u001B[43mtrain_epoch\u001B[49m\u001B[43m(\u001B[49m\u001B[43mmodel\u001B[49m\u001B[43m,\u001B[49m\u001B[43m \u001B[49m\u001B[43mdevice\u001B[49m\u001B[43m,\u001B[49m\u001B[43m \u001B[49m\u001B[43mtrain_loader\u001B[49m\u001B[43m,\u001B[49m\u001B[43m \u001B[49m\u001B[43moptimizer\u001B[49m\u001B[43m,\u001B[49m\u001B[43m \u001B[49m\u001B[43mcriterion\u001B[49m\u001B[43m,\u001B[49m\u001B[43m \u001B[49m\u001B[43mepoch\u001B[49m\u001B[43m)\u001B[49m\n\u001B[0;32m     86\u001B[0m writer\u001B[38;5;241m.\u001B[39madd_scalar(\u001B[38;5;124m'\u001B[39m\u001B[38;5;124mTrain/Loss\u001B[39m\u001B[38;5;124m'\u001B[39m, train_loss, epoch)\n\u001B[0;32m     87\u001B[0m writer\u001B[38;5;241m.\u001B[39madd_scalar(\u001B[38;5;124m'\u001B[39m\u001B[38;5;124mTrain/BalancedAccuracy\u001B[39m\u001B[38;5;124m'\u001B[39m, train_acc, epoch)\n",
      "Input \u001B[1;32mIn [28]\u001B[0m, in \u001B[0;36mtrain_epoch\u001B[1;34m(model, device, train_loader, optimizer, criterion, epoch)\u001B[0m\n\u001B[0;32m     26\u001B[0m y_true, y_pred \u001B[38;5;241m=\u001B[39m [], []\n\u001B[0;32m     28\u001B[0m \u001B[38;5;28;01mwith\u001B[39;00m tqdm(total\u001B[38;5;241m=\u001B[39m\u001B[38;5;28mlen\u001B[39m(train_loader), desc\u001B[38;5;241m=\u001B[39m\u001B[38;5;124m\"\u001B[39m\u001B[38;5;124m    Training\u001B[39m\u001B[38;5;124m\"\u001B[39m, leave\u001B[38;5;241m=\u001B[39m\u001B[38;5;28;01mTrue\u001B[39;00m) \u001B[38;5;28;01mas\u001B[39;00m pbar:\n\u001B[1;32m---> 29\u001B[0m     \u001B[38;5;28;01mfor\u001B[39;00m batch_idx, data \u001B[38;5;129;01min\u001B[39;00m \u001B[38;5;28menumerate\u001B[39m(train_loader):\n\u001B[0;32m     30\u001B[0m         tags, attrs, edge_index, y, batch \u001B[38;5;241m=\u001B[39m data\u001B[38;5;241m.\u001B[39mtags\u001B[38;5;241m.\u001B[39mto(device), data\u001B[38;5;241m.\u001B[39mattrs\u001B[38;5;241m.\u001B[39mto(device), data\u001B[38;5;241m.\u001B[39medge_index\u001B[38;5;241m.\u001B[39mto(device), data\u001B[38;5;241m.\u001B[39my\u001B[38;5;241m.\u001B[39mto(device), data\u001B[38;5;241m.\u001B[39mbatch\u001B[38;5;241m.\u001B[39mto(device)\n\u001B[0;32m     31\u001B[0m         optimizer\u001B[38;5;241m.\u001B[39mzero_grad()\n",
      "File \u001B[1;32mC:\\Python310\\lib\\site-packages\\torch\\utils\\data\\dataloader.py:631\u001B[0m, in \u001B[0;36m_BaseDataLoaderIter.__next__\u001B[1;34m(self)\u001B[0m\n\u001B[0;32m    628\u001B[0m \u001B[38;5;28;01mif\u001B[39;00m \u001B[38;5;28mself\u001B[39m\u001B[38;5;241m.\u001B[39m_sampler_iter \u001B[38;5;129;01mis\u001B[39;00m \u001B[38;5;28;01mNone\u001B[39;00m:\n\u001B[0;32m    629\u001B[0m     \u001B[38;5;66;03m# TODO(https://github.com/pytorch/pytorch/issues/76750)\u001B[39;00m\n\u001B[0;32m    630\u001B[0m     \u001B[38;5;28mself\u001B[39m\u001B[38;5;241m.\u001B[39m_reset()  \u001B[38;5;66;03m# type: ignore[call-arg]\u001B[39;00m\n\u001B[1;32m--> 631\u001B[0m data \u001B[38;5;241m=\u001B[39m \u001B[38;5;28;43mself\u001B[39;49m\u001B[38;5;241;43m.\u001B[39;49m\u001B[43m_next_data\u001B[49m\u001B[43m(\u001B[49m\u001B[43m)\u001B[49m\n\u001B[0;32m    632\u001B[0m \u001B[38;5;28mself\u001B[39m\u001B[38;5;241m.\u001B[39m_num_yielded \u001B[38;5;241m+\u001B[39m\u001B[38;5;241m=\u001B[39m \u001B[38;5;241m1\u001B[39m\n\u001B[0;32m    633\u001B[0m \u001B[38;5;28;01mif\u001B[39;00m \u001B[38;5;28mself\u001B[39m\u001B[38;5;241m.\u001B[39m_dataset_kind \u001B[38;5;241m==\u001B[39m _DatasetKind\u001B[38;5;241m.\u001B[39mIterable \u001B[38;5;129;01mand\u001B[39;00m \\\n\u001B[0;32m    634\u001B[0m         \u001B[38;5;28mself\u001B[39m\u001B[38;5;241m.\u001B[39m_IterableDataset_len_called \u001B[38;5;129;01mis\u001B[39;00m \u001B[38;5;129;01mnot\u001B[39;00m \u001B[38;5;28;01mNone\u001B[39;00m \u001B[38;5;129;01mand\u001B[39;00m \\\n\u001B[0;32m    635\u001B[0m         \u001B[38;5;28mself\u001B[39m\u001B[38;5;241m.\u001B[39m_num_yielded \u001B[38;5;241m>\u001B[39m \u001B[38;5;28mself\u001B[39m\u001B[38;5;241m.\u001B[39m_IterableDataset_len_called:\n",
      "File \u001B[1;32mC:\\Python310\\lib\\site-packages\\torch\\utils\\data\\dataloader.py:675\u001B[0m, in \u001B[0;36m_SingleProcessDataLoaderIter._next_data\u001B[1;34m(self)\u001B[0m\n\u001B[0;32m    673\u001B[0m \u001B[38;5;28;01mdef\u001B[39;00m \u001B[38;5;21m_next_data\u001B[39m(\u001B[38;5;28mself\u001B[39m):\n\u001B[0;32m    674\u001B[0m     index \u001B[38;5;241m=\u001B[39m \u001B[38;5;28mself\u001B[39m\u001B[38;5;241m.\u001B[39m_next_index()  \u001B[38;5;66;03m# may raise StopIteration\u001B[39;00m\n\u001B[1;32m--> 675\u001B[0m     data \u001B[38;5;241m=\u001B[39m \u001B[38;5;28;43mself\u001B[39;49m\u001B[38;5;241;43m.\u001B[39;49m\u001B[43m_dataset_fetcher\u001B[49m\u001B[38;5;241;43m.\u001B[39;49m\u001B[43mfetch\u001B[49m\u001B[43m(\u001B[49m\u001B[43mindex\u001B[49m\u001B[43m)\u001B[49m  \u001B[38;5;66;03m# may raise StopIteration\u001B[39;00m\n\u001B[0;32m    676\u001B[0m     \u001B[38;5;28;01mif\u001B[39;00m \u001B[38;5;28mself\u001B[39m\u001B[38;5;241m.\u001B[39m_pin_memory:\n\u001B[0;32m    677\u001B[0m         data \u001B[38;5;241m=\u001B[39m _utils\u001B[38;5;241m.\u001B[39mpin_memory\u001B[38;5;241m.\u001B[39mpin_memory(data, \u001B[38;5;28mself\u001B[39m\u001B[38;5;241m.\u001B[39m_pin_memory_device)\n",
      "File \u001B[1;32mC:\\Python310\\lib\\site-packages\\torch\\utils\\data\\_utils\\fetch.py:54\u001B[0m, in \u001B[0;36m_MapDatasetFetcher.fetch\u001B[1;34m(self, possibly_batched_index)\u001B[0m\n\u001B[0;32m     52\u001B[0m \u001B[38;5;28;01melse\u001B[39;00m:\n\u001B[0;32m     53\u001B[0m     data \u001B[38;5;241m=\u001B[39m \u001B[38;5;28mself\u001B[39m\u001B[38;5;241m.\u001B[39mdataset[possibly_batched_index]\n\u001B[1;32m---> 54\u001B[0m \u001B[38;5;28;01mreturn\u001B[39;00m \u001B[38;5;28;43mself\u001B[39;49m\u001B[38;5;241;43m.\u001B[39;49m\u001B[43mcollate_fn\u001B[49m\u001B[43m(\u001B[49m\u001B[43mdata\u001B[49m\u001B[43m)\u001B[49m\n",
      "File \u001B[1;32mC:\\Python310\\lib\\site-packages\\torch_geometric\\loader\\dataloader.py:27\u001B[0m, in \u001B[0;36mCollater.__call__\u001B[1;34m(self, batch)\u001B[0m\n\u001B[0;32m     25\u001B[0m elem \u001B[38;5;241m=\u001B[39m batch[\u001B[38;5;241m0\u001B[39m]\n\u001B[0;32m     26\u001B[0m \u001B[38;5;28;01mif\u001B[39;00m \u001B[38;5;28misinstance\u001B[39m(elem, BaseData):\n\u001B[1;32m---> 27\u001B[0m     \u001B[38;5;28;01mreturn\u001B[39;00m \u001B[43mBatch\u001B[49m\u001B[38;5;241;43m.\u001B[39;49m\u001B[43mfrom_data_list\u001B[49m\u001B[43m(\u001B[49m\n\u001B[0;32m     28\u001B[0m \u001B[43m        \u001B[49m\u001B[43mbatch\u001B[49m\u001B[43m,\u001B[49m\n\u001B[0;32m     29\u001B[0m \u001B[43m        \u001B[49m\u001B[43mfollow_batch\u001B[49m\u001B[38;5;241;43m=\u001B[39;49m\u001B[38;5;28;43mself\u001B[39;49m\u001B[38;5;241;43m.\u001B[39;49m\u001B[43mfollow_batch\u001B[49m\u001B[43m,\u001B[49m\n\u001B[0;32m     30\u001B[0m \u001B[43m        \u001B[49m\u001B[43mexclude_keys\u001B[49m\u001B[38;5;241;43m=\u001B[39;49m\u001B[38;5;28;43mself\u001B[39;49m\u001B[38;5;241;43m.\u001B[39;49m\u001B[43mexclude_keys\u001B[49m\u001B[43m,\u001B[49m\n\u001B[0;32m     31\u001B[0m \u001B[43m    \u001B[49m\u001B[43m)\u001B[49m\n\u001B[0;32m     32\u001B[0m \u001B[38;5;28;01melif\u001B[39;00m \u001B[38;5;28misinstance\u001B[39m(elem, torch\u001B[38;5;241m.\u001B[39mTensor):\n\u001B[0;32m     33\u001B[0m     \u001B[38;5;28;01mreturn\u001B[39;00m default_collate(batch)\n",
      "File \u001B[1;32mC:\\Python310\\lib\\site-packages\\torch_geometric\\data\\batch.py:97\u001B[0m, in \u001B[0;36mBatch.from_data_list\u001B[1;34m(cls, data_list, follow_batch, exclude_keys)\u001B[0m\n\u001B[0;32m     82\u001B[0m \u001B[38;5;129m@classmethod\u001B[39m\n\u001B[0;32m     83\u001B[0m \u001B[38;5;28;01mdef\u001B[39;00m \u001B[38;5;21mfrom_data_list\u001B[39m(\n\u001B[0;32m     84\u001B[0m     \u001B[38;5;28mcls\u001B[39m,\n\u001B[1;32m   (...)\u001B[0m\n\u001B[0;32m     87\u001B[0m     exclude_keys: Optional[List[\u001B[38;5;28mstr\u001B[39m]] \u001B[38;5;241m=\u001B[39m \u001B[38;5;28;01mNone\u001B[39;00m,\n\u001B[0;32m     88\u001B[0m ) \u001B[38;5;241m-\u001B[39m\u001B[38;5;241m>\u001B[39m Self:\n\u001B[0;32m     89\u001B[0m \u001B[38;5;250m    \u001B[39m\u001B[38;5;124mr\u001B[39m\u001B[38;5;124;03m\"\"\"Constructs a :class:`~torch_geometric.data.Batch` object from a\u001B[39;00m\n\u001B[0;32m     90\u001B[0m \u001B[38;5;124;03m    list of :class:`~torch_geometric.data.Data` or\u001B[39;00m\n\u001B[0;32m     91\u001B[0m \u001B[38;5;124;03m    :class:`~torch_geometric.data.HeteroData` objects.\u001B[39;00m\n\u001B[1;32m   (...)\u001B[0m\n\u001B[0;32m     95\u001B[0m \u001B[38;5;124;03m    Will exclude any keys given in :obj:`exclude_keys`.\u001B[39;00m\n\u001B[0;32m     96\u001B[0m \u001B[38;5;124;03m    \"\"\"\u001B[39;00m\n\u001B[1;32m---> 97\u001B[0m     batch, slice_dict, inc_dict \u001B[38;5;241m=\u001B[39m \u001B[43mcollate\u001B[49m\u001B[43m(\u001B[49m\n\u001B[0;32m     98\u001B[0m \u001B[43m        \u001B[49m\u001B[38;5;28;43mcls\u001B[39;49m\u001B[43m,\u001B[49m\n\u001B[0;32m     99\u001B[0m \u001B[43m        \u001B[49m\u001B[43mdata_list\u001B[49m\u001B[38;5;241;43m=\u001B[39;49m\u001B[43mdata_list\u001B[49m\u001B[43m,\u001B[49m\n\u001B[0;32m    100\u001B[0m \u001B[43m        \u001B[49m\u001B[43mincrement\u001B[49m\u001B[38;5;241;43m=\u001B[39;49m\u001B[38;5;28;43;01mTrue\u001B[39;49;00m\u001B[43m,\u001B[49m\n\u001B[0;32m    101\u001B[0m \u001B[43m        \u001B[49m\u001B[43madd_batch\u001B[49m\u001B[38;5;241;43m=\u001B[39;49m\u001B[38;5;129;43;01mnot\u001B[39;49;00m\u001B[43m \u001B[49m\u001B[38;5;28;43misinstance\u001B[39;49m\u001B[43m(\u001B[49m\u001B[43mdata_list\u001B[49m\u001B[43m[\u001B[49m\u001B[38;5;241;43m0\u001B[39;49m\u001B[43m]\u001B[49m\u001B[43m,\u001B[49m\u001B[43m \u001B[49m\u001B[43mBatch\u001B[49m\u001B[43m)\u001B[49m\u001B[43m,\u001B[49m\n\u001B[0;32m    102\u001B[0m \u001B[43m        \u001B[49m\u001B[43mfollow_batch\u001B[49m\u001B[38;5;241;43m=\u001B[39;49m\u001B[43mfollow_batch\u001B[49m\u001B[43m,\u001B[49m\n\u001B[0;32m    103\u001B[0m \u001B[43m        \u001B[49m\u001B[43mexclude_keys\u001B[49m\u001B[38;5;241;43m=\u001B[39;49m\u001B[43mexclude_keys\u001B[49m\u001B[43m,\u001B[49m\n\u001B[0;32m    104\u001B[0m \u001B[43m    \u001B[49m\u001B[43m)\u001B[49m\n\u001B[0;32m    106\u001B[0m     batch\u001B[38;5;241m.\u001B[39m_num_graphs \u001B[38;5;241m=\u001B[39m \u001B[38;5;28mlen\u001B[39m(data_list)  \u001B[38;5;66;03m# type: ignore\u001B[39;00m\n\u001B[0;32m    107\u001B[0m     batch\u001B[38;5;241m.\u001B[39m_slice_dict \u001B[38;5;241m=\u001B[39m slice_dict  \u001B[38;5;66;03m# type: ignore\u001B[39;00m\n",
      "File \u001B[1;32mC:\\Python310\\lib\\site-packages\\torch_geometric\\data\\collate.py:109\u001B[0m, in \u001B[0;36mcollate\u001B[1;34m(cls, data_list, increment, add_batch, follow_batch, exclude_keys)\u001B[0m\n\u001B[0;32m    106\u001B[0m     \u001B[38;5;28;01mcontinue\u001B[39;00m\n\u001B[0;32m    108\u001B[0m \u001B[38;5;66;03m# Collate attributes into a unified representation:\u001B[39;00m\n\u001B[1;32m--> 109\u001B[0m value, slices, incs \u001B[38;5;241m=\u001B[39m \u001B[43m_collate\u001B[49m\u001B[43m(\u001B[49m\u001B[43mattr\u001B[49m\u001B[43m,\u001B[49m\u001B[43m \u001B[49m\u001B[43mvalues\u001B[49m\u001B[43m,\u001B[49m\u001B[43m \u001B[49m\u001B[43mdata_list\u001B[49m\u001B[43m,\u001B[49m\u001B[43m \u001B[49m\u001B[43mstores\u001B[49m\u001B[43m,\u001B[49m\n\u001B[0;32m    110\u001B[0m \u001B[43m                               \u001B[49m\u001B[43mincrement\u001B[49m\u001B[43m)\u001B[49m\n\u001B[0;32m    112\u001B[0m \u001B[38;5;66;03m# If parts of the data are already on GPU, make sure that auxiliary\u001B[39;00m\n\u001B[0;32m    113\u001B[0m \u001B[38;5;66;03m# data like `batch` or `ptr` are also created on GPU:\u001B[39;00m\n\u001B[0;32m    114\u001B[0m \u001B[38;5;28;01mif\u001B[39;00m \u001B[38;5;28misinstance\u001B[39m(value, Tensor) \u001B[38;5;129;01mand\u001B[39;00m value\u001B[38;5;241m.\u001B[39mis_cuda:\n",
      "File \u001B[1;32mC:\\Python310\\lib\\site-packages\\torch_geometric\\data\\collate.py:204\u001B[0m, in \u001B[0;36m_collate\u001B[1;34m(key, values, data_list, stores, increment)\u001B[0m\n\u001B[0;32m    201\u001B[0m         shape[cat_dim] \u001B[38;5;241m=\u001B[39m \u001B[38;5;28mint\u001B[39m(slices[\u001B[38;5;241m-\u001B[39m\u001B[38;5;241m1\u001B[39m])\n\u001B[0;32m    202\u001B[0m     out \u001B[38;5;241m=\u001B[39m elem\u001B[38;5;241m.\u001B[39mnew(storage)\u001B[38;5;241m.\u001B[39mresize_(\u001B[38;5;241m*\u001B[39mshape)\n\u001B[1;32m--> 204\u001B[0m value \u001B[38;5;241m=\u001B[39m \u001B[43mtorch\u001B[49m\u001B[38;5;241;43m.\u001B[39;49m\u001B[43mcat\u001B[49m\u001B[43m(\u001B[49m\u001B[43mvalues\u001B[49m\u001B[43m,\u001B[49m\u001B[43m \u001B[49m\u001B[43mdim\u001B[49m\u001B[38;5;241;43m=\u001B[39;49m\u001B[43mcat_dim\u001B[49m\u001B[43m \u001B[49m\u001B[38;5;129;43;01mor\u001B[39;49;00m\u001B[43m \u001B[49m\u001B[38;5;241;43m0\u001B[39;49m\u001B[43m,\u001B[49m\u001B[43m \u001B[49m\u001B[43mout\u001B[49m\u001B[38;5;241;43m=\u001B[39;49m\u001B[43mout\u001B[49m\u001B[43m)\u001B[49m\n\u001B[0;32m    206\u001B[0m \u001B[38;5;28;01mif\u001B[39;00m increment \u001B[38;5;129;01mand\u001B[39;00m \u001B[38;5;28misinstance\u001B[39m(value, EdgeIndex) \u001B[38;5;129;01mand\u001B[39;00m values[\u001B[38;5;241m0\u001B[39m]\u001B[38;5;241m.\u001B[39mis_sorted:\n\u001B[0;32m    207\u001B[0m     \u001B[38;5;66;03m# Check whether the whole `EdgeIndex` is sorted by row:\u001B[39;00m\n\u001B[0;32m    208\u001B[0m     \u001B[38;5;28;01mif\u001B[39;00m values[\u001B[38;5;241m0\u001B[39m]\u001B[38;5;241m.\u001B[39mis_sorted_by_row \u001B[38;5;129;01mand\u001B[39;00m (value[\u001B[38;5;241m0\u001B[39m]\u001B[38;5;241m.\u001B[39mdiff() \u001B[38;5;241m>\u001B[39m\u001B[38;5;241m=\u001B[39m \u001B[38;5;241m0\u001B[39m)\u001B[38;5;241m.\u001B[39mall():\n",
      "\u001B[1;31mKeyboardInterrupt\u001B[0m: "
     ]
    }
   ],
   "source": [
    "# Train the model\n",
    "device = torch.device('cuda' if torch.cuda.is_available() else 'cpu')\n",
    "model = GCN(hidden_channels=32, num_classes=2, tag_vocab=tag_vocab, attr_vocab=attr_vocab).to(device)\n",
    "optimizer = optim.Adam(model.parameters(), lr=5e-4)\n",
    "criterion = nn.CrossEntropyLoss()\n",
    "train(model, device, train_loader, test_loader, optimizer, criterion, epochs=10000)\n",
    "\n",
    "# Close the tensorboard writer\n",
    "writer.close()"
   ]
  },
  {
   "cell_type": "code",
   "execution_count": 27,
   "metadata": {},
   "outputs": [],
   "source": [
    "torch.cuda.empty_cache()\n",
    "writer.close()"
   ]
  },
  {
   "cell_type": "code",
   "execution_count": 25,
   "metadata": {},
   "outputs": [],
   "source": [
    "def test_model(model, device, data_loader):\n",
    "    model.eval()\n",
    "    y_true, y_pred = [], []\n",
    "    for data in data_loader:\n",
    "        tags, attrs, edge_index, y, batch = data.tags.to(device), data.attrs.to(device), data.edge_index.to(device), data.y.to(device), data.batch.to(device)\n",
    "        with torch.no_grad():\n",
    "            output = model(tags, attrs, edge_index, batch)\n",
    "        y_true.append(data.y)\n",
    "        y_pred.append(output.argmax(dim=1))\n",
    "    y_true = torch.cat(y_true, dim=0).cpu().numpy()\n",
    "    y_pred = torch.cat(y_pred, dim=0).cpu().numpy()\n",
    "    return y_true, y_pred"
   ]
  },
  {
   "cell_type": "code",
   "execution_count": 26,
   "metadata": {},
   "outputs": [
    {
     "name": "stdout",
     "output_type": "stream",
     "text": [
      "[[2551  247]\n",
      " [ 203 1678]]\n",
      "              precision    recall  f1-score   support\n",
      "\n",
      "           0       0.93      0.91      0.92      2798\n",
      "           1       0.87      0.89      0.88      1881\n",
      "\n",
      "    accuracy                           0.90      4679\n",
      "   macro avg       0.90      0.90      0.90      4679\n",
      "weighted avg       0.90      0.90      0.90      4679\n",
      "\n",
      "\n",
      "Balanced Accuracy: 0.9019006702972694\n",
      "F1 Score: 0.8817656332107199\n"
     ]
    }
   ],
   "source": [
    "y_true, y_pred = test_model(model, device, test_loader)\n",
    "print(confusion_matrix(y_true, y_pred))\n",
    "print(classification_report(y_true, y_pred))\n",
    "print()\n",
    "print(f'Balanced Accuracy: {balanced_accuracy_score(y_true, y_pred)}')\n",
    "print(f'F1 Score: {f1_score(y_true, y_pred)}')"
   ]
  },
  {
   "cell_type": "code",
   "execution_count": 18,
   "metadata": {},
   "outputs": [
    {
     "name": "stderr",
     "output_type": "stream",
     "text": [
      "    Testing: 100%|██████████████████████████████████████████████████████████████████| 293/293 [00:01<00:00, 157.64it/s]\n",
      "    Testing: 100%|██████████████████████████████████████████████████████████████████| 293/293 [00:01<00:00, 183.81it/s]\n",
      "    Testing: 100%|██████████████████████████████████████████████████████████████████| 293/293 [00:01<00:00, 184.02it/s]\n",
      "    Testing: 100%|██████████████████████████████████████████████████████████████████| 293/293 [00:01<00:00, 181.73it/s]\n",
      "    Testing: 100%|██████████████████████████████████████████████████████████████████| 293/293 [00:01<00:00, 185.56it/s]"
     ]
    },
    {
     "name": "stdout",
     "output_type": "stream",
     "text": [
      "Random Model | Test Accuracy: 0.4997196676140283 | Test F1: 0.5043534997251669 | Test Loss: 0.7143093726740762\n"
     ]
    },
    {
     "name": "stderr",
     "output_type": "stream",
     "text": [
      "\n"
     ]
    }
   ],
   "source": [
    "class RandomModel(nn.Module):\n",
    "    def __init__(self, num_classes):\n",
    "        super(RandomModel, self).__init__()\n",
    "        self.num_classes = num_classes\n",
    "\n",
    "    def forward(self, tags, attrs, edge_index, batch):\n",
    "        batch_size = len(np.unique(batch.cpu().numpy()))\n",
    "        return torch.rand((batch_size, self.num_classes)).to(device)\n",
    "    \n",
    "# random model\n",
    "device = torch.device('cuda' if torch.cuda.is_available() else 'cpu')\n",
    "model = RandomModel(num_classes=2).to(device)\n",
    "criterion = nn.CrossEntropyLoss()\n",
    "\n",
    "accs, f1s, losses = [], [], []\n",
    "for i in range(5):\n",
    "    acc, f1, loss = evaluate(model, device, test_loader, criterion, desc=\"Testing\")\n",
    "    accs.append(acc)\n",
    "    f1s.append(f1)\n",
    "    losses.append(loss)\n",
    "print(f'Random Model | Test Accuracy: {np.mean(accs)} | Test F1: {np.mean(f1s)} | Test Loss: {np.mean(losses)}')"
   ]
  },
  {
   "cell_type": "code",
   "execution_count": null,
   "metadata": {},
   "outputs": [],
   "source": []
  }
 ],
 "metadata": {
  "kernelspec": {
   "display_name": "Python 3 (ipykernel)",
   "language": "python",
   "name": "python3"
  },
  "language_info": {
   "codemirror_mode": {
    "name": "ipython",
    "version": 3
   },
   "file_extension": ".py",
   "mimetype": "text/x-python",
   "name": "python",
   "nbconvert_exporter": "python",
   "pygments_lexer": "ipython3",
   "version": "3.10.7"
  }
 },
 "nbformat": 4,
 "nbformat_minor": 1
}
