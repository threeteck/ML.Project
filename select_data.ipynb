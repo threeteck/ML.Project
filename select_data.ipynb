{
 "cells": [
  {
   "cell_type": "markdown",
   "source": [
    "Concat parts of table stored in ./data/data_parts/ as .parquet files into one table and save it as .parquet file in ./data/ folder."
   ],
   "metadata": {
    "collapsed": false
   }
  },
  {
   "cell_type": "code",
   "execution_count": 1,
   "metadata": {
    "collapsed": true
   },
   "outputs": [
    {
     "name": "stderr",
     "output_type": "stream",
     "text": [
      " 15%|█▌        | 100/652 [00:11<01:03,  8.63it/s]"
     ]
    },
    {
     "name": "stdout",
     "output_type": "stream",
     "text": [
      "Processed 100 files, stopping\n"
     ]
    },
    {
     "name": "stderr",
     "output_type": "stream",
     "text": [
      "\n"
     ]
    },
    {
     "data": {
      "text/plain": "                                                  url        type  \\\n2          http://www.bopsecrets.org/rexroth/cr/1.htm      benign   \n6   http://www.espn.go.com/nba/player/_/id/3457/br...      benign   \n9   http://www.allmusic.com/album/crazy-from-the-h...      benign   \n12          http://www.myspace.com/video/vid/30602581      benign   \n19                 http://www.vnic.co/khach-hang.html  defacement   \n\n                                                 html error  \n2   \\n\\n<!DOCTYPE html PUBLIC \"-//W3C//DTD HTML 4....        \n6   \\n        <!doctype html>\\n        <html lang=...        \n9   <!DOCTYPE html>\\n<html lang=\"en\">\\n<head>\\n   ...        \n12  <!DOCTYPE html>\\n<!-- videodetail -->\\n<!-- a0...        \n19  \\r\\n\\r\\n\\r\\n\\r\\n<!DOCTYPE html PUBLIC \"-//W3C/...        ",
      "text/html": "<div>\n<style scoped>\n    .dataframe tbody tr th:only-of-type {\n        vertical-align: middle;\n    }\n\n    .dataframe tbody tr th {\n        vertical-align: top;\n    }\n\n    .dataframe thead th {\n        text-align: right;\n    }\n</style>\n<table border=\"1\" class=\"dataframe\">\n  <thead>\n    <tr style=\"text-align: right;\">\n      <th></th>\n      <th>url</th>\n      <th>type</th>\n      <th>html</th>\n      <th>error</th>\n    </tr>\n  </thead>\n  <tbody>\n    <tr>\n      <th>2</th>\n      <td>http://www.bopsecrets.org/rexroth/cr/1.htm</td>\n      <td>benign</td>\n      <td>\\n\\n&lt;!DOCTYPE html PUBLIC \"-//W3C//DTD HTML 4....</td>\n      <td></td>\n    </tr>\n    <tr>\n      <th>6</th>\n      <td>http://www.espn.go.com/nba/player/_/id/3457/br...</td>\n      <td>benign</td>\n      <td>\\n        &lt;!doctype html&gt;\\n        &lt;html lang=...</td>\n      <td></td>\n    </tr>\n    <tr>\n      <th>9</th>\n      <td>http://www.allmusic.com/album/crazy-from-the-h...</td>\n      <td>benign</td>\n      <td>&lt;!DOCTYPE html&gt;\\n&lt;html lang=\"en\"&gt;\\n&lt;head&gt;\\n   ...</td>\n      <td></td>\n    </tr>\n    <tr>\n      <th>12</th>\n      <td>http://www.myspace.com/video/vid/30602581</td>\n      <td>benign</td>\n      <td>&lt;!DOCTYPE html&gt;\\n&lt;!-- videodetail --&gt;\\n&lt;!-- a0...</td>\n      <td></td>\n    </tr>\n    <tr>\n      <th>19</th>\n      <td>http://www.vnic.co/khach-hang.html</td>\n      <td>defacement</td>\n      <td>\\r\\n\\r\\n\\r\\n\\r\\n&lt;!DOCTYPE html PUBLIC \"-//W3C/...</td>\n      <td></td>\n    </tr>\n  </tbody>\n</table>\n</div>"
     },
     "execution_count": 1,
     "metadata": {},
     "output_type": "execute_result"
    }
   ],
   "source": [
    "import pandas as pd\n",
    "from glob import glob\n",
    "from tqdm import tqdm\n",
    "import gc\n",
    "\n",
    "data_parts = []\n",
    "\n",
    "for file in tqdm(glob('./data/data_parts/*.parquet')):\n",
    "    if len(data_parts) >= 100:\n",
    "        print('Processed 100 files, stopping')\n",
    "        break\n",
    "    try:\n",
    "        part = pd.read_parquet(file)\n",
    "        part = part[part['html'].str.len() >= 5000]\n",
    "        data_parts.append(part)\n",
    "        del part\n",
    "        gc.collect()\n",
    "    except Exception as e:\n",
    "        print(f'Error reading file {file}: {e}')\n",
    "\n",
    "data_parts[0].head()"
   ]
  },
  {
   "cell_type": "code",
   "execution_count": 2,
   "outputs": [
    {
     "data": {
      "text/plain": "(262, 4)"
     },
     "execution_count": 2,
     "metadata": {},
     "output_type": "execute_result"
    }
   ],
   "source": [
    "data_parts[0].shape"
   ],
   "metadata": {
    "collapsed": false
   }
  },
  {
   "cell_type": "code",
   "execution_count": 3,
   "outputs": [
    {
     "name": "stdout",
     "output_type": "stream",
     "text": [
      "(20798, 4)\n"
     ]
    },
    {
     "data": {
      "text/plain": "                                                  url        type  \\\n2          http://www.bopsecrets.org/rexroth/cr/1.htm      benign   \n6   http://www.espn.go.com/nba/player/_/id/3457/br...      benign   \n9   http://www.allmusic.com/album/crazy-from-the-h...      benign   \n12          http://www.myspace.com/video/vid/30602581      benign   \n19                 http://www.vnic.co/khach-hang.html  defacement   \n\n                                                 html error  \n2   \\n\\n<!DOCTYPE html PUBLIC \"-//W3C//DTD HTML 4....        \n6   \\n        <!doctype html>\\n        <html lang=...        \n9   <!DOCTYPE html>\\n<html lang=\"en\">\\n<head>\\n   ...        \n12  <!DOCTYPE html>\\n<!-- videodetail -->\\n<!-- a0...        \n19  \\r\\n\\r\\n\\r\\n\\r\\n<!DOCTYPE html PUBLIC \"-//W3C/...        ",
      "text/html": "<div>\n<style scoped>\n    .dataframe tbody tr th:only-of-type {\n        vertical-align: middle;\n    }\n\n    .dataframe tbody tr th {\n        vertical-align: top;\n    }\n\n    .dataframe thead th {\n        text-align: right;\n    }\n</style>\n<table border=\"1\" class=\"dataframe\">\n  <thead>\n    <tr style=\"text-align: right;\">\n      <th></th>\n      <th>url</th>\n      <th>type</th>\n      <th>html</th>\n      <th>error</th>\n    </tr>\n  </thead>\n  <tbody>\n    <tr>\n      <th>2</th>\n      <td>http://www.bopsecrets.org/rexroth/cr/1.htm</td>\n      <td>benign</td>\n      <td>\\n\\n&lt;!DOCTYPE html PUBLIC \"-//W3C//DTD HTML 4....</td>\n      <td></td>\n    </tr>\n    <tr>\n      <th>6</th>\n      <td>http://www.espn.go.com/nba/player/_/id/3457/br...</td>\n      <td>benign</td>\n      <td>\\n        &lt;!doctype html&gt;\\n        &lt;html lang=...</td>\n      <td></td>\n    </tr>\n    <tr>\n      <th>9</th>\n      <td>http://www.allmusic.com/album/crazy-from-the-h...</td>\n      <td>benign</td>\n      <td>&lt;!DOCTYPE html&gt;\\n&lt;html lang=\"en\"&gt;\\n&lt;head&gt;\\n   ...</td>\n      <td></td>\n    </tr>\n    <tr>\n      <th>12</th>\n      <td>http://www.myspace.com/video/vid/30602581</td>\n      <td>benign</td>\n      <td>&lt;!DOCTYPE html&gt;\\n&lt;!-- videodetail --&gt;\\n&lt;!-- a0...</td>\n      <td></td>\n    </tr>\n    <tr>\n      <th>19</th>\n      <td>http://www.vnic.co/khach-hang.html</td>\n      <td>defacement</td>\n      <td>\\r\\n\\r\\n\\r\\n\\r\\n&lt;!DOCTYPE html PUBLIC \"-//W3C/...</td>\n      <td></td>\n    </tr>\n  </tbody>\n</table>\n</div>"
     },
     "execution_count": 3,
     "metadata": {},
     "output_type": "execute_result"
    }
   ],
   "source": [
    "data = pd.concat(data_parts)\n",
    "print(data.shape)\n",
    "data.to_parquet('./data/100_html_data.parquet')\n",
    "data.head()"
   ],
   "metadata": {
    "collapsed": false
   }
  },
  {
   "cell_type": "code",
   "execution_count": 4,
   "outputs": [
    {
     "data": {
      "text/plain": "80"
     },
     "execution_count": 4,
     "metadata": {},
     "output_type": "execute_result"
    }
   ],
   "source": [
    "del data_parts\n",
    "gc.collect()"
   ],
   "metadata": {
    "collapsed": false
   }
  },
  {
   "cell_type": "code",
   "execution_count": 6,
   "outputs": [
    {
     "data": {
      "text/plain": "(19936, 4)"
     },
     "execution_count": 6,
     "metadata": {},
     "output_type": "execute_result"
    }
   ],
   "source": [
    "data = data[data['html'].str.len() >= 10000]\n",
    "data.shape"
   ],
   "metadata": {
    "collapsed": false
   }
  },
  {
   "cell_type": "code",
   "execution_count": 7,
   "outputs": [
    {
     "data": {
      "text/plain": "label\n0    17387\n1     2549\nName: count, dtype: int64"
     },
     "execution_count": 7,
     "metadata": {},
     "output_type": "execute_result"
    }
   ],
   "source": [
    "data['label'] = data['type'].apply(lambda x: 0 if x == 'benign' else 1)\n",
    "data['label'].value_counts()"
   ],
   "metadata": {
    "collapsed": false
   }
  },
  {
   "cell_type": "code",
   "execution_count": 9,
   "outputs": [
    {
     "data": {
      "text/plain": "label\n0    0.872141\n1    0.127859\nName: proportion, dtype: float64"
     },
     "execution_count": 9,
     "metadata": {},
     "output_type": "execute_result"
    }
   ],
   "source": [
    "data['label'].value_counts(normalize=True)"
   ],
   "metadata": {
    "collapsed": false
   }
  },
  {
   "cell_type": "code",
   "execution_count": 8,
   "outputs": [],
   "source": [
    "data.to_parquet('./data/100_html_data_filtered.parquet')"
   ],
   "metadata": {
    "collapsed": false
   }
  },
  {
   "cell_type": "markdown",
   "source": [
    "Currently proportion of benign and malicious samples is 0.87:0.13. We will try to balance it by first undersampling benign samples down to 10000 samples and then we will extract other 7500 samples from other unloaded data parts."
   ],
   "metadata": {
    "collapsed": false
   }
  },
  {
   "cell_type": "code",
   "execution_count": 12,
   "outputs": [
    {
     "data": {
      "text/plain": "(10000, 5)"
     },
     "execution_count": 12,
     "metadata": {},
     "output_type": "execute_result"
    }
   ],
   "source": [
    "benign_data = data[data['label'] == 0].sample(10000)\n",
    "benign_data.to_parquet('./data/10000_benign_data.parquet')\n",
    "benign_data.shape"
   ],
   "metadata": {
    "collapsed": false
   }
  },
  {
   "cell_type": "code",
   "execution_count": 13,
   "outputs": [
    {
     "data": {
      "text/plain": "(2549, 5)"
     },
     "execution_count": 13,
     "metadata": {},
     "output_type": "execute_result"
    }
   ],
   "source": [
    "malicious_data = data[data['label'] == 1]\n",
    "malicious_data.shape"
   ],
   "metadata": {
    "collapsed": false
   }
  },
  {
   "cell_type": "code",
   "execution_count": 18,
   "outputs": [],
   "source": [
    "malicious_data.to_parquet('./data/2500_malicious_data.parquet')"
   ],
   "metadata": {
    "collapsed": false
   }
  },
  {
   "cell_type": "code",
   "execution_count": 14,
   "outputs": [
    {
     "data": {
      "text/plain": "27"
     },
     "execution_count": 14,
     "metadata": {},
     "output_type": "execute_result"
    }
   ],
   "source": [
    "del benign_data\n",
    "del data\n",
    "gc.collect()"
   ],
   "metadata": {
    "collapsed": false
   }
  },
  {
   "cell_type": "markdown",
   "source": [
    "Now we will load other data parts and extract 7500 samples to balance the dataset."
   ],
   "metadata": {
    "collapsed": false
   }
  },
  {
   "cell_type": "code",
   "execution_count": 1,
   "outputs": [
    {
     "data": {
      "text/plain": "(2549, 5)"
     },
     "execution_count": 1,
     "metadata": {},
     "output_type": "execute_result"
    }
   ],
   "source": [
    "import pandas as pd\n",
    "from glob import glob\n",
    "from tqdm import tqdm\n",
    "import gc\n",
    "\n",
    "malicious_data = pd.read_parquet('./data/2500_malicious_data.parquet')\n",
    "malicious_data.shape"
   ],
   "metadata": {
    "collapsed": false
   }
  },
  {
   "cell_type": "code",
   "execution_count": 3,
   "outputs": [
    {
     "name": "stderr",
     "output_type": "stream",
     "text": [
      "100%|██████████| 552/552 [01:33<00:00,  5.92it/s]\n"
     ]
    }
   ],
   "source": [
    "data_parts = []\n",
    "for file in tqdm(glob('./data/data_parts/*.parquet')[100:]):\n",
    "    try:\n",
    "        part = pd.read_parquet(file)\n",
    "        part = part[part['html'].str.len() >= 10000]\n",
    "        part = part[part['type'] != 'benign']\n",
    "        data_parts.append(part)\n",
    "        del part\n",
    "        gc.collect()\n",
    "    except Exception as e:\n",
    "        print(f'Error reading file {file}: {e}')"
   ],
   "metadata": {
    "collapsed": false
   }
  },
  {
   "cell_type": "code",
   "execution_count": 4,
   "outputs": [
    {
     "data": {
      "text/plain": "(12380, 4)"
     },
     "execution_count": 4,
     "metadata": {},
     "output_type": "execute_result"
    }
   ],
   "source": [
    "data = pd.concat(data_parts)\n",
    "data.shape"
   ],
   "metadata": {
    "collapsed": false
   }
  },
  {
   "cell_type": "code",
   "execution_count": 5,
   "outputs": [],
   "source": [
    "del data_parts"
   ],
   "metadata": {
    "collapsed": false
   }
  },
  {
   "cell_type": "code",
   "execution_count": 6,
   "outputs": [
    {
     "data": {
      "text/plain": "(7451, 4)"
     },
     "execution_count": 6,
     "metadata": {},
     "output_type": "execute_result"
    }
   ],
   "source": [
    "data = data.sample(10000 - malicious_data.shape[0])\n",
    "data.shape"
   ],
   "metadata": {
    "collapsed": false
   }
  },
  {
   "cell_type": "code",
   "execution_count": 7,
   "outputs": [
    {
     "data": {
      "text/plain": "(10000, 5)"
     },
     "execution_count": 7,
     "metadata": {},
     "output_type": "execute_result"
    }
   ],
   "source": [
    "malicious_data = pd.concat([malicious_data, data])\n",
    "malicious_data.shape"
   ],
   "metadata": {
    "collapsed": false
   }
  },
  {
   "cell_type": "code",
   "execution_count": 8,
   "outputs": [
    {
     "data": {
      "text/plain": "                                                   url        type  \\\n19                  http://www.vnic.co/khach-hang.html  defacement   \n40   http://www.docs.google.com/spreadsheet/viewfor...    phishing   \n72                     http://www.retajconsultancy.com    phishing   \n162  http://www.familienbund.org/index.php?option=c...  defacement   \n166  http://www.academiedumeuble.ca/index.php?optio...  defacement   \n\n                                                  html error  label  \n19   \\r\\n\\r\\n\\r\\n\\r\\n<!DOCTYPE html PUBLIC \"-//W3C/...          1.0  \n40   <!DOCTYPE html><html lang=\"ru\" class=\"HB1eCd-U...          1.0  \n72   <!DOCTYPE html><html lang=\"en\"><head><link hre...          1.0  \n162  <!DOCTYPE html PUBLIC \"-//W3C//DTD XHTML+RDFa ...          1.0  \n166  <!DOCTYPE html>\\n<html lang=\"fr-FR\">\\n<head>\\n...          1.0  ",
      "text/html": "<div>\n<style scoped>\n    .dataframe tbody tr th:only-of-type {\n        vertical-align: middle;\n    }\n\n    .dataframe tbody tr th {\n        vertical-align: top;\n    }\n\n    .dataframe thead th {\n        text-align: right;\n    }\n</style>\n<table border=\"1\" class=\"dataframe\">\n  <thead>\n    <tr style=\"text-align: right;\">\n      <th></th>\n      <th>url</th>\n      <th>type</th>\n      <th>html</th>\n      <th>error</th>\n      <th>label</th>\n    </tr>\n  </thead>\n  <tbody>\n    <tr>\n      <th>19</th>\n      <td>http://www.vnic.co/khach-hang.html</td>\n      <td>defacement</td>\n      <td>\\r\\n\\r\\n\\r\\n\\r\\n&lt;!DOCTYPE html PUBLIC \"-//W3C/...</td>\n      <td></td>\n      <td>1.0</td>\n    </tr>\n    <tr>\n      <th>40</th>\n      <td>http://www.docs.google.com/spreadsheet/viewfor...</td>\n      <td>phishing</td>\n      <td>&lt;!DOCTYPE html&gt;&lt;html lang=\"ru\" class=\"HB1eCd-U...</td>\n      <td></td>\n      <td>1.0</td>\n    </tr>\n    <tr>\n      <th>72</th>\n      <td>http://www.retajconsultancy.com</td>\n      <td>phishing</td>\n      <td>&lt;!DOCTYPE html&gt;&lt;html lang=\"en\"&gt;&lt;head&gt;&lt;link hre...</td>\n      <td></td>\n      <td>1.0</td>\n    </tr>\n    <tr>\n      <th>162</th>\n      <td>http://www.familienbund.org/index.php?option=c...</td>\n      <td>defacement</td>\n      <td>&lt;!DOCTYPE html PUBLIC \"-//W3C//DTD XHTML+RDFa ...</td>\n      <td></td>\n      <td>1.0</td>\n    </tr>\n    <tr>\n      <th>166</th>\n      <td>http://www.academiedumeuble.ca/index.php?optio...</td>\n      <td>defacement</td>\n      <td>&lt;!DOCTYPE html&gt;\\n&lt;html lang=\"fr-FR\"&gt;\\n&lt;head&gt;\\n...</td>\n      <td></td>\n      <td>1.0</td>\n    </tr>\n  </tbody>\n</table>\n</div>"
     },
     "execution_count": 8,
     "metadata": {},
     "output_type": "execute_result"
    }
   ],
   "source": [
    "malicious_data.head()"
   ],
   "metadata": {
    "collapsed": false
   }
  },
  {
   "cell_type": "code",
   "execution_count": 9,
   "outputs": [],
   "source": [
    "malicious_data.to_parquet('./data/10000_malicious_data.parquet')"
   ],
   "metadata": {
    "collapsed": false
   }
  },
  {
   "cell_type": "code",
   "execution_count": 10,
   "outputs": [],
   "source": [
    "benign_data = pd.read_parquet('./data/10000_benign_data.parquet')\n",
    "malicious_data = pd.read_parquet('./data/10000_malicious_data.parquet')"
   ],
   "metadata": {
    "collapsed": false
   }
  },
  {
   "cell_type": "code",
   "execution_count": 11,
   "outputs": [
    {
     "data": {
      "text/plain": "(20000, 5)"
     },
     "execution_count": 11,
     "metadata": {},
     "output_type": "execute_result"
    }
   ],
   "source": [
    "data = pd.concat([benign_data, malicious_data])\n",
    "data.shape"
   ],
   "metadata": {
    "collapsed": false
   }
  },
  {
   "cell_type": "code",
   "execution_count": 12,
   "outputs": [
    {
     "data": {
      "text/plain": "label\n0    10000\n1    10000\nName: count, dtype: int64"
     },
     "execution_count": 12,
     "metadata": {},
     "output_type": "execute_result"
    }
   ],
   "source": [
    "data['label'] = data['type'].apply(lambda x: 0 if x == 'benign' else 1)\n",
    "data['label'].value_counts()"
   ],
   "metadata": {
    "collapsed": false
   }
  },
  {
   "cell_type": "code",
   "execution_count": 13,
   "outputs": [
    {
     "data": {
      "text/plain": "label\n0    0.5\n1    0.5\nName: proportion, dtype: float64"
     },
     "execution_count": 13,
     "metadata": {},
     "output_type": "execute_result"
    }
   ],
   "source": [
    "data['label'].value_counts(normalize=True)"
   ],
   "metadata": {
    "collapsed": false
   }
  },
  {
   "cell_type": "code",
   "execution_count": 14,
   "outputs": [],
   "source": [
    "data.to_parquet('./data/20000_html_data_balanced.parquet')"
   ],
   "metadata": {
    "collapsed": false
   }
  },
  {
   "cell_type": "code",
   "execution_count": null,
   "outputs": [],
   "source": [],
   "metadata": {
    "collapsed": false
   }
  }
 ],
 "metadata": {
  "kernelspec": {
   "display_name": "Python 3",
   "language": "python",
   "name": "python3"
  },
  "language_info": {
   "codemirror_mode": {
    "name": "ipython",
    "version": 2
   },
   "file_extension": ".py",
   "mimetype": "text/x-python",
   "name": "python",
   "nbconvert_exporter": "python",
   "pygments_lexer": "ipython2",
   "version": "2.7.6"
  }
 },
 "nbformat": 4,
 "nbformat_minor": 0
}
